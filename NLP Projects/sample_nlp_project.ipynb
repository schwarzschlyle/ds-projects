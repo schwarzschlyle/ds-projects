{
  "cells": [
    {
      "cell_type": "markdown",
      "id": "0a762687-8aaa-4c6d-9e0e-253e67a79ea4",
      "metadata": {
        "id": "0a762687-8aaa-4c6d-9e0e-253e67a79ea4"
      },
      "source": []
    },
    {
      "cell_type": "markdown",
      "id": "70e55953-feb4-499b-9861-a42d1eb942fc",
      "metadata": {
        "id": "70e55953-feb4-499b-9861-a42d1eb942fc"
      },
      "source": []
    },
    {
      "cell_type": "code",
      "execution_count": null,
      "id": "0f2b61ba-2d0d-492d-8441-8212b99bb606",
      "metadata": {
        "id": "0f2b61ba-2d0d-492d-8441-8212b99bb606"
      },
      "outputs": [],
      "source": [
        "# This tells matplotlib not to try opening a new window for each plot.\n",
        "# DO NOT EDIT THIS BLOCK.\n",
        "%matplotlib inline\n",
        "\n",
        "# General libraries.\n",
        "import re\n",
        "import numpy as np\n",
        "import matplotlib.pyplot as plt\n",
        "\n",
        "# SK-learn libraries for learning.\n",
        "from sklearn.pipeline import Pipeline\n",
        "from sklearn.neighbors import KNeighborsClassifier\n",
        "from sklearn.linear_model import LogisticRegression\n",
        "from sklearn.naive_bayes import BernoulliNB\n",
        "from sklearn.naive_bayes import MultinomialNB\n",
        "\n",
        "# SK-learn libraries for evaluation.\n",
        "from sklearn.metrics import confusion_matrix\n",
        "from sklearn import metrics\n",
        "from sklearn.metrics import classification_report\n",
        "\n",
        "# SK-learn library for importing the newsgroup data.\n",
        "from sklearn.datasets import fetch_20newsgroups\n",
        "\n",
        "# SK-learn libraries for feature extraction from text.\n",
        "from sklearn.feature_extraction.text import *\n",
        "\n",
        "import nltk"
      ]
    },
    {
      "cell_type": "code",
      "execution_count": null,
      "id": "9ecd64a3-0330-4b64-937a-b4c18494168b",
      "metadata": {
        "id": "9ecd64a3-0330-4b64-937a-b4c18494168b",
        "outputId": "8ca9c48d-1ebb-4cc8-d0c9-c0241c9e1d03"
      },
      "outputs": [
        {
          "name": "stdout",
          "output_type": "stream",
          "text": [
            "training label shape: (2034,)\n",
            "dev label shape: (676,)\n",
            "test label shape: (677,)\n",
            "labels names: ['alt.atheism', 'comp.graphics', 'sci.space', 'talk.religion.misc']\n"
          ]
        }
      ],
      "source": [
        "# Here we set up some datasets for evaluation purposes, do not edit this code or edit these blocks. \n",
        "\n",
        "categories = ['alt.atheism', 'talk.religion.misc', 'comp.graphics', 'sci.space']\n",
        "newsgroups_train = fetch_20newsgroups(subset='train',\n",
        "                                      remove=('headers', 'footers', 'quotes'),\n",
        "                                      categories=categories)\n",
        "newsgroups_test  = fetch_20newsgroups(subset='test',\n",
        "                                      remove=('headers', 'footers', 'quotes'),\n",
        "                                      categories=categories)\n",
        "\n",
        "num_test = int(len(newsgroups_test.target) / 2)\n",
        "test_data, test_labels   = newsgroups_test.data[num_test:], newsgroups_test.target[num_test:]\n",
        "dev_data, dev_labels     = newsgroups_test.data[:num_test], newsgroups_test.target[:num_test]\n",
        "train_data, train_labels = newsgroups_train.data, newsgroups_train.target\n",
        "\n",
        "print('training label shape:', train_labels.shape)\n",
        "print('dev label shape:',      dev_labels.shape)\n",
        "print('test label shape:',     test_labels.shape)\n",
        "print('labels names:',         newsgroups_train.target_names)"
      ]
    },
    {
      "cell_type": "markdown",
      "id": "4cf4d184-9cf4-4a12-9683-625a8172c836",
      "metadata": {
        "id": "4cf4d184-9cf4-4a12-9683-625a8172c836"
      },
      "source": [
        "## 1.  \n",
        "For each of the first 5 training examples, print the text of the message along with the label."
      ]
    },
    {
      "cell_type": "code",
      "execution_count": null,
      "id": "582265cb",
      "metadata": {
        "id": "582265cb"
      },
      "outputs": [],
      "source": [
        "### START ###"
      ]
    },
    {
      "cell_type": "markdown",
      "id": "51508ea3",
      "metadata": {
        "id": "51508ea3"
      },
      "source": [
        "Throughout the given tasks, I will make extensive use of new cells to clearly go over my thought processes and neatly elucidate necessary steps. For the purposes of pedagogy, the variables are being dynamically redefined. If needed, please recompile the code from top-to-bottom."
      ]
    },
    {
      "cell_type": "markdown",
      "id": "833489f9",
      "metadata": {
        "id": "833489f9"
      },
      "source": [
        "# Corpus Exploration\n",
        "Step objective: Get to know the data sets. "
      ]
    },
    {
      "cell_type": "markdown",
      "id": "3d480917",
      "metadata": {
        "id": "3d480917"
      },
      "source": [
        "Both train and test data sets have the same structure, obviously. Moreover, the newgroups test data set have been divided into two parts: test and dev data set."
      ]
    },
    {
      "cell_type": "code",
      "execution_count": null,
      "id": "4b4c17bd-455c-4a0b-b96e-155b80ceb817",
      "metadata": {
        "id": "4b4c17bd-455c-4a0b-b96e-155b80ceb817",
        "outputId": "bc0979ce-c8e3-42fa-c32f-3b34c531ced7"
      },
      "outputs": [
        {
          "name": "stdout",
          "output_type": "stream",
          "text": [
            "Keys of dataset: \n",
            "dict_keys(['data', 'filenames', 'target_names', 'target', 'DESCR'])\n",
            "Keys of dataset: \n",
            "dict_keys(['data', 'filenames', 'target_names', 'target', 'DESCR'])\n",
            "1353\n"
          ]
        }
      ],
      "source": [
        "print(\"Keys of dataset: \\n{}\".format(newsgroups_train.keys()))\n",
        "print(\"Keys of dataset: \\n{}\".format(newsgroups_test.keys()))\n",
        "print(len(newsgroups_test.target))"
      ]
    },
    {
      "cell_type": "markdown",
      "id": "35814d55",
      "metadata": {
        "id": "35814d55"
      },
      "source": [
        "Let's get to know briefly what our data set is all about:"
      ]
    },
    {
      "cell_type": "code",
      "execution_count": null,
      "id": "4c0c5fb1",
      "metadata": {
        "id": "4c0c5fb1",
        "outputId": "e817ac1a-0c44-4003-be74-bbaa8f1780f3"
      },
      "outputs": [
        {
          "name": "stdout",
          "output_type": "stream",
          "text": [
            ".. _20newsgroups_dataset:\n",
            "\n",
            "The 20 newsgroups text dataset\n",
            "------------------------------\n",
            "\n",
            "The 20 newsgroups dataset comprises around 18000 newsgroups posts on\n",
            "20 topics split in two subsets: one for training (or development)\n",
            "and the other one for testing (or for performance evaluation). The split\n",
            "be\n",
            "...\n"
          ]
        }
      ],
      "source": [
        "print(newsgroups_train['DESCR'][:300] + \"\\n...\")"
      ]
    },
    {
      "cell_type": "markdown",
      "id": "6e2e9950",
      "metadata": {
        "id": "6e2e9950"
      },
      "source": [
        "We are dealing with newsgroups on different topics with given test-train data division. This gives us some idea or overview that the tasks ahead are of the supervised classification nature. What do we need to classify (data) and what are the classifications (target)? An example post would look like the following:"
      ]
    },
    {
      "cell_type": "code",
      "execution_count": null,
      "id": "06ff74f9",
      "metadata": {
        "id": "06ff74f9",
        "outputId": "37c37dd3-10f8-4512-dc02-05fb4a71db3b"
      },
      "outputs": [
        {
          "name": "stdout",
          "output_type": "stream",
          "text": [
            "Hi,\n",
            "\n",
            "I've noticed that if you only save a model (with all your mapping planes\n",
            "positioned carefully) to a .3DS file that when you reload it after restarting\n",
            "3DS, they are given a default position and orientation.  But if you save\n",
            "to a .PRJ file their positions/orientation are preserved.  Does anyone\n",
            "know why this information is not stored in the .3DS file?  Nothing is\n",
            "explicitly said in the manual about saving texture rules in the .PRJ file. \n",
            "I'd like to be able to read the texture rule information, does anyone have \n",
            "the format for the .PRJ file?\n",
            "\n",
            "Is the .CEL file format available from somewhere?\n",
            "\n",
            "Rych\n",
            "...\n"
          ]
        }
      ],
      "source": [
        "print(newsgroups_train['data'][0] + \"\\n...\")"
      ]
    },
    {
      "cell_type": "markdown",
      "id": "b14132d1",
      "metadata": {
        "id": "b14132d1"
      },
      "source": [
        "where we are tasked to classify this from the following target names:"
      ]
    },
    {
      "cell_type": "code",
      "execution_count": null,
      "id": "bdf62467",
      "metadata": {
        "id": "bdf62467",
        "outputId": "babbf03e-9403-435f-ff46-9a8a00f63f7a"
      },
      "outputs": [
        {
          "name": "stdout",
          "output_type": "stream",
          "text": [
            "Target names: ['alt.atheism', 'comp.graphics', 'sci.space', 'talk.religion.misc']\n"
          ]
        }
      ],
      "source": [
        "print(\"Target names: {}\".format(newsgroups_train['target_names']))"
      ]
    },
    {
      "cell_type": "markdown",
      "id": "e77106d9",
      "metadata": {
        "id": "e77106d9"
      },
      "source": [
        "By eyeballing, we can see that this must be classified in the domain of comp.graphics. Hence, we are tasked to derive ML models to automate these for any arbitrary posts. This gives us the data that we will be dealing with NLP methods. Well, of course we already have classifications for our training data set. This is neatly encoded into the target data:"
      ]
    },
    {
      "cell_type": "code",
      "execution_count": null,
      "id": "477d50aa",
      "metadata": {
        "id": "477d50aa",
        "outputId": "0a692f0f-7184-4282-ce93-670a06ea536c"
      },
      "outputs": [
        {
          "name": "stdout",
          "output_type": "stream",
          "text": [
            "Target:\n",
            "[1 3 2 0 2 0 2 1 2 1 2 1 1 2 1 2 0 2 2 3 2 1 3 3 1 1 2 1 2 3 0 3 1 1 0 2 0\n",
            " 1 0 2 0 2 0 1 1 0 0 3 3 3]\n"
          ]
        }
      ],
      "source": [
        "print('Target:\\n{}'.format(newsgroups_train['target'][:50])) # first 50 target data\n",
        "\n",
        "# Observe that our eyeballing of the article being a comp.graphics classification (index [1]) is validated."
      ]
    },
    {
      "cell_type": "markdown",
      "id": "9858760c",
      "metadata": {
        "id": "9858760c"
      },
      "source": [
        "Let us culminate our brief exploration by executing the required task. We are tasked to instantiate the first five articles together with their labels. To avoid clutter, we will be executing this into seperate cells."
      ]
    },
    {
      "cell_type": "markdown",
      "id": "81e87ded",
      "metadata": {
        "id": "81e87ded"
      },
      "source": [
        "### Article 1"
      ]
    },
    {
      "cell_type": "code",
      "execution_count": null,
      "id": "15dfe191",
      "metadata": {
        "id": "15dfe191",
        "outputId": "67c3adc0-d3a2-445f-d1ef-dc78dc467490"
      },
      "outputs": [
        {
          "name": "stdout",
          "output_type": "stream",
          "text": [
            "Article #1. Label: comp.graphics\n",
            "Hi,\n",
            "\n",
            "I've noticed that if you only save a model (with all your mapping planes\n",
            "positioned carefully) to a .3DS file that when you reload it after restarting\n",
            "3DS, they are given a default position and orientation.  But if you save\n",
            "to a .PRJ file their positions/orientation are preserved.  Does anyone\n",
            "know why this information is not stored in the .3DS file?  Nothing is\n",
            "explicitly said in the manual about saving texture rules in the .PRJ file. \n",
            "I'd like to be able to read the texture rule information, does anyone have \n",
            "the format for the .PRJ file?\n",
            "\n",
            "Is the .CEL file format available from somewhere?\n",
            "\n",
            "Rych\n",
            "...\n"
          ]
        }
      ],
      "source": [
        "print(\"Article #1. Label: {}\".format(newsgroups_train['target_names'][newsgroups_train['target'][0]]) \n",
        "      + \"\\n\" + newsgroups_train['data'][0] + \"\\n...\")"
      ]
    },
    {
      "cell_type": "markdown",
      "id": "08131d26",
      "metadata": {
        "id": "08131d26"
      },
      "source": [
        "### Article 2"
      ]
    },
    {
      "cell_type": "code",
      "execution_count": null,
      "id": "a19fdd1a",
      "metadata": {
        "id": "a19fdd1a",
        "outputId": "56fa7a9b-beff-475b-f9cf-06a30b15dd20"
      },
      "outputs": [
        {
          "name": "stdout",
          "output_type": "stream",
          "text": [
            "Article #2. Label: talk.religion.misc\n",
            "\n",
            "\n",
            "Seems to be, barring evidence to the contrary, that Koresh was simply\n",
            "another deranged fanatic who thought it neccessary to take a whole bunch of\n",
            "folks with him, children and all, to satisfy his delusional mania. Jim\n",
            "Jones, circa 1993.\n",
            "\n",
            "\n",
            "Nope - fruitcakes like Koresh have been demonstrating such evil corruption\n",
            "for centuries.\n",
            "...\n"
          ]
        }
      ],
      "source": [
        "print(\"Article #2. Label: {}\".format(newsgroups_train['target_names'][newsgroups_train['target'][1]])\n",
        "          + \"\\n\" + newsgroups_train['data'][1] + \"\\n...\")"
      ]
    },
    {
      "cell_type": "markdown",
      "id": "b49791ee",
      "metadata": {
        "id": "b49791ee"
      },
      "source": [
        "### Article 3"
      ]
    },
    {
      "cell_type": "code",
      "execution_count": null,
      "id": "15c52c04",
      "metadata": {
        "id": "15c52c04",
        "outputId": "33b3280b-016a-49ae-c498-0d35894ea7f8"
      },
      "outputs": [
        {
          "name": "stdout",
          "output_type": "stream",
          "text": [
            "Article #3. Label: sci.space\n",
            "\n",
            " >In article <1993Apr19.020359.26996@sq.sq.com>, msb@sq.sq.com (Mark Brader) \n",
            "\n",
            "MB>                                                             So the\n",
            "MB> 1970 figure seems unlikely to actually be anything but a perijove.\n",
            "\n",
            "JG>Sorry, _perijoves_...I'm not used to talking this language.\n",
            "\n",
            "Couldn't we just say periapsis or apoapsis?\n",
            "\n",
            " \n",
            "...\n"
          ]
        }
      ],
      "source": [
        "print(\"Article #3. Label: {}\".format(newsgroups_train['target_names'][newsgroups_train['target'][2]])\n",
        "         + \"\\n\" + newsgroups_train['data'][2] + \"\\n...\")"
      ]
    },
    {
      "cell_type": "markdown",
      "id": "351d4fc7",
      "metadata": {
        "id": "351d4fc7"
      },
      "source": [
        "### Article 4"
      ]
    },
    {
      "cell_type": "code",
      "execution_count": null,
      "id": "acba130d",
      "metadata": {
        "id": "acba130d",
        "outputId": "c596bdb4-e5f8-45d7-fc53-b11087c5b118"
      },
      "outputs": [
        {
          "name": "stdout",
          "output_type": "stream",
          "text": [
            "Article #4. Label: alt.atheism\n",
            "I have a request for those who would like to see Charley Wingate\n",
            "respond to the \"Charley Challenges\" (and judging from my e-mail, there\n",
            "appear to be quite a few of you.)  \n",
            "\n",
            "It is clear that Mr. Wingate intends to continue to post tangential or\n",
            "unrelated articles while ingoring the Challenges themselves.  Between\n",
            "the last two re-postings of the Challenges, I noted perhaps a dozen or\n",
            "more posts by Mr. Wingate, none of which answered a single Challenge.  \n",
            "\n",
            "It seems unmistakable to me that Mr. Wingate hopes that the questions\n",
            "will just go away, and he is doing his level best to change the\n",
            "subject.  Given that this seems a rather common net.theist tactic, I\n",
            "would like to suggest that we impress upon him our desire for answers,\n",
            "in the following manner:\n",
            "\n",
            "1. Ignore any future articles by Mr. Wingate that do not address the\n",
            "Challenges, until he answers them or explictly announces that he\n",
            "refuses to do so.\n",
            "\n",
            "--or--\n",
            "\n",
            "2. If you must respond to one of his articles, include within it\n",
            "something similar to the following:\n",
            "\n",
            "    \"Please answer the questions posed to you in the Charley Challenges.\"\n",
            "\n",
            "Really, I'm not looking to humiliate anyone here, I just want some\n",
            "honest answers.  You wouldn't think that honesty would be too much to\n",
            "ask from a devout Christian, would you?  \n",
            "\n",
            "Nevermind, that was a rhetorical question.\n",
            "...\n"
          ]
        }
      ],
      "source": [
        "print(\"Article #4. Label: {}\".format(newsgroups_train['target_names'][newsgroups_train['target'][3]])\n",
        "         + \"\\n\" + newsgroups_train['data'][3] + \"\\n...\")"
      ]
    },
    {
      "cell_type": "markdown",
      "id": "3f96d449",
      "metadata": {
        "id": "3f96d449"
      },
      "source": [
        "### Article 5"
      ]
    },
    {
      "cell_type": "code",
      "execution_count": null,
      "id": "4a7f7450",
      "metadata": {
        "id": "4a7f7450",
        "outputId": "670bcc41-69c5-4384-8c7c-237d0878e786"
      },
      "outputs": [
        {
          "name": "stdout",
          "output_type": "stream",
          "text": [
            "Article #5. Label: sci.space\n",
            "AW&ST  had a brief blurb on a Manned Lunar Exploration confernce\n",
            "May 7th  at Crystal City Virginia, under the auspices of AIAA.\n",
            "\n",
            "Does anyone know more about this?  How much, to attend????\n",
            "\n",
            "Anyone want to go?\n",
            "...\n"
          ]
        }
      ],
      "source": [
        "print(\"Article #5. Label: {}\".format(newsgroups_train['target_names'][newsgroups_train['target'][4]])\n",
        "          + \"\\n\"+ newsgroups_train['data'][4] + \"\\n...\")"
      ]
    },
    {
      "cell_type": "markdown",
      "id": "8aaee0cb",
      "metadata": {
        "id": "8aaee0cb"
      },
      "source": [
        "Cool. Now, we know what our data set looks like. Our next tasks would be to transform these into something workable with via vectorizations."
      ]
    },
    {
      "cell_type": "code",
      "execution_count": null,
      "id": "e2ab17c1",
      "metadata": {
        "id": "e2ab17c1"
      },
      "outputs": [],
      "source": [
        "### END ###"
      ]
    },
    {
      "cell_type": "markdown",
      "id": "fe636e90-d2fb-4fa9-8681-3c747f618de8",
      "metadata": {
        "id": "fe636e90-d2fb-4fa9-8681-3c747f618de8"
      },
      "source": [
        "## 2.\n",
        "\n",
        "Transform the training data into a matrix of **word** unigram feature vectors.  What is the size of the vocabulary? What is the average number of non-zero features per example?  What is the fraction of the non-zero entries in the matrix?  What are the 0th and last feature strings (in alphabetical order)?<br/>\n",
        "_Use `CountVectorization` and its `.fit_transform` method.  Use `.nnz` and `.shape` attributes, and `.get_feature_names` method._\n",
        "\n",
        "Now transform the training data into a matrix of **character** bigram and trigram feature vectors.  What is the size of the vocabulary?<br/>\n",
        "_Use `CountVectorization(analyzer=..., ngram_range=...)` and its `.fit_transform` method._\n",
        "\n",
        "Now transform the training data into a matrix of **word** unigram feature vectors and prune words that appear in fewer than 10 documents.  What is the size of the vocabulary?<br/>\n",
        "_Use `CountVectorization(min_df=...)` and its `.fit_transform` method._\n",
        "\n",
        "Now again transform the training data into a matrix of **word** unigram feature vectors. What is the fraction of words in the development vocabulary that is missing from the training vocabulary?<br/>\n",
        "\n"
      ]
    },
    {
      "cell_type": "markdown",
      "id": "913565de",
      "metadata": {
        "id": "913565de"
      },
      "source": [
        "# Vectorization\n",
        "Step objective: Apply NLP basic methods of tokenization, vocabulary building, and encoding."
      ]
    },
    {
      "cell_type": "code",
      "execution_count": null,
      "id": "c8960bae",
      "metadata": {
        "id": "c8960bae"
      },
      "outputs": [],
      "source": [
        "### START ###"
      ]
    },
    {
      "cell_type": "markdown",
      "id": "b47d0a89",
      "metadata": {
        "id": "b47d0a89"
      },
      "source": [
        "Now, what we shall do is to transform the training data into feature vectors. The simplest transformation is a simple unigram tokenization. Typically, we start by dividing data sets into training and testing data first by 75-25 rule of thumb. However, we are already given such divisions. We can directly tokenize via CountVectorizer method. We can represent the corpus as an m x n matrix of word frequencies."
      ]
    },
    {
      "cell_type": "code",
      "execution_count": null,
      "id": "05a56f39",
      "metadata": {
        "id": "05a56f39",
        "outputId": "29ef8c81-01ac-4edc-9290-79933ac57349"
      },
      "outputs": [
        {
          "name": "stdout",
          "output_type": "stream",
          "text": [
            "Matrix representation of corpus:\n",
            "[[0 0 0 ... 0 0 0]\n",
            " [0 0 0 ... 0 0 0]\n",
            " [0 0 0 ... 0 0 0]\n",
            " [0 0 0 ... 0 0 0]\n",
            " [0 0 0 ... 0 0 0]]\n",
            "Vocabulary size: (2034, 26879)\n",
            "Total matrix size: 54671886\n"
          ]
        }
      ],
      "source": [
        "X_train = CountVectorizer().fit_transform(train_data)\n",
        "y_train = train_labels\n",
        "array_rep = X_train.toarray()\n",
        "print(\"Matrix representation of corpus:\\n{}\".format(\n",
        " array_rep[:5]))\n",
        "print(\"Vocabulary size: {}\".format(X_train.shape))\n",
        "matrix_size = X_train.shape[0] * X_train.shape[1]\n",
        "print(\"Total matrix size: {}\".format(matrix_size))"
      ]
    },
    {
      "cell_type": "markdown",
      "id": "8dbe1e91",
      "metadata": {
        "id": "8dbe1e91"
      },
      "source": [
        "Observe that the matrix representation is enormous with total placeholders of 54,671,885 - almost 55 million. However, the vocabulary size is composed only of 26,879 features. Hence, most of the matrix entries would be zeros as observed from the above sample representation. To find the average number of non-zero entries, we can use the nnz method as follows:"
      ]
    },
    {
      "cell_type": "code",
      "execution_count": null,
      "id": "4f934ac7",
      "metadata": {
        "id": "4f934ac7",
        "outputId": "257195ae-b4c9-4a16-a487-46ce95b84ada"
      },
      "outputs": [
        {
          "name": "stdout",
          "output_type": "stream",
          "text": [
            "96.70599803343165\n"
          ]
        }
      ],
      "source": [
        "average = X_train.nnz/X_train.shape[0]\n",
        "print(average)"
      ]
    },
    {
      "cell_type": "markdown",
      "id": "496a73b9",
      "metadata": {
        "id": "496a73b9"
      },
      "source": [
        "Hence, on average, there are about 97 unique words per entry. To find the fraction of non-zero entries, we can use the nnz method as follows:"
      ]
    },
    {
      "cell_type": "code",
      "execution_count": null,
      "id": "24245194",
      "metadata": {
        "id": "24245194",
        "outputId": "4b3a4fee-9ce3-49a6-dbd7-58b532d9f896"
      },
      "outputs": [
        {
          "name": "stdout",
          "output_type": "stream",
          "text": [
            "Fraction of nonzero entries: 0.0035978272269590263\n",
            "Percentage of nonzero entries: 0.3597827226959026 %\n"
          ]
        }
      ],
      "source": [
        "non_zero_entries = X_train.nnz\n",
        "print(\"Fraction of nonzero entries: {}\".format(non_zero_entries/(matrix_size)))\n",
        "print(\"Percentage of nonzero entries: {}\".format(100*(non_zero_entries/(matrix_size))) + \" %\")"
      ]
    },
    {
      "cell_type": "markdown",
      "id": "026171db",
      "metadata": {
        "id": "026171db"
      },
      "source": [
        "Only a measely 0.35 % are nonzero entries of the corpus matrix. Finally, we can directly alphabetically arrange features via the following"
      ]
    },
    {
      "cell_type": "code",
      "execution_count": null,
      "id": "4405c9db",
      "metadata": {
        "id": "4405c9db",
        "outputId": "7ef8de21-d7ca-41a2-87ba-70467e09fee1"
      },
      "outputs": [
        {
          "name": "stdout",
          "output_type": "stream",
          "text": [
            "Number of features: 26879\n",
            "First feature: 00\n",
            "Last feature: zyxel\n"
          ]
        }
      ],
      "source": [
        "feature_names = CountVectorizer().fit(train_data).get_feature_names()\n",
        "print(\"Number of features: {}\".format(X_train.shape[1]))\n",
        "print(\"First feature: {}\".format(feature_names[0]))\n",
        "print(\"Last feature: {}\".format(feature_names[-1]))"
      ]
    },
    {
      "cell_type": "markdown",
      "id": "5c875453",
      "metadata": {
        "id": "5c875453"
      },
      "source": [
        "In this alphanumeric arrangement, we are expecting the zero number first and the z letter last which makes sense here. We can construct similar vectorization with character bigrams and trigrams as follows:"
      ]
    },
    {
      "cell_type": "code",
      "execution_count": null,
      "id": "e629b14e",
      "metadata": {
        "id": "e629b14e",
        "outputId": "8999ed6d-8c2b-4980-af75-6ff965ff6a3b"
      },
      "outputs": [
        {
          "name": "stdout",
          "output_type": "stream",
          "text": [
            "Matrix representation of corpus:\n",
            "[[0 0 0 ... 0 0 0]\n",
            " [0 0 0 ... 0 0 0]\n",
            " [0 0 0 ... 0 0 0]\n",
            " [0 0 0 ... 0 0 0]\n",
            " [0 0 0 ... 0 0 0]]\n",
            "Vocabulary size: (2034, 3291)\n",
            "Total matrix size: 6693894\n",
            "Number of features: 3291\n",
            "First feature:i\n",
            "Last feature: þ \n",
            "\b\n"
          ]
        }
      ],
      "source": [
        "X_train = CountVectorizer(ngram_range=(2, 2), analyzer='char').fit_transform(train_data)\n",
        "y_train = train_labels\n",
        "array_rep = X_train.toarray()\n",
        "print(\"Matrix representation of corpus:\\n{}\".format(\n",
        " array_rep[:5]))\n",
        "print(\"Vocabulary size: {}\".format(X_train.shape))\n",
        "matrix_size = X_train.shape[0] * X_train.shape[1]\n",
        "print(\"Total matrix size: {}\".format(matrix_size))\n",
        "\n",
        "feature_names = CountVectorizer(ngram_range=(2, 2), analyzer='char').fit(train_data).get_feature_names()\n",
        "print(\"Number of features: {}\".format(X_train.shape[1]))\n",
        "print(\"First feature: {}\".format(feature_names[0]))\n",
        "print(\"Last feature: {}\".format(feature_names[-1]))\n",
        "\n",
        "first_feat = feature_names[0]\n",
        "print(first_feat[0])"
      ]
    },
    {
      "cell_type": "code",
      "execution_count": null,
      "id": "5b6cf113",
      "metadata": {
        "id": "5b6cf113",
        "outputId": "e963c75a-0723-468a-f76e-72aaccf5ac74"
      },
      "outputs": [
        {
          "name": "stdout",
          "output_type": "stream",
          "text": [
            "Matrix representation of corpus:\n",
            "[[0 0 0 ... 0 0 0]\n",
            " [0 0 0 ... 0 0 0]\n",
            " [0 0 0 ... 0 0 0]\n",
            " [0 0 0 ... 0 0 0]\n",
            " [0 0 0 ... 0 0 0]]\n",
            "Vocabulary size: (2034, 32187)\n",
            "Total matrix size: 65468358\n",
            "Number of features: 32187\n",
            "First feature:ib\n",
            "Last feature: þ h\n",
            " \n"
          ]
        }
      ],
      "source": [
        "X_train = CountVectorizer(ngram_range=(3, 3), analyzer='char').fit_transform(train_data)\n",
        "y_train = train_labels\n",
        "array_rep = X_train.toarray()\n",
        "print(\"Matrix representation of corpus:\\n{}\".format(\n",
        " array_rep[:5]))\n",
        "print(\"Vocabulary size: {}\".format(X_train.shape))\n",
        "matrix_size = X_train.shape[0] * X_train.shape[1]\n",
        "print(\"Total matrix size: {}\".format(matrix_size))\n",
        "\n",
        "feature_names = CountVectorizer(ngram_range=(3, 3), analyzer='char').fit(train_data).get_feature_names()\n",
        "print(\"Number of features: {}\".format(X_train.shape[1]))\n",
        "print(\"First feature: {}\".format(feature_names[0]))\n",
        "print(\"Last feature: {}\".format(feature_names[-1]))\n",
        "\n",
        "last_feat = feature_names[-1]\n",
        "print(last_feat[1])"
      ]
    },
    {
      "cell_type": "markdown",
      "id": "0651c57c",
      "metadata": {
        "id": "0651c57c"
      },
      "source": [
        "Pruning can be directly done via min_df:"
      ]
    },
    {
      "cell_type": "code",
      "execution_count": null,
      "id": "73dd7a33",
      "metadata": {
        "id": "73dd7a33",
        "outputId": "48d02e76-6b6f-406c-93a1-631860fe1561"
      },
      "outputs": [
        {
          "name": "stdout",
          "output_type": "stream",
          "text": [
            "Matrix representation of corpus:\n",
            "[[0 0 0 ... 0 0 0]\n",
            " [0 0 0 ... 0 0 0]\n",
            " [0 0 0 ... 0 0 0]\n",
            " [0 0 0 ... 0 0 0]\n",
            " [0 0 0 ... 0 0 0]]\n",
            "Vocabulary size: (2034, 3064)\n",
            "Total matrix size: 6232176\n",
            "Number of features: 3064\n",
            "First feature: 00\n",
            "Last feature: zip\n"
          ]
        }
      ],
      "source": [
        "X_train = CountVectorizer(min_df = 10).fit_transform(train_data)\n",
        "y_train = train_labels\n",
        "array_rep = X_train.toarray()\n",
        "print(\"Matrix representation of corpus:\\n{}\".format(\n",
        " array_rep[:5]))\n",
        "print(\"Vocabulary size: {}\".format(X_train.shape))\n",
        "matrix_size = X_train.shape[0] * X_train.shape[1]\n",
        "print(\"Total matrix size: {}\".format(matrix_size))\n",
        "\n",
        "feature_names = CountVectorizer(min_df = 10).fit(train_data).get_feature_names()\n",
        "print(\"Number of features: {}\".format(X_train.shape[1]))\n",
        "print(\"First feature: {}\".format(feature_names[0]))\n",
        "print(\"Last feature: {}\".format(feature_names[-1]))\n"
      ]
    },
    {
      "cell_type": "markdown",
      "id": "7f68bfca",
      "metadata": {
        "id": "7f68bfca"
      },
      "source": [
        "Compare this with the original 26879 features and 54,671,886, "
      ]
    },
    {
      "cell_type": "code",
      "execution_count": null,
      "id": "647e75e8",
      "metadata": {
        "id": "647e75e8",
        "outputId": "91e0aa5f-72cc-4772-f47a-9d02ad6d06d1"
      },
      "outputs": [
        {
          "name": "stdout",
          "output_type": "stream",
          "text": [
            "The feature was reduced by: 8.772519582245431 times\n",
            "The matrix elements were reduced by: 8.772519582245431 times\n"
          ]
        }
      ],
      "source": [
        "feature_ratio = 26879 / 3064\n",
        "matrix_ratio = 54671886 / 6232176\n",
        "\n",
        "print(\"The feature was reduced by: {}\".format(feature_ratio) + \" times\")\n",
        "print(\"The matrix elements were reduced by: {}\".format(matrix_ratio) + \" times\")\n"
      ]
    },
    {
      "cell_type": "markdown",
      "id": "9cb124f6",
      "metadata": {
        "id": "9cb124f6"
      },
      "source": [
        "The equality is to be expected since dimensionality reduction was only done on the feature dimension and not on the samples dimension. Now, we can code a side-by-side comparison of train_data and dev_data vectorization."
      ]
    },
    {
      "cell_type": "code",
      "execution_count": null,
      "id": "5d7075d2",
      "metadata": {
        "id": "5d7075d2",
        "outputId": "47d71e80-dacd-49e6-d664-3fe8b0921923"
      },
      "outputs": [
        {
          "name": "stdout",
          "output_type": "stream",
          "text": [
            "Matrix representation of corpus:\n",
            "[[0 0 0 ... 0 0 0]\n",
            " [0 0 0 ... 0 0 0]\n",
            " [0 0 0 ... 0 0 0]\n",
            " [0 0 0 ... 0 0 0]\n",
            " [0 0 0 ... 0 0 0]]\n",
            "Vocabulary size: (2034, 26879)\n",
            "Total matrix size: 54671886\n",
            "Number of features: 26879\n",
            "First feature: 00\n",
            "Last feature: zyxel\n",
            "Matrix representation of corpus:\n",
            "[[0 0 0 ... 0 0 0]\n",
            " [0 0 0 ... 0 0 0]\n",
            " [0 0 0 ... 0 0 0]\n",
            " [0 0 0 ... 0 0 1]\n",
            " [0 0 0 ... 0 0 0]]\n",
            "Vocabulary size: (676, 16246)\n",
            "Total matrix size: 10982296\n",
            "Number of features: 16246\n",
            "First feature: 00\n",
            "Last feature: zyxel\n"
          ]
        }
      ],
      "source": [
        "X_train = CountVectorizer().fit_transform(train_data)\n",
        "y_train = train_labels\n",
        "array_rep = X_train.toarray()\n",
        "print(\"Matrix representation of corpus:\\n{}\".format(\n",
        " array_rep[:5]))\n",
        "print(\"Vocabulary size: {}\".format(X_train.shape))\n",
        "matrix_size = X_train.shape[0] * X_train.shape[1]\n",
        "print(\"Total matrix size: {}\".format(matrix_size))\n",
        "\n",
        "feature_names = CountVectorizer().fit(train_data).get_feature_names()\n",
        "print(\"Number of features: {}\".format(X_train.shape[1]))\n",
        "print(\"First feature: {}\".format(feature_names[0]))\n",
        "print(\"Last feature: {}\".format(feature_names[-1]))\n",
        "\n",
        "X_dev = CountVectorizer().fit_transform(dev_data)\n",
        "y_dev = dev_labels\n",
        "array_rep = X_dev.toarray()\n",
        "print(\"Matrix representation of corpus:\\n{}\".format(\n",
        " array_rep[:5]))\n",
        "print(\"Vocabulary size: {}\".format(X_dev.shape))\n",
        "matrix_size = X_dev.shape[0] * X_dev.shape[1]\n",
        "print(\"Total matrix size: {}\".format(matrix_size))\n",
        "\n",
        "feature_names = CountVectorizer().fit(dev_data).get_feature_names()\n",
        "print(\"Number of features: {}\".format(X_dev.shape[1]))\n",
        "print(\"First feature: {}\".format(feature_names[0]))\n",
        "print(\"Last feature: {}\".format(feature_names[-1]))"
      ]
    },
    {
      "cell_type": "markdown",
      "id": "0abf0ffe",
      "metadata": {
        "id": "0abf0ffe"
      },
      "source": [
        "Observe that most features are identical except for the total number of features. That is, the missing fraction expressed by\n",
        "\n",
        "$$\n",
        "\\text{missing fraction} = 1-\\frac{\\text{dev features}}{\\text{train features}}\n",
        "$$"
      ]
    },
    {
      "cell_type": "code",
      "execution_count": null,
      "id": "fd72a5a9",
      "metadata": {
        "id": "fd72a5a9",
        "outputId": "b59dc656-c017-4bad-ab1c-c421d6bdbd58"
      },
      "outputs": [
        {
          "name": "stdout",
          "output_type": "stream",
          "text": [
            "0.395587633468507\n"
          ]
        }
      ],
      "source": [
        "missing_frac = 1-(X_dev.shape[1]/X_train.shape[1])\n",
        "print(missing_frac)"
      ]
    },
    {
      "cell_type": "markdown",
      "id": "ed5f7bb4",
      "metadata": {
        "id": "ed5f7bb4"
      },
      "source": [
        "That is, the dev features are approximately 40% smaller than train features."
      ]
    },
    {
      "cell_type": "markdown",
      "id": "9ec62dd2-c737-44c3-b5c1-8931d42a6820",
      "metadata": {
        "id": "9ec62dd2-c737-44c3-b5c1-8931d42a6820"
      },
      "source": [
        "## 3.\n",
        "\n",
        "Transform the training and development data to matrices of word unigram feature vectors.\n",
        "\n",
        "1. Produce several k-Nearest Neigbors models by varying k, including one with k set to optimize f1 score.  For each model, show the k value and f1 score.\n",
        "1. Produce several Naive Bayes models by varying smoothing (alpha), including one with alpha set approximately to optimize f1 score.  For each model, show the alpha value and f1 score.\n",
        "1. Produce several Logistic Regression models by varying L2 regularization strength (C), including one with C set approximately to optimize f1 score.  For each model, show the C value, f1 score, and sum of squared weights for each topic.\n",
        "\n",
        "* Why doesn't k-Nearest Neighbors work well for this problem?\n",
        "* Why doesn't Logistic Regression work as well as Naive Bayes does?\n",
        "* What is the relationship between logistic regression's sum of squared weights vs. C value?\n",
        "\n",
        "Notes:\n",
        "* Train on the transformed training data.\n",
        "* Evaluate on the transformed development data.\n",
        "* You can use `CountVectorizer` and its `.fit_transform` and `.transform` methods to transform data.\n",
        "* You can use `KNeighborsClassifier(...)` to produce a k-Nearest Neighbors model.\n",
        "* You can use `MultinomialNB(...)` to produce a Naive Bayes model.\n",
        "* You can use `LogisticRegression(C=..., solver=\"liblinear\", multi_class=\"auto\")` to produce a Logistic Regression model.\n",
        "* You can use `LogisticRegression`'s `.coef_` method to get weights for each topic.\n",
        "* You can use `metrics.f1_score(..., average=\"weighted\")` to compute f1 score."
      ]
    },
    {
      "cell_type": "markdown",
      "id": "8ed37d64",
      "metadata": {
        "id": "8ed37d64"
      },
      "source": [
        "# Supervised model building\n",
        "Step objective: Construct k-NN, logistic regression, and naive Bayes model. Assess the models accordingly."
      ]
    },
    {
      "cell_type": "code",
      "execution_count": null,
      "id": "33c0b9f4-53cc-4d0e-a340-a49a00ceac8a",
      "metadata": {
        "id": "33c0b9f4-53cc-4d0e-a340-a49a00ceac8a"
      },
      "outputs": [],
      "source": [
        "### START ###\n",
        "from sklearn.metrics import f1_score"
      ]
    },
    {
      "cell_type": "markdown",
      "id": "752b47ae",
      "metadata": {
        "id": "752b47ae"
      },
      "source": [
        "### k-NN model"
      ]
    },
    {
      "cell_type": "markdown",
      "id": "53351d55",
      "metadata": {
        "id": "53351d55"
      },
      "source": [
        "We start with the simplest (yet most inaccurate in this case) model of k-nearest neighbors. Basically, this is a simple algorithm which classifies a data point via the most frequent neighbors. We can directly both transform and fit training data via fit_transform."
      ]
    },
    {
      "cell_type": "code",
      "execution_count": null,
      "id": "a12c34aa",
      "metadata": {
        "id": "a12c34aa"
      },
      "outputs": [],
      "source": [
        "vect = CountVectorizer()\n",
        "X_train = vect.fit_transform(train_data)\n",
        "y_train = train_labels\n",
        "\n",
        "X_dev = vect.transform(dev_data)\n",
        "y_dev = dev_labels\n",
        "\n",
        "X_test = vect.transform(test_data)\n",
        "y_test = test_labels"
      ]
    },
    {
      "cell_type": "markdown",
      "id": "875ba05b",
      "metadata": {
        "id": "875ba05b"
      },
      "source": [
        "After vectorization, we can directly employ the modelling algorithm. Our first task is to calibrate the model by finding appropriate calibration parameter using our dev data."
      ]
    },
    {
      "cell_type": "code",
      "execution_count": null,
      "id": "34675baa",
      "metadata": {
        "id": "34675baa"
      },
      "outputs": [],
      "source": [
        "from sklearn.neighbors import KNeighborsClassifier\n",
        "from sklearn.metrics import plot_confusion_matrix"
      ]
    },
    {
      "cell_type": "code",
      "execution_count": null,
      "id": "939ce1c0",
      "metadata": {
        "id": "939ce1c0",
        "outputId": "4afa1aea-cd86-4b1e-ee98-c8f49d996cbe"
      },
      "outputs": [
        {
          "data": {
            "text/plain": [
              "<matplotlib.legend.Legend at 0x1d7ee1b9340>"
            ]
          },
          "execution_count": 29,
          "metadata": {},
          "output_type": "execute_result"
        },
        {
          "data": {
            "image/png": "[encoded data removed]",
            "text/plain": [
              "<Figure size 432x288 with 1 Axes>"
            ]
          },
          "metadata": {
            "needs_background": "light"
          },
          "output_type": "display_data"
        }
      ],
      "source": [
        "# raw score\n",
        "\n",
        "training_accuracy = []\n",
        "test_accuracy = []\n",
        "dev_accuracy = []\n",
        "neighbors_settings = range(1, 40)\n",
        "for n_neighbors in neighbors_settings:\n",
        " # build the model\n",
        "    clf_knn = KNeighborsClassifier(n_neighbors=n_neighbors)\n",
        "    clf_knn.fit(X_train, y_train)\n",
        " # record training set accuracy\n",
        "    training_accuracy.append(clf_knn.score(X_train, y_train))\n",
        " # record generalization accuracy\n",
        "    #test_accuracy.append(clf_knn.score(X_test, y_test))\n",
        " # record dev accuracy\n",
        "    dev_accuracy.append(clf_knn.score(X_dev, y_dev))   \n",
        "plt.plot(neighbors_settings, training_accuracy, label=\"training accuracy\")\n",
        "plt.plot(neighbors_settings, dev_accuracy, label=\"dev accuracy\")\n",
        "#plt.plot(neighbors_settings, test_accuracy, label=\"test accuracy\")\n",
        "plt.ylabel(\"Accuracy\")\n",
        "plt.xlabel(\"n_neighbors\")\n",
        "plt.legend()"
      ]
    },
    {
      "cell_type": "code",
      "execution_count": null,
      "id": "92abb9f6",
      "metadata": {
        "id": "92abb9f6",
        "outputId": "281bd134-d536-4016-9286-a3d610e69b3a"
      },
      "outputs": [
        {
          "data": {
            "text/plain": [
              "<matplotlib.legend.Legend at 0x1d7ee271ac0>"
            ]
          },
          "execution_count": 30,
          "metadata": {},
          "output_type": "execute_result"
        },
        {
          "data": {
            "image/png": "[encoded data removed]",
            "text/plain": [
              "<Figure size 432x288 with 1 Axes>"
            ]
          },
          "metadata": {
            "needs_background": "light"
          },
          "output_type": "display_data"
        }
      ],
      "source": [
        "# f1 score\n",
        "\n",
        "training_accuracy = []\n",
        "test_accuracy = []\n",
        "dev_accuracy = []\n",
        "neighbors_settings = range(1, 40)\n",
        "for n_neighbors in neighbors_settings:\n",
        " # build the model\n",
        "    clf_knn = KNeighborsClassifier(n_neighbors=n_neighbors)\n",
        "    clf_knn.fit(X_train, y_train)\n",
        " # record training set accuracy\n",
        "    training_accuracy.append(f1_score(clf_knn.predict(X_train), y_train, average=\"weighted\"))\n",
        " # record generalization accuracy\n",
        "    #test_accuracy.append(f1_score(clf_knn.predict(X_test), y_test, average=\"weighted\"))\n",
        " # record dev accuracy\n",
        "    dev_accuracy.append(f1_score(clf_knn.predict(X_dev), y_dev, average=\"weighted\"))   \n",
        "plt.plot(neighbors_settings, training_accuracy, label=\"training accuracy\")\n",
        "plt.plot(neighbors_settings, dev_accuracy, label=\"dev accuracy\")\n",
        "#plt.plot(neighbors_settings, test_accuracy, label=\"test accuracy\")\n",
        "plt.ylabel(\"Accuracy\")\n",
        "plt.xlabel(\"n_neighbors\")\n",
        "plt.legend()"
      ]
    },
    {
      "cell_type": "markdown",
      "id": "b2cd06be",
      "metadata": {
        "id": "b2cd06be"
      },
      "source": [
        "Observe that overfitting trend starts at 5 neighbors and below while there exists a local optima at 6 neighbors. For this particular model, the best we can do is"
      ]
    },
    {
      "cell_type": "code",
      "execution_count": null,
      "id": "2911bc03",
      "metadata": {
        "id": "2911bc03",
        "outputId": "97414399-93df-4e05-b772-1aa50b5dfebf"
      },
      "outputs": [
        {
          "name": "stdout",
          "output_type": "stream",
          "text": [
            "Train set accuracy: 0.61\n",
            "Dev set accuracy: 0.44\n"
          ]
        }
      ],
      "source": [
        "clf_knn = KNeighborsClassifier(n_neighbors=6)\n",
        "clf_knn.fit(X_train, y_train)\n",
        "print(\"Train set accuracy: {:.2f}\".format(clf_knn.score(X_train, y_train)))\n",
        "print(\"Dev set accuracy: {:.2f}\".format(clf_knn.score(X_dev, y_dev)))"
      ]
    },
    {
      "cell_type": "markdown",
      "id": "c34b1246",
      "metadata": {
        "id": "c34b1246"
      },
      "source": [
        "We shall use this k = 6 for our test data set."
      ]
    },
    {
      "cell_type": "code",
      "execution_count": null,
      "id": "6c0b6c86",
      "metadata": {
        "id": "6c0b6c86",
        "outputId": "7ad64b4e-f15f-4d76-d959-a5a69de93f45"
      },
      "outputs": [
        {
          "data": {
            "image/png": "[encoded data removed]",
            "text/plain": [
              "<Figure size 432x288 with 2 Axes>"
            ]
          },
          "metadata": {
            "needs_background": "light"
          },
          "output_type": "display_data"
        },
        {
          "name": "stdout",
          "output_type": "stream",
          "text": [
            "f1 score is: 0.373\n",
            "Train set accuracy: 0.605\n",
            "Test set accuracy: 0.383\n"
          ]
        }
      ],
      "source": [
        "clf_knn = KNeighborsClassifier(n_neighbors=6)\n",
        "clf_knn.fit(X_train, y_train)\n",
        "plot_confusion_matrix(clf_knn, X_test, y_test)  \n",
        "plt.show()\n",
        "f1_knn=f1_score(clf_knn.predict(X_test), y_test, average=\"weighted\")\n",
        "print(\"f1 score is: {:.3f}\".format(f1_knn))\n",
        "print(\"Train set accuracy: {:.3f}\".format(clf_knn.score(X_train, y_train)))\n",
        "print(\"Test set accuracy: {:.3f}\".format(clf_knn.score(X_test, y_test)))"
      ]
    },
    {
      "cell_type": "markdown",
      "id": "37b24ffc",
      "metadata": {
        "id": "37b24ffc"
      },
      "source": [
        "Observe that one way to observe that k-NN does not work particularly well in this example is that the highest square value in the confusion matrix does not even lie in the diagonal. This means that our model the majority of our model predicts erroneously. This is a very poor model. This is to be expected since k-NN does not work well with datasets with large features and sparse data sets (which should be expected in NLP applications)."
      ]
    },
    {
      "cell_type": "markdown",
      "id": "7920cf22",
      "metadata": {
        "id": "7920cf22"
      },
      "source": [
        "### Logistic regression model"
      ]
    },
    {
      "cell_type": "markdown",
      "id": "feb6f457",
      "metadata": {
        "id": "feb6f457"
      },
      "source": [
        "Now, we proceed to the next modelling algorithm. Using logistic regression,"
      ]
    },
    {
      "cell_type": "code",
      "execution_count": null,
      "id": "7fce6f05",
      "metadata": {
        "id": "7fce6f05",
        "outputId": "c7c5ec07-d231-4573-fe4d-1ee848424e26"
      },
      "outputs": [
        {
          "data": {
            "text/plain": [
              "<matplotlib.legend.Legend at 0x1d7ee552670>"
            ]
          },
          "execution_count": 33,
          "metadata": {},
          "output_type": "execute_result"
        },
        {
          "data": {
            "image/png": "[encoded data removed]",
            "text/plain": [
              "<Figure size 432x288 with 1 Axes>"
            ]
          },
          "metadata": {
            "needs_background": "light"
          },
          "output_type": "display_data"
        }
      ],
      "source": [
        "# raw score\n",
        "\n",
        "training_accuracy = []\n",
        "test_accuracy = []\n",
        "dev_accuracy = []\n",
        "C_settings = range(1, 100)\n",
        "for set_C in C_settings:\n",
        " # build the model\n",
        "    clf_lgr = LogisticRegression(C=set_C,max_iter=100000,solver=\"liblinear\", multi_class=\"auto\").fit(\n",
        "        X_train, y_train)\n",
        " # record training set accuracy\n",
        "    training_accuracy.append(clf_lgr.score(X_train, y_train))\n",
        " # record generalization accuracy\n",
        "    #test_accuracy.append(clf_lgr.score(X_test, y_test))\n",
        " # record dev accuracy\n",
        "    dev_accuracy.append(clf_lgr.score(X_dev, y_dev))   \n",
        "plt.plot(C_settings, training_accuracy, label=\"training accuracy\")\n",
        "plt.plot(C_settings, dev_accuracy, label=\"dev accuracy\")\n",
        "#plt.plot(C_settings, test_accuracy, label=\"test accuracy\")\n",
        "plt.ylabel(\"Accuracy\")\n",
        "plt.xlabel(\"C\")\n",
        "plt.legend()\n"
      ]
    },
    {
      "cell_type": "code",
      "execution_count": null,
      "id": "d9f594c3",
      "metadata": {
        "id": "d9f594c3",
        "outputId": "dd1ed0ad-8cc9-48d3-c920-2426f6061091"
      },
      "outputs": [
        {
          "data": {
            "text/plain": [
              "<matplotlib.legend.Legend at 0x1d7edeb8220>"
            ]
          },
          "execution_count": 34,
          "metadata": {},
          "output_type": "execute_result"
        },
        {
          "data": {
            "image/png": "[encoded data removed]",
            "text/plain": [
              "<Figure size 432x288 with 1 Axes>"
            ]
          },
          "metadata": {
            "needs_background": "light"
          },
          "output_type": "display_data"
        }
      ],
      "source": [
        "# f1 score\n",
        "\n",
        "training_accuracy = []\n",
        "test_accuracy = []\n",
        "dev_accuracy = []\n",
        "C_settings = range(1, 100)\n",
        "for set_C in C_settings:\n",
        " # build the model\n",
        "    clf_lgr = LogisticRegression(C=set_C,max_iter=100000,solver=\"liblinear\", multi_class=\"auto\").fit(\n",
        "        X_train, y_train)\n",
        " # record training set accuracy\n",
        "    training_accuracy.append(f1_score(clf_lgr.predict(X_train), y_train, average=\"weighted\"))\n",
        " # record generalization accuracy\n",
        "    #test_accuracy.append(f1_score(clf_lgr.predict(X_test), y_test, average=\"weighted\"))\n",
        " # record dev accuracy\n",
        "    dev_accuracy.append(f1_score(clf_lgr.predict(X_dev), y_dev, average=\"weighted\"))   \n",
        "plt.plot(C_settings, training_accuracy, label=\"training accuracy\")\n",
        "plt.plot(C_settings, dev_accuracy, label=\"dev accuracy\")\n",
        "#plt.plot(C_settings, test_accuracy, label=\"test accuracy\")\n",
        "plt.ylabel(\"Accuracy\")\n",
        "plt.xlabel(\"C\")\n",
        "plt.legend()"
      ]
    },
    {
      "cell_type": "code",
      "execution_count": null,
      "id": "b3f123d8",
      "metadata": {
        "id": "b3f123d8",
        "outputId": "768e7fd1-5d68-4f81-b345-a07d5be14d3d"
      },
      "outputs": [
        {
          "data": {
            "image/png": "[encoded data removed]",
            "text/plain": [
              "<Figure size 432x288 with 2 Axes>"
            ]
          },
          "metadata": {
            "needs_background": "light"
          },
          "output_type": "display_data"
        },
        {
          "name": "stdout",
          "output_type": "stream",
          "text": [
            "f1 score is: 0.728\n",
            "Train set accuracy: 0.978\n",
            "Test set accuracy: 0.725\n",
            "Sum of squared weights for alt.atheism: 1402.519330386409\n",
            "Sum of squared weights for comp.graphics: 1097.9011714098913\n",
            "Sum of squared weights for sci.space: 1297.89651371215\n",
            "Sum of squared weights for talk.religion.misc: 1307.1063208241344\n"
          ]
        }
      ],
      "source": [
        "clf_lgr = LogisticRegression(C=100,max_iter=100000,solver=\"liblinear\", multi_class=\"auto\").fit(X_train, y_train)\n",
        "\n",
        "plot_confusion_matrix(clf_lgr, X_test, y_test)  \n",
        "plt.show()\n",
        "f1_lgr=f1_score(clf_lgr.predict(X_test), y_test, average=\"weighted\")\n",
        "print(\"f1 score is: {:.3f}\".format(f1_lgr))\n",
        "print(\"Train set accuracy: {:.3f}\".format(clf_lgr.score(X_train, y_train)))\n",
        "print(\"Test set accuracy: {:.3f}\".format(clf_lgr.score(X_test, y_test)))\n",
        "\n",
        "\n",
        "weight_lgr = clf_lgr.coef_\n",
        "\n",
        "squared_sum_list = []\n",
        "for k in range(0, 4):\n",
        "    squared_sum = sum(i**2 for i in weight_lgr[k])\n",
        "    squared_sum_list.append(squared_sum)\n",
        "\n",
        "print(\"Sum of squared weights for alt.atheism: \" + str(squared_sum_list[0]))\n",
        "print(\"Sum of squared weights for comp.graphics: \" + str(squared_sum_list[1]))\n",
        "print(\"Sum of squared weights for sci.space: \" + str(squared_sum_list[2]))\n",
        "print(\"Sum of squared weights for talk.religion.misc: \" + str(squared_sum_list[3]))\n"
      ]
    },
    {
      "cell_type": "code",
      "execution_count": null,
      "id": "7fee1f6b",
      "metadata": {
        "id": "7fee1f6b",
        "outputId": "51694879-f7a6-4125-daee-aeedebfd9de3"
      },
      "outputs": [
        {
          "data": {
            "image/png": "[encoded data removed]",
            "text/plain": [
              "<Figure size 432x288 with 2 Axes>"
            ]
          },
          "metadata": {
            "needs_background": "light"
          },
          "output_type": "display_data"
        },
        {
          "name": "stdout",
          "output_type": "stream",
          "text": [
            "f1 score is: 0.729\n",
            "Train set accuracy: 0.978\n",
            "Test set accuracy: 0.727\n",
            "Sum of squared weights for alt.atheism: 1602.0909210972602\n",
            "Sum of squared weights for comp.graphics: 1239.738127051838\n",
            "Sum of squared weights for sci.space: 1481.955264732198\n",
            "Sum of squared weights for talk.religion.misc: 1496.115953965751\n"
          ]
        }
      ],
      "source": [
        "clf_lgr = LogisticRegression(C=150,max_iter=100000,solver=\"liblinear\", multi_class=\"auto\").fit(X_train, y_train)\n",
        "\n",
        "plot_confusion_matrix(clf_lgr, X_test, y_test)  \n",
        "plt.show()\n",
        "f1_lgr=f1_score(clf_lgr.predict(X_test), y_test, average=\"weighted\")\n",
        "print(\"f1 score is: {:.3f}\".format(f1_lgr))\n",
        "print(\"Train set accuracy: {:.3f}\".format(clf_lgr.score(X_train, y_train)))\n",
        "print(\"Test set accuracy: {:.3f}\".format(clf_lgr.score(X_test, y_test)))\n",
        "\n",
        "\n",
        "weight_lgr = clf_lgr.coef_\n",
        "\n",
        "squared_sum_list = []\n",
        "for k in range(0, 4):\n",
        "    squared_sum = sum(i**2 for i in weight_lgr[k])\n",
        "    squared_sum_list.append(squared_sum)\n",
        "\n",
        "print(\"Sum of squared weights for alt.atheism: \" + str(squared_sum_list[0]))\n",
        "print(\"Sum of squared weights for comp.graphics: \" + str(squared_sum_list[1]))\n",
        "print(\"Sum of squared weights for sci.space: \" + str(squared_sum_list[2]))\n",
        "print(\"Sum of squared weights for talk.religion.misc: \" + str(squared_sum_list[3]))\n"
      ]
    },
    {
      "cell_type": "markdown",
      "id": "3749de72",
      "metadata": {
        "id": "3749de72"
      },
      "source": [
        "Increasing C value directly increases the sum of squared weights for each topic."
      ]
    },
    {
      "cell_type": "code",
      "execution_count": null,
      "id": "a8aa573e",
      "metadata": {
        "id": "a8aa573e",
        "outputId": "b9928949-619f-4162-ef3c-dd22c51fac38"
      },
      "outputs": [
        {
          "data": {
            "image/png": "[encoded data removed]",
            "text/plain": [
              "<Figure size 432x288 with 2 Axes>"
            ]
          },
          "metadata": {
            "needs_background": "light"
          },
          "output_type": "display_data"
        },
        {
          "name": "stdout",
          "output_type": "stream",
          "text": [
            "f1 score is: 0.728\n",
            "Train set accuracy: 0.978\n",
            "Test set accuracy: 0.725\n",
            "Sum of squared weights for alt.atheism: 1109.258394068409\n",
            "Sum of squared weights for comp.graphics: 858.5932795274824\n",
            "Sum of squared weights for sci.space: 1021.5315573472394\n",
            "Sum of squared weights for talk.religion.misc: 1034.2176736444549\n"
          ]
        }
      ],
      "source": [
        "clf_lgr = LogisticRegression(C=50,max_iter=100000,solver=\"liblinear\", multi_class=\"auto\").fit(X_train, y_train)\n",
        "\n",
        "plot_confusion_matrix(clf_lgr, X_test, y_test)  \n",
        "plt.show()\n",
        "f1_lgr=f1_score(clf_lgr.predict(X_test), y_test, average=\"weighted\")\n",
        "print(\"f1 score is: {:.3f}\".format(f1_lgr))\n",
        "print(\"Train set accuracy: {:.3f}\".format(clf_lgr.score(X_train, y_train)))\n",
        "print(\"Test set accuracy: {:.3f}\".format(clf_lgr.score(X_test, y_test)))\n",
        "\n",
        "\n",
        "weight_lgr = clf_lgr.coef_\n",
        "\n",
        "squared_sum_list = []\n",
        "for k in range(0, 4):\n",
        "    squared_sum = sum(i**2 for i in weight_lgr[k])\n",
        "    squared_sum_list.append(squared_sum)\n",
        "\n",
        "print(\"Sum of squared weights for alt.atheism: \" + str(squared_sum_list[0]))\n",
        "print(\"Sum of squared weights for comp.graphics: \" + str(squared_sum_list[1]))\n",
        "print(\"Sum of squared weights for sci.space: \" + str(squared_sum_list[2]))\n",
        "print(\"Sum of squared weights for talk.religion.misc: \" + str(squared_sum_list[3]))\n"
      ]
    },
    {
      "cell_type": "markdown",
      "id": "8e19c762",
      "metadata": {
        "id": "8e19c762"
      },
      "source": [
        "Meanwhile, decreasing C value directly decreases the sum of squared weights for each topic. Using the logistic regression model now forced the majority into the diagonal and there exists far less erroneous prediction outside the diagonal. This is a huge jump from the poor k-NN model. Logistic regression models handle large and sparse data quite efficiently. However, for more efficiency, Naive Bayes models fit the job more with its feature-independence assumption."
      ]
    },
    {
      "cell_type": "markdown",
      "id": "0c53c528",
      "metadata": {
        "id": "0c53c528"
      },
      "source": [
        "### Naive Bayes model"
      ]
    },
    {
      "cell_type": "markdown",
      "id": "0d47d98a",
      "metadata": {
        "id": "0d47d98a"
      },
      "source": [
        "Qualitatively, the confusion matrix of the multinomial naive Bayes model looks similar to the logistic regression model. However, the subtlety lies in a slight increase of diagonal values and a slight decrease in the off-diagonal values."
      ]
    },
    {
      "cell_type": "code",
      "execution_count": null,
      "id": "db6a81d3",
      "metadata": {
        "id": "db6a81d3",
        "outputId": "c9ba44aa-4f12-4cb2-ad52-45fe7f98aa43"
      },
      "outputs": [
        {
          "data": {
            "text/plain": [
              "<matplotlib.legend.Legend at 0x1d7eea473a0>"
            ]
          },
          "execution_count": 38,
          "metadata": {},
          "output_type": "execute_result"
        },
        {
          "data": {
            "image/png": "[encoded data removed]",
            "text/plain": [
              "<Figure size 432x288 with 1 Axes>"
            ]
          },
          "metadata": {
            "needs_background": "light"
          },
          "output_type": "display_data"
        }
      ],
      "source": [
        "# f1 score\n",
        "\n",
        "training_accuracy = []\n",
        "test_accuracy = []\n",
        "dev_accuracy = []\n",
        "alpha_settings = np.linspace(0.001,0.01,10)\n",
        "for set_alpha in alpha_settings:\n",
        " # build the model\n",
        "    clf_mnb = MultinomialNB(alpha=set_alpha).fit(X_train, y_train)\n",
        " # record training set accuracy\n",
        "    training_accuracy.append(f1_score(clf_mnb.predict(X_train), y_train, average=\"weighted\"))\n",
        " # record generalization accuracy\n",
        "    test_accuracy.append(f1_score(clf_mnb.predict(X_test), y_test, average=\"weighted\"))\n",
        " # record dev accuracy\n",
        "    dev_accuracy.append(f1_score(clf_mnb.predict(X_dev), y_dev, average=\"weighted\"))   \n",
        "plt.plot(alpha_settings, training_accuracy, label=\"training accuracy\")\n",
        "plt.plot(alpha_settings, dev_accuracy, label=\"dev accuracy\")\n",
        "#plt.plot(alpha_settings, test_accuracy, label=\"test accuracy\")\n",
        "plt.ylabel(\"Accuracy\")\n",
        "plt.xlabel(\"Alpha\")\n",
        "plt.legend()\n"
      ]
    },
    {
      "cell_type": "code",
      "execution_count": null,
      "id": "baf42f1b",
      "metadata": {
        "id": "baf42f1b",
        "outputId": "d105b06b-35b4-4b2b-fa09-94fb3dd15e99"
      },
      "outputs": [
        {
          "data": {
            "text/plain": [
              "<matplotlib.legend.Legend at 0x1d7eeced790>"
            ]
          },
          "execution_count": 39,
          "metadata": {},
          "output_type": "execute_result"
        },
        {
          "data": {
            "image/png": "[encoded data removed]",
            "text/plain": [
              "<Figure size 432x288 with 1 Axes>"
            ]
          },
          "metadata": {
            "needs_background": "light"
          },
          "output_type": "display_data"
        }
      ],
      "source": [
        "# raw score\n",
        "\n",
        "training_accuracy = []\n",
        "test_accuracy = []\n",
        "dev_accuracy = []\n",
        "alpha_settings = np.linspace(0.0005,0.01,30)\n",
        "for set_alpha in alpha_settings:\n",
        " # build the model\n",
        "    clf_mnb = MultinomialNB(alpha=set_alpha).fit(X_train, y_train)\n",
        " # record training set accuracy\n",
        "    training_accuracy.append(clf_mnb.score(X_train, y_train))\n",
        " # record generalization accuracy\n",
        "    test_accuracy.append(clf_mnb.score(X_test, y_test))\n",
        " # record dev accuracy\n",
        "    dev_accuracy.append(clf_mnb.score(X_dev, y_dev))   \n",
        "plt.plot(alpha_settings, training_accuracy, label=\"training accuracy\")\n",
        "plt.plot(alpha_settings, dev_accuracy, label=\"dev accuracy\")\n",
        "#plt.plot(alpha_settings, test_accuracy, label=\"test accuracy\")\n",
        "plt.ylabel(\"Accuracy\")\n",
        "plt.xlabel(\"Alpha\")\n",
        "plt.legend()"
      ]
    },
    {
      "cell_type": "markdown",
      "id": "ca89eaf6",
      "metadata": {
        "id": "ca89eaf6"
      },
      "source": [
        "Upon calibration, there is an apparent local maximum at alpha = 0.001."
      ]
    },
    {
      "cell_type": "code",
      "execution_count": null,
      "id": "0d18b56b",
      "metadata": {
        "id": "0d18b56b",
        "outputId": "1dfd83c4-18e4-4a59-8246-db63b88777b4"
      },
      "outputs": [
        {
          "data": {
            "image/png": "[encoded data removed]",
            "text/plain": [
              "<Figure size 432x288 with 2 Axes>"
            ]
          },
          "metadata": {
            "needs_background": "light"
          },
          "output_type": "display_data"
        },
        {
          "name": "stdout",
          "output_type": "stream",
          "text": [
            "f1 score is: 0.779\n",
            "Train set accuracy: 0.962\n",
            "Test set accuracy: 0.778\n"
          ]
        }
      ],
      "source": [
        "clf_mnb = MultinomialNB(alpha=0.001).fit(X_train, y_train)\n",
        "plot_confusion_matrix(clf_mnb, X_test, y_test)  \n",
        "plt.show()\n",
        "f1_mnb=f1_score(clf_mnb.predict(X_test), y_test, average=\"weighted\")\n",
        "print(\"f1 score is: {:.3f}\".format(f1_mnb))\n",
        "print(\"Train set accuracy: {:.3f}\".format(clf_mnb.score(X_train, y_train)))\n",
        "#print(\"Dev set accuracy: {:.3f}\".format(clf_mnb.score(X_dev, y_dev)))\n",
        "print(\"Test set accuracy: {:.3f}\".format(clf_mnb.score(X_test, y_test)))"
      ]
    },
    {
      "cell_type": "markdown",
      "id": "c52b5dac",
      "metadata": {
        "id": "c52b5dac"
      },
      "source": [
        "For Bernoulli naive Bayes model,"
      ]
    },
    {
      "cell_type": "code",
      "execution_count": null,
      "id": "28aab802",
      "metadata": {
        "id": "28aab802",
        "outputId": "5338bc5b-821f-4fc4-dc68-0cd1e1e42e9a"
      },
      "outputs": [
        {
          "data": {
            "text/plain": [
              "<matplotlib.legend.Legend at 0x1d7efe59b80>"
            ]
          },
          "execution_count": 41,
          "metadata": {},
          "output_type": "execute_result"
        },
        {
          "data": {
            "image/png": "[encoded data removed]",
            "text/plain": [
              "<Figure size 432x288 with 1 Axes>"
            ]
          },
          "metadata": {
            "needs_background": "light"
          },
          "output_type": "display_data"
        }
      ],
      "source": [
        "# f1 score\n",
        "\n",
        "training_accuracy = []\n",
        "test_accuracy = []\n",
        "dev_accuracy = []\n",
        "alpha_settings = np.linspace(0.0005,0.01,30)\n",
        "for set_alpha in alpha_settings:\n",
        " # build the model\n",
        "    clf_bnb = BernoulliNB(alpha=set_alpha).fit(X_train, y_train)\n",
        " # record training set accuracy\n",
        "    training_accuracy.append(f1_score(clf_bnb.predict(X_train), y_train, average=\"weighted\"))\n",
        " # record generalization accuracy\n",
        "    test_accuracy.append(f1_score(clf_bnb.predict(X_test), y_test, average=\"weighted\"))\n",
        " # record dev accuracy\n",
        "    dev_accuracy.append(f1_score(clf_bnb.predict(X_dev), y_dev, average=\"weighted\"))   \n",
        "plt.plot(alpha_settings, training_accuracy, label=\"training accuracy\")\n",
        "plt.plot(alpha_settings, dev_accuracy, label=\"dev accuracy\")\n",
        "#plt.plot(alpha_settings, test_accuracy, label=\"test accuracy\")\n",
        "plt.ylabel(\"Accuracy\")\n",
        "plt.xlabel(\"Alpha\")\n",
        "plt.legend()"
      ]
    },
    {
      "cell_type": "code",
      "execution_count": null,
      "id": "f967d2fc",
      "metadata": {
        "id": "f967d2fc",
        "outputId": "470d59ca-6206-485a-bb40-535191a41393"
      },
      "outputs": [
        {
          "data": {
            "text/plain": [
              "<matplotlib.legend.Legend at 0x1d7efeb7fa0>"
            ]
          },
          "execution_count": 42,
          "metadata": {},
          "output_type": "execute_result"
        },
        {
          "data": {
            "image/png": "[encoded data removed]",
            "text/plain": [
              "<Figure size 432x288 with 1 Axes>"
            ]
          },
          "metadata": {
            "needs_background": "light"
          },
          "output_type": "display_data"
        }
      ],
      "source": [
        "# raw score\n",
        "\n",
        "training_accuracy = []\n",
        "test_accuracy = []\n",
        "dev_accuracy = []\n",
        "alpha_settings = np.linspace(0.0005,0.01,30)\n",
        "for set_alpha in alpha_settings:\n",
        " # build the model\n",
        "    clf_bnb = BernoulliNB(alpha=set_alpha).fit(X_train, y_train)\n",
        " # record training set accuracy\n",
        "    training_accuracy.append(clf_bnb.score(X_train, y_train))\n",
        " # record generalization accuracy\n",
        "    test_accuracy.append(clf_bnb.score(X_test, y_test))\n",
        " # record dev accuracy\n",
        "    dev_accuracy.append(clf_bnb.score(X_dev, y_dev))   \n",
        "plt.plot(alpha_settings, training_accuracy, label=\"training accuracy\")\n",
        "plt.plot(alpha_settings, dev_accuracy, label=\"dev accuracy\")\n",
        "#plt.plot(alpha_settings, test_accuracy, label=\"test accuracy\")\n",
        "plt.ylabel(\"Accuracy\")\n",
        "plt.xlabel(\"Alpha\")\n",
        "plt.legend()"
      ]
    },
    {
      "cell_type": "code",
      "execution_count": null,
      "id": "0487ce47",
      "metadata": {
        "id": "0487ce47",
        "outputId": "c02b3aa7-fd09-4760-d351-c20c2f671ac7"
      },
      "outputs": [
        {
          "data": {
            "image/png": "[encoded data removed]",
            "text/plain": [
              "<Figure size 432x288 with 2 Axes>"
            ]
          },
          "metadata": {
            "needs_background": "light"
          },
          "output_type": "display_data"
        },
        {
          "name": "stdout",
          "output_type": "stream",
          "text": [
            "f1 score is: 0.722\n",
            "Train set accuracy: 0.903\n",
            "Dev set accuracy: 0.694\n",
            "Test set accuracy: 0.715\n"
          ]
        }
      ],
      "source": [
        "clf_bnb = BernoulliNB(alpha=0.001).fit(X_train, y_train)\n",
        "\n",
        "plot_confusion_matrix(clf_bnb, X_test, y_test)  \n",
        "plt.show()\n",
        "f1_bnb=f1_score(clf_bnb.predict(X_test), y_test, average=\"weighted\")\n",
        "print(\"f1 score is: {:.3f}\".format(f1_bnb))\n",
        "print(\"Train set accuracy: {:.3f}\".format(clf_bnb.score(X_train, y_train)))\n",
        "print(\"Dev set accuracy: {:.3f}\".format(clf_bnb.score(X_dev, y_dev)))\n",
        "print(\"Test set accuracy: {:.3f}\".format(clf_bnb.score(X_test, y_test)))"
      ]
    },
    {
      "cell_type": "markdown",
      "id": "209cec22",
      "metadata": {
        "id": "209cec22"
      },
      "source": [
        "Using a Bernoulli naive Bayes model decreased the perfomance from the more efficient Multinomial naive Bayes evident from the decrease of the diagonal values and a general increase in off-diagonal values. Observe that for the same value of alpha, Multinomial NB has better performance than Bernoulli NB algorithm. This is because we are dealing with a relatively large number of features."
      ]
    },
    {
      "cell_type": "code",
      "execution_count": null,
      "id": "ce6fdce5",
      "metadata": {
        "id": "ce6fdce5"
      },
      "outputs": [],
      "source": [
        "### END ###"
      ]
    },
    {
      "cell_type": "markdown",
      "id": "0d5ae1e4-742a-482a-bb97-13a2536caa92",
      "metadata": {
        "id": "0d5ae1e4-742a-482a-bb97-13a2536caa92"
      },
      "source": [
        "### 4.\n",
        "\n",
        "How is `TfidfVectorizer` different than `CountVectorizer`?\n",
        "\n",
        "Produce a Logistic Regression model based on data represented in tf-idf form, with L2 regularization strength of 110.  Evaluate and show the f1 score.  How is `TfidfVectorizer` different than `CountVectorizer`? What is the f1 score?\n",
        "\n",
        "Show the 3 documents with highest R ratio, where ...<br/>\n",
        "$R\\,ratio = maximum\\,predicted\\,probability \\div predicted\\,probability\\,of\\,correct\\,label$\n",
        "\n",
        "Explain what the R ratio describes.  What kinds of mistakes is the model making? Suggest a way to address one particular issue that you see.\n",
        "\n",
        "Hint/Notes:\n",
        "* Train on the transformed training data.\n",
        "* Evaluate on the transformed development data.\n",
        "* You can use `TfidfVectorizer` and its `.fit_transform` method to transform data to tf-idf form.\n",
        "* You can use `LogisticRegression(C=100, solver=\"liblinear\", multi_class=\"auto\")` to produce a logistic regression model.\n",
        "* You can use `LogisticRegression`'s `.predict_proba` method to access predicted probabilities."
      ]
    },
    {
      "cell_type": "code",
      "execution_count": null,
      "id": "6e22f8ea-ca6a-4dad-ab2b-31851441d491",
      "metadata": {
        "id": "6e22f8ea-ca6a-4dad-ab2b-31851441d491"
      },
      "outputs": [],
      "source": [
        "### START ###"
      ]
    },
    {
      "cell_type": "markdown",
      "id": "50204764",
      "metadata": {
        "id": "50204764"
      },
      "source": [
        "I apologize for the redundancy of using both raw score and f1 ratio in our previous analysis. Of course, we know that f1 score offers a more robust method of assessing our algorithms. From here, we use the f1 score."
      ]
    },
    {
      "cell_type": "code",
      "execution_count": null,
      "id": "14eaebd8",
      "metadata": {
        "id": "14eaebd8",
        "outputId": "08603bf1-89e5-4b66-e68a-538acc580115"
      },
      "outputs": [
        {
          "name": "stdout",
          "output_type": "stream",
          "text": [
            "Training set score: 0.978\n",
            "Test set score: 0.728\n"
          ]
        },
        {
          "data": {
            "text/plain": [
              "<matplotlib.legend.Legend at 0x1d7efdf42e0>"
            ]
          },
          "execution_count": 46,
          "metadata": {},
          "output_type": "execute_result"
        },
        {
          "data": {
            "image/png": "[encoded data removed]",
            "text/plain": [
              "<Figure size 432x288 with 1 Axes>"
            ]
          },
          "metadata": {
            "needs_background": "light"
          },
          "output_type": "display_data"
        }
      ],
      "source": [
        "from sklearn.feature_extraction.text import TfidfVectorizer\n",
        "\n",
        "X_train = CountVectorizer().fit_transform(train_data)\n",
        "y_train = train_labels\n",
        "\n",
        "clf_lgr = LogisticRegression(C=110,max_iter=100000,solver=\"liblinear\", multi_class=\"auto\").fit(X_train, y_train)\n",
        "print(\"Training set score: {:.3f}\".format(f1_score(clf_lgr.predict(X_train), y_train, average=\"weighted\")))\n",
        "print(\"Test set score: {:.3f}\".format(f1_score(clf_lgr.predict(X_test), y_test, average=\"weighted\")))\n",
        "\n",
        "count_training_accuracy = []\n",
        "count_test_accuracy = []\n",
        "count_dev_accuracy = []\n",
        "C_settings = range(1, 150)\n",
        "for set_C in C_settings:\n",
        " # build the model\n",
        "    clf_lgr = LogisticRegression(C=set_C,max_iter=100000,solver=\"liblinear\", multi_class=\"auto\").fit(\n",
        "        X_train, y_train)\n",
        " # record training set accuracy\n",
        "    count_training_accuracy.append(f1_score(clf_lgr.predict(X_train), y_train, average=\"weighted\"))\n",
        " # record generalization accuracy\n",
        "    count_test_accuracy.append(f1_score(clf_lgr.predict(X_dev), y_dev, average=\"weighted\"))\n",
        " # record dev accuracy\n",
        "    #count_dev_accuracy.append(clf_lgr.score(X_dev, y_dev))   \n",
        "plt.plot(C_settings, count_training_accuracy, label=\"training accuracy\")\n",
        "#plt.plot(C_settings, count_dev_accuracy, label=\"dev accuracy\")\n",
        "plt.plot(C_settings, count_test_accuracy, label=\"test accuracy\")\n",
        "plt.ylabel(\"Accuracy\")\n",
        "plt.xlabel(\"C\")\n",
        "plt.legend()"
      ]
    },
    {
      "cell_type": "code",
      "execution_count": null,
      "id": "d823ebba",
      "metadata": {
        "id": "d823ebba",
        "outputId": "7e086132-a076-4933-ca93-73409c8adffd"
      },
      "outputs": [
        {
          "name": "stdout",
          "output_type": "stream",
          "text": [
            "Training set score: 0.978\n",
            "Test set score: 0.746\n"
          ]
        },
        {
          "data": {
            "text/plain": [
              "<matplotlib.legend.Legend at 0x1d7eea1ef70>"
            ]
          },
          "execution_count": 47,
          "metadata": {},
          "output_type": "execute_result"
        },
        {
          "data": {
            "image/png": "[encoded data removed]",
            "text/plain": [
              "<Figure size 432x288 with 1 Axes>"
            ]
          },
          "metadata": {
            "needs_background": "light"
          },
          "output_type": "display_data"
        }
      ],
      "source": [
        "X_train = TfidfVectorizer().fit_transform(train_data)\n",
        "y_train = train_labels\n",
        "\n",
        "clf_lgr = LogisticRegression(C=110,max_iter=100000,solver=\"liblinear\", multi_class=\"auto\").fit(X_train, y_train)\n",
        "print(\"Training set score: {:.3f}\".format(clf_lgr.score(X_train, y_train)))\n",
        "print(\"Test set score: {:.3f}\".format(clf_lgr.score(X_test, y_test)))\n",
        "\n",
        "tfidf_training_accuracy = []\n",
        "tfidf_test_accuracy = []\n",
        "tfidf_dev_accuracy = []\n",
        "C_settings = range(1, 150)\n",
        "for set_C in C_settings:\n",
        " # build the model\n",
        "    clf_lgr = LogisticRegression(C=set_C,max_iter=100000,solver=\"liblinear\", multi_class=\"auto\").fit(\n",
        "        X_train, y_train)\n",
        " # record training set accuracy\n",
        "    tfidf_training_accuracy.append(f1_score(clf_lgr.predict(X_train), y_train, average=\"weighted\"))\n",
        " # record generalization accuracy\n",
        "    tfidf_test_accuracy.append(f1_score(clf_lgr.predict(X_test), y_test, average=\"weighted\"))\n",
        " # record dev accuracy\n",
        "    #tfidf_dev_accuracy.append(f1_score(clf_lgr.predict(X_dev), y_dev, average=\"weighted\"))   \n",
        "plt.plot(C_settings, tfidf_training_accuracy, label=\"training accuracy\")\n",
        "#plt.plot(C_settings, tfidf_dev_accuracy, label=\"dev accuracy\")\n",
        "plt.plot(C_settings, tfidf_test_accuracy, label=\"test accuracy\")\n",
        "plt.ylabel(\"Accuracy\")\n",
        "plt.xlabel(\"C\")\n",
        "plt.legend()"
      ]
    },
    {
      "cell_type": "markdown",
      "id": "717f8764",
      "metadata": {
        "id": "717f8764"
      },
      "source": [
        "This explains why the task required us to us C = 110. Observe the bump between 100th and 120th tick marks. Now, we compared the improvements made by Tfidf vectorization via their difference."
      ]
    },
    {
      "cell_type": "code",
      "execution_count": null,
      "id": "35b97548",
      "metadata": {
        "id": "35b97548",
        "outputId": "7460da2b-8752-4cbb-86b5-ece60797f4bd"
      },
      "outputs": [
        {
          "data": {
            "text/plain": [
              "<matplotlib.legend.Legend at 0x1d7ee91f520>"
            ]
          },
          "execution_count": 48,
          "metadata": {},
          "output_type": "execute_result"
        },
        {
          "data": {
            "image/png": "[encoded data removed]",
            "text/plain": [
              "<Figure size 432x288 with 1 Axes>"
            ]
          },
          "metadata": {
            "needs_background": "light"
          },
          "output_type": "display_data"
        }
      ],
      "source": [
        "train_difference = []\n",
        "zip_object = zip(tfidf_training_accuracy, count_training_accuracy)\n",
        "for tfidf_training_accuracy_i, count_training_accuracy_i in zip_object:\n",
        "    train_difference.append(tfidf_training_accuracy_i-count_training_accuracy_i)\n",
        "\n",
        "dev_difference = []\n",
        "zip_object = zip(tfidf_dev_accuracy, count_dev_accuracy)\n",
        "for tfidf_dev_accuracy_i, count_dev_accuracy_i in zip_object:\n",
        "    dev_difference.append(tfidf_dev_accuracy_i-count_dev_accuracy_i)\n",
        "\n",
        "test_difference = []\n",
        "zip_object = zip(tfidf_test_accuracy, count_test_accuracy)\n",
        "for tfidf_test_accuracy_i, count_test_accuracy_i in zip_object:\n",
        "    test_difference.append(tfidf_test_accuracy_i-count_test_accuracy_i)\n",
        "\n",
        "\n",
        "plt.plot(C_settings, train_difference, label=\"training accuracy\")\n",
        "#plt.plot(C_settings, dev_difference, label=\"dev accuracy\")\n",
        "plt.plot(C_settings, test_difference, label=\"test accuracy\")\n",
        "plt.ylabel(\"Accuracy\")\n",
        "plt.xlabel(\"C\")\n",
        "plt.legend()\n"
      ]
    },
    {
      "cell_type": "markdown",
      "id": "e997eb8b",
      "metadata": {
        "id": "e997eb8b"
      },
      "source": [
        "Observe that for lower values of L2 regularization, CountVectorizer outperforms TfidfVectorizer. At about C = 10 an onwards, TfidVectorizer always outperforms CounterVectorizer reaching at an asymptotic but non-monotonous point at C = 60."
      ]
    },
    {
      "cell_type": "code",
      "execution_count": null,
      "id": "b23e22d1",
      "metadata": {
        "id": "b23e22d1",
        "outputId": "bed60dfc-e15a-4534-ec29-1dbaae00d36d"
      },
      "outputs": [
        {
          "name": "stdout",
          "output_type": "stream",
          "text": [
            "Predictions:\n",
            "[3 1 1 1 2 3 0 2 1 2 1 0 3 1 2 1 0 2 1 3 1 0 3 2 3 0 2 2 0 0 1 0 0 2 1 1 3\n",
            " 0 1 2 2 1 3 0 3 0 1 2 2 1]\n",
            "Equality counter: 505\n",
            "0.7459379615952733\n",
            "Top three r ratio: [589, 573, 111]\n",
            "Average r ratio: inf\n"
          ]
        },
        {
          "name": "stderr",
          "output_type": "stream",
          "text": [
            "<ipython-input-49-0653ef621b55>:30: RuntimeWarning: divide by zero encountered in true_divide\n",
            "  r_ratio = np.divide(max_proba, actual_predicted_proba)\n"
          ]
        }
      ],
      "source": [
        "X_train = TfidfVectorizer().fit_transform(train_data)\n",
        "y_train = train_labels\n",
        "\n",
        "clf_lgr = LogisticRegression(C=110,max_iter=100000,solver=\"liblinear\", multi_class=\"auto\").fit(X_train, y_train)\n",
        "pred_proba = clf_lgr.predict_proba(X_test)\n",
        "\n",
        "\n",
        "#print(\"Argmax of predicted probabilities:\\n{}\".format(\n",
        " #np.argmax(clf_lgr.predict_proba(X_test)[:50], axis=1)))\n",
        "\n",
        "print(\"Predictions:\\n{}\".format(clf_lgr.predict(X_test)[:50]))\n",
        "\n",
        "#print(\"Predicted probabilities:\\n{}\".format(pred_proba[:6]))\n",
        "\n",
        "max_proba = np.max(clf_lgr.predict_proba(X_test), axis = 1)\n",
        "#print(max_proba[:10])\n",
        "\n",
        "\n",
        "actual_predicted_proba = []\n",
        "for i in range(0, len(pred_proba)):\n",
        "    actual_predicted_proba.append(pred_proba[i][y_test[i]])\n",
        "#print(actual_predicted_proba[:10])\n",
        "\n",
        "counter = 0\n",
        "for i in range(0, len(pred_proba)):\n",
        "    if actual_predicted_proba[i] == max_proba[i]:\n",
        "        counter += 1\n",
        "        \n",
        "        \n",
        "r_ratio = np.divide(max_proba, actual_predicted_proba)\n",
        "print(\"Equality counter: \" + str(counter))\n",
        "print(clf_lgr.score(X_test,y_test))\n",
        "\n",
        "# show that sums across rows are one\n",
        "# print(\"Sums: {}\".format(clf_lgr.predict_proba(X_test)[:6].sum(axis=1)))\n",
        "\n",
        "\n",
        "import heapq\n",
        "\n",
        "top_three = heapq.nlargest(3, range(len(r_ratio)), r_ratio.__getitem__)\n",
        "print(\"Top three r ratio: \" + str(sorted(top_three, reverse = True))) # This gives us non-infinite r_ratio values\n",
        "average_r_ratio = sum(r_ratio) / len(r_ratio)\n",
        "print(\"Average r ratio: \" + str(average_r_ratio))"
      ]
    },
    {
      "cell_type": "markdown",
      "id": "d8833c53",
      "metadata": {
        "id": "d8833c53"
      },
      "source": [
        "R ratio is a parameter relating our model's certainty of picking a particular feature per document and the actual probability it predicts.As you can see, the downside of using a Tfidf vectorizer is too much rescaling such that the makes the predictions \"more certain\" or \"more calibrated\" when it should be not. This tilts the scale such that some features gives us way too low of a certainty and calculating r ratio could not be precisely made due to machine precision limitations; some explodes due to division by zero. Using CounterVectorizer, we avoid this issue at the cost of some loss on f1 score."
      ]
    },
    {
      "cell_type": "code",
      "execution_count": null,
      "id": "37fb2e12",
      "metadata": {
        "id": "37fb2e12",
        "outputId": "d3834526-e5e4-4d70-b233-64f494b40c70"
      },
      "outputs": [
        {
          "name": "stdout",
          "output_type": "stream",
          "text": [
            "Predictions:\n",
            "[3 1 1 1 2 3 0 2 1 0 1 0 3 1 2 1 0 2 1 3 3 1 3 2 3 0 2 2 3 0 1 1 0 2 1 1 3\n",
            " 0 1 2 3 1 3 0 3 2 1 2 2 1]\n",
            "Equality counter: 491\n",
            "Top three r ratio: [616, 589, 111]\n",
            "Average r ratio: 3.3221624490757404e+80\n"
          ]
        }
      ],
      "source": [
        "X_train = CountVectorizer().fit_transform(train_data)\n",
        "y_train = train_labels\n",
        "\n",
        "clf_lgr = LogisticRegression(C=110,max_iter=100000,solver=\"liblinear\", multi_class=\"auto\").fit(X_train, y_train)\n",
        "pred_proba = clf_lgr.predict_proba(X_test)\n",
        "\n",
        "#print(\"Argmax of predicted probabilities:\\n{}\".format(\n",
        " #np.argmax(clf_lgr.predict_proba(X_test)[:50], axis=1)))\n",
        "\n",
        "print(\"Predictions:\\n{}\".format(clf_lgr.predict(X_test)[:50]))\n",
        "\n",
        "#print(\"Predicted probabilities:\\n{}\".format(pred_proba[:6]))\n",
        "\n",
        "max_proba = np.max(clf_lgr.predict_proba(X_test), axis = 1)\n",
        "#print(max_proba[:10])\n",
        "\n",
        "\n",
        "actual_predicted_proba = []\n",
        "for i in range(0, len(pred_proba)):\n",
        "    actual_predicted_proba.append(pred_proba[i][y_test[i]])\n",
        "#print(actual_predicted_proba[:10])\n",
        "\n",
        "counter = 0\n",
        "for i in range(0, len(pred_proba)):\n",
        "    if actual_predicted_proba[i] == max_proba[i]:\n",
        "        counter += 1\n",
        "        \n",
        "        \n",
        "r_ratio = np.divide(max_proba, actual_predicted_proba)\n",
        "print(\"Equality counter: \" + str(counter))\n",
        "#print(clf_lgr.score(X_test,y_test))\n",
        "\n",
        "import heapq\n",
        "\n",
        "top_three = heapq.nlargest(3, range(len(r_ratio)), r_ratio.__getitem__)\n",
        "print(\"Top three r ratio: \" + str(sorted(top_three, reverse = True)))\n",
        "# show that sums across rows are one\n",
        "# print(\"Sums: {}\".format(clf_lgr.predict_proba(X_test)[:6].sum(axis=1)))\n",
        "\n",
        "average_r_ratio = sum(r_ratio) / len(r_ratio)\n",
        "print(\"Average r ratio: \" + str(average_r_ratio))\n"
      ]
    },
    {
      "cell_type": "code",
      "execution_count": null,
      "id": "5257df91",
      "metadata": {
        "id": "5257df91",
        "outputId": "621b1fa3-cf06-48a8-9a41-98a1a7927018"
      },
      "outputs": [
        {
          "data": {
            "text/plain": [
              "<matplotlib.legend.Legend at 0x1d7eff06670>"
            ]
          },
          "execution_count": 51,
          "metadata": {},
          "output_type": "execute_result"
        },
        {
          "data": {
            "image/png": "[encoded data removed]",
            "text/plain": [
              "<Figure size 432x288 with 1 Axes>"
            ]
          },
          "metadata": {
            "needs_background": "light"
          },
          "output_type": "display_data"
        }
      ],
      "source": [
        "X_train = TfidfVectorizer().fit_transform(train_data)\n",
        "y_train = train_labels\n",
        "\n",
        "training_accuracy = []\n",
        "test_accuracy = []\n",
        "dev_accuracy = []\n",
        "alpha_settings = np.linspace(0.0005,0.01,30)\n",
        "for set_alpha in alpha_settings:\n",
        " # build the model\n",
        "    clf_mnb = MultinomialNB(alpha=set_alpha).fit(X_train, y_train)\n",
        " # record training set accuracy\n",
        "    training_accuracy.append(f1_score(clf_mnb.predict(X_train), y_train, average=\"weighted\"))\n",
        " # record generalization accuracy\n",
        "    #test_accuracy.append(f1_score(clf_mnb.predict(X_test), y_test, average=\"weighted\"))\n",
        " # record dev accuracy\n",
        "    dev_accuracy.append(f1_score(clf_mnb.predict(X_dev), y_dev, average=\"weighted\"))   \n",
        "plt.plot(alpha_settings, training_accuracy, label=\"training accuracy\")\n",
        "plt.plot(alpha_settings, dev_accuracy, label=\"dev accuracy\")\n",
        "#plt.plot(alpha_settings, test_accuracy, label=\"test accuracy\")\n",
        "plt.ylabel(\"Accuracy\")\n",
        "plt.xlabel(\"Alpha\")\n",
        "plt.legend()"
      ]
    },
    {
      "cell_type": "markdown",
      "id": "44afab09",
      "metadata": {
        "id": "44afab09"
      },
      "source": [
        "Again, we use alpha = 0.001"
      ]
    },
    {
      "cell_type": "code",
      "execution_count": null,
      "id": "fc4f01d1",
      "metadata": {
        "id": "fc4f01d1",
        "outputId": "934f2191-98c3-4582-ee7a-6205d42aca8a"
      },
      "outputs": [
        {
          "name": "stdout",
          "output_type": "stream",
          "text": [
            "CountVectorizer training set score: 0.962\n",
            "CountVectorizer test set score: 0.779\n",
            "TfdidfVectorizer training set score: 0.973\n",
            "TfdidfVectorizer test set score: 0.797\n"
          ]
        }
      ],
      "source": [
        "\n",
        "X_train = CountVectorizer().fit_transform(train_data)\n",
        "y_train = train_labels\n",
        "\n",
        "clf_mnb = MultinomialNB(alpha=0.001).fit(X_train, y_train)\n",
        "print(\"CountVectorizer training set score: {:.3f}\".format(f1_score(clf_mnb.predict(X_train), \n",
        "                                                                   y_train, average=\"weighted\")))\n",
        "print(\"CountVectorizer test set score: {:.3f}\".format(f1_score(clf_mnb.predict(X_test),\n",
        "                                                               y_test, average=\"weighted\")))\n",
        "\n",
        "X_train = TfidfVectorizer().fit_transform(train_data)\n",
        "y_train = train_labels\n",
        "\n",
        "clf_mnb = MultinomialNB(alpha=0.001).fit(X_train, y_train)\n",
        "print(\"TfdidfVectorizer training set score: {:.3f}\".format(f1_score(clf_mnb.predict(X_train),\n",
        "                                                                    y_train, average=\"weighted\")))\n",
        "print(\"TfdidfVectorizer test set score: {:.3f}\".format(f1_score(clf_mnb.predict(X_test),\n",
        "                                                                y_test, average=\"weighted\")))\n"
      ]
    },
    {
      "cell_type": "markdown",
      "id": "05d6a1f1",
      "metadata": {
        "id": "05d6a1f1"
      },
      "source": [
        "Using TfidfVectorizer improves the testing score of MultinomialNB by 0.08 compared to CountVectorizer."
      ]
    },
    {
      "cell_type": "code",
      "execution_count": null,
      "id": "eec2cdea",
      "metadata": {
        "id": "eec2cdea"
      },
      "outputs": [],
      "source": [
        "### END ###"
      ]
    },
    {
      "cell_type": "markdown",
      "id": "7384ee78",
      "metadata": {
        "id": "7384ee78"
      },
      "source": [
        "# Model assessments\n",
        "For this (large and sparse) dataset:\n",
        "1) Multinomial Naive Bayes classifier offers the best testing performance of all models.\\\n",
        "2) Vectorization via TfidfVectorizer provides a boost on training performance compared on the unweighted CountVectorizer but gives us the issue of too much calibration. \n",
        "\n"
      ]
    },
    {
      "cell_type": "markdown",
      "id": "48bbb2f5",
      "metadata": {
        "id": "48bbb2f5"
      },
      "source": [
        "# Reference\n",
        "\n",
        "Müller, A. C., & Guido, S. (2016). Introduction to machine learning with Python: a guide for data scientists. \" O'Reilly Media, Inc.\"."
      ]
    },
    {
      "cell_type": "code",
      "execution_count": null,
      "id": "f7cb663a",
      "metadata": {
        "id": "f7cb663a"
      },
      "outputs": [],
      "source": []
    }
  ],
  "metadata": {
    "kernelspec": {
      "display_name": "Python 3",
      "language": "python",
      "name": "python3"
    },
    "language_info": {
      "codemirror_mode": {
        "name": "ipython",
        "version": 3
      },
      "file_extension": ".py",
      "mimetype": "text/x-python",
      "name": "python",
      "nbconvert_exporter": "python",
      "pygments_lexer": "ipython3",
      "version": "3.8.8"
    },
    "colab": {
      "provenance": []
    }
  },
  "nbformat": 4,
  "nbformat_minor": 5
}