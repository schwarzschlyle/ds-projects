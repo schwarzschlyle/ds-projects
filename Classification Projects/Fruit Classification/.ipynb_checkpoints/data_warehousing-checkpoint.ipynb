{
 "cells": [
  {
   "cell_type": "code",
   "execution_count": 5,
   "id": "1ea1c758-cb54-4a22-8d76-badb0d96ddaf",
   "metadata": {},
   "outputs": [
    {
     "name": "stdout",
     "output_type": "stream",
     "text": [
      "    Index   Average R   Average G   Average B  ripeness_factor\n",
      "0       0  226.138720  213.276756  143.833948                1\n",
      "1       1  178.999754  132.577444    9.811511                1\n",
      "2       2  198.636834  175.153383  124.694733                1\n",
      "3       3  198.636834  175.153383  124.694733                1\n",
      "4       4  198.636834  175.153383  124.694733                1\n",
      "..    ...         ...         ...         ...              ...\n",
      "89     89  235.156542  206.862178  126.780643                1\n",
      "90     90  210.024420  194.962101  163.838913                1\n",
      "91     91  178.202262  160.152864   64.108171                1\n",
      "92     92  240.662901  225.432504  127.861658                1\n",
      "93     93  176.632682  141.925068   79.264705                1\n",
      "\n",
      "[94 rows x 5 columns]\n",
      "     Index   Average R   Average G   Average B  ripeness_factor\n",
      "0        0  129.017027  156.113736   77.239928                0\n",
      "1        1  121.159036  113.195426   42.147854                0\n",
      "2        2  230.605472  230.591540  207.540336                0\n",
      "3        3  209.970900  217.137528  171.728552                0\n",
      "4        4  122.350194  146.285187   84.459529                0\n",
      "..     ...         ...         ...         ...              ...\n",
      "115    115   90.784072  117.057687   73.356251                0\n",
      "116    116  212.629732  213.897003  194.165104                0\n",
      "117    117  134.005086  150.377511  101.440584                0\n",
      "118    118  102.898837  148.668259   57.498950                0\n",
      "119    119  201.725889  213.954904  176.876168                0\n",
      "\n",
      "[120 rows x 5 columns]\n"
     ]
    }
   ],
   "source": [
    "import os\n",
    "from PIL import Image\n",
    "import pandas as pd\n",
    "\n",
    "def process_images(directory):\n",
    "    image_files = os.listdir(directory)\n",
    "    data = []\n",
    "\n",
    "    for index, file_name in enumerate(image_files):\n",
    "        image_path = os.path.join(directory, file_name)\n",
    "        average_rgb_value = average_rgb(image_path)\n",
    "        data.append([index, average_rgb_value[0], average_rgb_value[1], average_rgb_value[2]])\n",
    "\n",
    "    df = pd.DataFrame(data, columns=['Index', 'Average R', 'Average G', 'Average B'])\n",
    "    return df\n",
    "\n",
    "def average_rgb(image_path):\n",
    "    image = Image.open(image_path)\n",
    "    rgb_values = image.convert(\"RGB\").getdata()\n",
    "\n",
    "    total_pixels = len(rgb_values)\n",
    "    total_r, total_g, total_b = 0, 0, 0\n",
    "    for r, g, b in rgb_values:\n",
    "        total_r += r\n",
    "        total_g += g\n",
    "        total_b += b\n",
    "\n",
    "    average_r = total_r / total_pixels\n",
    "    average_g = total_g / total_pixels\n",
    "    average_b = total_b / total_pixels\n",
    "\n",
    "    return (average_r, average_g, average_b)\n",
    "\n",
    "# Example usage\n",
    "directory = \"./dataset/banana_ripeness/ripe\"\n",
    "df_ripe = process_images(directory)\n",
    "df_ripe['ripeness_factor'] = 1\n",
    "\n",
    "\n",
    "\n",
    "directory = \"./dataset/banana_ripeness/green\"\n",
    "df_unripe = process_images(directory)\n",
    "df_unripe['ripeness_factor'] = 0\n",
    "\n",
    "\n",
    "\n",
    "df= pd.concat([df_ripe, df_unripe], ignore_index=True)\n",
    "df.to_csv(\"banana_rgb.csv\", index=False)\n",
    "print(df)\n"
   ]
  },
  {
   "cell_type": "code",
   "execution_count": null,
   "id": "76f66f93-c05f-4bea-9767-a13ddd853ffe",
   "metadata": {},
   "outputs": [],
   "source": []
  }
 ],
 "metadata": {
  "kernelspec": {
   "display_name": "Python 3 (ipykernel)",
   "language": "python",
   "name": "python3"
  },
  "language_info": {
   "codemirror_mode": {
    "name": "ipython",
    "version": 3
   },
   "file_extension": ".py",
   "mimetype": "text/x-python",
   "name": "python",
   "nbconvert_exporter": "python",
   "pygments_lexer": "ipython3",
   "version": "3.9.12"
  }
 },
 "nbformat": 4,
 "nbformat_minor": 5
}
