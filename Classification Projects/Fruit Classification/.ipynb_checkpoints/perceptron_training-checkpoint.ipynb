{
 "cells": [
  {
   "cell_type": "code",
   "execution_count": 2,
   "id": "258d651b-5738-4e5b-8a35-d83e3acfe0d4",
   "metadata": {},
   "outputs": [],
   "source": [
    "import pandas as pd\n",
    "import numpy as np\n"
   ]
  },
  {
   "cell_type": "code",
   "execution_count": 3,
   "id": "43bcd99f-b514-4e03-9b9c-2755620ead28",
   "metadata": {},
   "outputs": [],
   "source": [
    "df_ao = pd.read_csv('./data_warehouse_proxy/apples_and_oranges.csv')"
   ]
  },
  {
   "cell_type": "code",
   "execution_count": 4,
   "id": "fd57988d-e2f5-43b4-b70d-c9f9d3723bef",
   "metadata": {},
   "outputs": [
    {
     "name": "stdout",
     "output_type": "stream",
     "text": [
      "GIF animation saved as 'plots/gif/decision_animation.gif'.\n",
      "Model saved as 'ao_model.pickle'.\n"
     ]
    },
    {
     "ename": "NameError",
     "evalue": "name 'weight' is not defined",
     "output_type": "error",
     "traceback": [
      "\u001b[1;31m---------------------------------------------------------------------------\u001b[0m",
      "\u001b[1;31mNameError\u001b[0m                                 Traceback (most recent call last)",
      "Cell \u001b[1;32mIn [4], line 105\u001b[0m\n\u001b[0;32m     99\u001b[0m     perceptron \u001b[38;5;241m=\u001b[39m pickle\u001b[38;5;241m.\u001b[39mload(file)\n\u001b[0;32m    104\u001b[0m \u001b[38;5;66;03m# Predict the class\u001b[39;00m\n\u001b[1;32m--> 105\u001b[0m input_data \u001b[38;5;241m=\u001b[39m np\u001b[38;5;241m.\u001b[39marray([\u001b[43mweight\u001b[49m, size])\n\u001b[0;32m    106\u001b[0m decision_value \u001b[38;5;241m=\u001b[39m np\u001b[38;5;241m.\u001b[39mdot(input_data, perceptron\u001b[38;5;241m.\u001b[39mweights[\u001b[38;5;241m1\u001b[39m:]) \u001b[38;5;241m+\u001b[39m perceptron\u001b[38;5;241m.\u001b[39mweights[\u001b[38;5;241m0\u001b[39m]\n\u001b[0;32m    108\u001b[0m \u001b[38;5;28;01mif\u001b[39;00m decision_value \u001b[38;5;241m>\u001b[39m\u001b[38;5;241m=\u001b[39m \u001b[38;5;241m0\u001b[39m:\n",
      "\u001b[1;31mNameError\u001b[0m: name 'weight' is not defined"
     ]
    }
   ],
   "source": [
    "import numpy as np\n",
    "import matplotlib.pyplot as plt\n",
    "import imageio\n",
    "import pickle\n",
    "import os\n",
    "\n",
    "# Define the perceptron algorithm\n",
    "class Perceptron:\n",
    "    def __init__(self, learning_rate=0.1, epochs=1000):\n",
    "        self.learning_rate = learning_rate\n",
    "        self.epochs = epochs\n",
    "    \n",
    "    def fit(self, X, y):\n",
    "        self.weights = np.zeros(X.shape[1] + 1)\n",
    "        self.errors = []\n",
    "        \n",
    "        fig = plt.figure()  # Create a figure for the plot\n",
    "        \n",
    "        # Set initial plot limits based on data range\n",
    "        x_min, x_max = X[:, 0].min() - 1, X[:, 0].max() + 1\n",
    "        y_min, y_max = X[:, 1].min() - 1, X[:, 1].max() + 1\n",
    "        \n",
    "        for epoch in range(1, self.epochs + 1):\n",
    "            error = 0\n",
    "            for xi, target in zip(X, y):\n",
    "                update = self.learning_rate * (target - self.predict(xi))\n",
    "                self.weights[1:] += update * xi\n",
    "                self.weights[0] += update\n",
    "                error += int(update != 0.0)\n",
    "            self.errors.append(error)\n",
    "            \n",
    "            if epoch % 100 == 0:\n",
    "                # Plot the data points and decision line\n",
    "                plt.scatter(X[y == 1, 0], X[y == 1, 1], color='orange', label='orange')\n",
    "                plt.scatter(X[y == -1, 0], X[y == -1, 1], color='green', label='apple')\n",
    "                plt.xlabel('Weight')\n",
    "                plt.ylabel('Size')\n",
    "                plt.legend()\n",
    "\n",
    "                # Slope-intercept form: y = mx + b\n",
    "                m = -self.weights[1] / self.weights[2]\n",
    "                b = -self.weights[0] / self.weights[2]\n",
    "\n",
    "                plt.plot([x_min, x_max], [m * x_min + b, m * x_max + b], color='k', linestyle='--')\n",
    "                \n",
    "                # Set the plot limits\n",
    "                plt.xlim(x_min, x_max)\n",
    "                plt.ylim(y_min, y_max)\n",
    "                \n",
    "                # Add epoch number as text on the plot\n",
    "                plt.text(x_min + 0.1, y_max - 0.05 * (y_max - y_min), f\"Epoch: {epoch}\", color='black', fontsize=10)\n",
    "                \n",
    "                # Save the current plot as an image\n",
    "                if not os.path.exists(\"plots\"):\n",
    "                    os.makedirs(\"plots\")\n",
    "                plt.savefig(f\"plots/decision_plot_{epoch}.png\")\n",
    "                plt.close()  # Close the plot to clear the figure\n",
    "        \n",
    "        # Generate the GIF animation from the plots\n",
    "        images = []\n",
    "        for epoch in range(100, self.epochs + 1, 100):\n",
    "            filename = f\"plots/decision_plot_{epoch}.png\"\n",
    "            images.append(imageio.imread(filename))\n",
    "        \n",
    "        if not os.path.exists(\"plots/gif\"):\n",
    "            os.makedirs(\"plots/gif\")\n",
    "        imageio.mimsave(\"plots/gif/decision_animation.gif\", images, fps=100)\n",
    "        print(\"GIF animation saved as 'plots/gif/decision_animation.gif'.\")\n",
    "        \n",
    "        # Save the model as a pickle file\n",
    "        with open(\"ao_model.pickle\", \"wb\") as file:\n",
    "            pickle.dump(self, file)\n",
    "        print(\"Model saved as 'ao_model.pickle'.\")\n",
    "\n",
    "    def net_input(self, X):\n",
    "        return np.dot(X, self.weights[1:]) + self.weights[0]\n",
    "    \n",
    "    def step_function(self, X):\n",
    "        return np.where(self.net_input(X) >= 0.0, 1, -1)\n",
    "    \n",
    "    def predict(self, X):\n",
    "        return self.step_function(X)\n",
    "\n",
    "    \n",
    "\n",
    "    \n",
    "# Preprocess the data\n",
    "X = df_ao[['Weight', 'Size']].values\n",
    "y = np.where(df_ao['Class'] == 'orange', 1, -1)\n",
    "\n",
    "# Create the perceptron classifier\n",
    "perceptron = Perceptron(learning_rate=0.1, epochs=10000)\n",
    "perceptron.fit(X, y)\n",
    "\n",
    "\n",
    "\n",
    "# Load the model from the pickle file\n",
    "with open(\"ao_model.pickle\", \"rb\") as file:\n",
    "    perceptron = pickle.load(file)\n",
    "    \n",
    "\n",
    "weight = input(\"Weight: \")\n",
    "size = input(\"Size: \")\n",
    "\n",
    "# Predict the class\n",
    "input_data = np.array([weight, size])\n",
    "decision_value = np.dot(input_data, perceptron.weights[1:]) + perceptron.weights[0]\n",
    "\n",
    "if decision_value >= 0:\n",
    "    prediction = 1  # Orange\n",
    "else:\n",
    "    prediction = -1  # Apple\n",
    "\n",
    "# Plot the data points, decision line, and input point\n",
    "plt.scatter(X[y == 1, 0], X[y == 1, 1], color='orange', label='orange')\n",
    "plt.scatter(X[y == -1, 0], X[y == -1, 1], color='green', label='apple')\n",
    "plt.scatter(input_data[0], input_data[1], color='red', label='Input Point')\n",
    "plt.xlabel('Weight')\n",
    "plt.ylabel('Size')\n",
    "plt.legend()\n",
    "\n",
    "# Slope-intercept form: y = mx + b\n",
    "m = -perceptron.weights[1] / perceptron.weights[2]\n",
    "b = -perceptron.weights[0] / perceptron.weights[2]\n",
    "\n",
    "plt.plot([x_min, x_max], [m * x_min + b, m * x_max + b], color='k', linestyle='--')\n",
    "\n",
    "# Set the plot limits\n",
    "plt.xlim(x_min, x_max)\n",
    "plt.ylim(y_min, y_max)\n",
    "\n",
    "# Output the weights and biases\n",
    "print(\"Weights:\", perceptron.weights[1:])\n",
    "print(\"Bias:\", perceptron.weights[0])\n",
    "\n",
    "# Output the result\n",
    "if prediction == 1:\n",
    "    print(\"It's an orange.\")\n",
    "else:\n",
    "    print(\"It's an apple.\")\n",
    "\n",
    "# Save the plot with the input point\n",
    "if not os.path.exists(\"plots\"):\n",
    "    os.makedirs(\"plots\")\n",
    "plt.savefig(\"plots/input_point_plot.png\")\n",
    "plt.close()\n",
    "\n"
   ]
  },
  {
   "cell_type": "code",
   "execution_count": 57,
   "id": "28087d05-9f79-4204-b9d1-94cc06c73819",
   "metadata": {},
   "outputs": [
    {
     "name": "stdout",
     "output_type": "stream",
     "text": [
      "GIF animation saved as 'plots/gif/decision_animation.gif'.\n",
      "Model saved as 'model.pickle'.\n"
     ]
    },
    {
     "name": "stdin",
     "output_type": "stream",
     "text": [
      "Enter the weight:  66\n",
      "Enter the size:  6\n"
     ]
    },
    {
     "name": "stdout",
     "output_type": "stream",
     "text": [
      "Weights: [  100.8   -1827.092]\n",
      "Bias: 1034.400000000098\n",
      "It's an apple.\n"
     ]
    }
   ],
   "source": []
  }
 ],
 "metadata": {
  "kernelspec": {
   "display_name": "Python 3 (ipykernel)",
   "language": "python",
   "name": "python3"
  },
  "language_info": {
   "codemirror_mode": {
    "name": "ipython",
    "version": 3
   },
   "file_extension": ".py",
   "mimetype": "text/x-python",
   "name": "python",
   "nbconvert_exporter": "python",
   "pygments_lexer": "ipython3",
   "version": "3.9.12"
  }
 },
 "nbformat": 4,
 "nbformat_minor": 5
}
