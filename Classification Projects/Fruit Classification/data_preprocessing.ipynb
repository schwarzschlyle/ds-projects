{
 "cells": [
  {
   "cell_type": "code",
   "execution_count": 3,
   "id": "95c46390-c7e5-4d9d-9933-4d826bc33a08",
   "metadata": {},
   "outputs": [],
   "source": [
    "import os\n",
    "from PIL import Image\n",
    "import pandas as pd"
   ]
  },
  {
   "cell_type": "code",
   "execution_count": 4,
   "id": "11bc1282-8594-4f44-bf7c-ffd2eae0d3df",
   "metadata": {},
   "outputs": [],
   "source": [
    "df_ao = pd.read_csv('./data_warehouse_proxy/apples_and_oranges.csv')"
   ]
  },
  {
   "cell_type": "code",
   "execution_count": 5,
   "id": "b8731f19-6eda-4266-8a46-a7927513babe",
   "metadata": {},
   "outputs": [
    {
     "data": {
      "text/html": [
       "<div>\n",
       "<style scoped>\n",
       "    .dataframe tbody tr th:only-of-type {\n",
       "        vertical-align: middle;\n",
       "    }\n",
       "\n",
       "    .dataframe tbody tr th {\n",
       "        vertical-align: top;\n",
       "    }\n",
       "\n",
       "    .dataframe thead th {\n",
       "        text-align: right;\n",
       "    }\n",
       "</style>\n",
       "<table border=\"1\" class=\"dataframe\">\n",
       "  <thead>\n",
       "    <tr style=\"text-align: right;\">\n",
       "      <th></th>\n",
       "      <th>Weight</th>\n",
       "      <th>Size</th>\n",
       "      <th>Class</th>\n",
       "    </tr>\n",
       "  </thead>\n",
       "  <tbody>\n",
       "    <tr>\n",
       "      <th>0</th>\n",
       "      <td>69</td>\n",
       "      <td>4.39</td>\n",
       "      <td>orange</td>\n",
       "    </tr>\n",
       "    <tr>\n",
       "      <th>1</th>\n",
       "      <td>69</td>\n",
       "      <td>4.21</td>\n",
       "      <td>orange</td>\n",
       "    </tr>\n",
       "    <tr>\n",
       "      <th>2</th>\n",
       "      <td>65</td>\n",
       "      <td>4.09</td>\n",
       "      <td>orange</td>\n",
       "    </tr>\n",
       "    <tr>\n",
       "      <th>3</th>\n",
       "      <td>72</td>\n",
       "      <td>5.85</td>\n",
       "      <td>apple</td>\n",
       "    </tr>\n",
       "    <tr>\n",
       "      <th>4</th>\n",
       "      <td>67</td>\n",
       "      <td>4.70</td>\n",
       "      <td>orange</td>\n",
       "    </tr>\n",
       "  </tbody>\n",
       "</table>\n",
       "</div>"
      ],
      "text/plain": [
       "   Weight  Size   Class\n",
       "0      69  4.39  orange\n",
       "1      69  4.21  orange\n",
       "2      65  4.09  orange\n",
       "3      72  5.85   apple\n",
       "4      67  4.70  orange"
      ]
     },
     "execution_count": 5,
     "metadata": {},
     "output_type": "execute_result"
    }
   ],
   "source": [
    "df_ao.head()"
   ]
  },
  {
   "cell_type": "code",
   "execution_count": 6,
   "id": "2b7138c9-5b8c-48ee-9604-8ff3736be02f",
   "metadata": {},
   "outputs": [
    {
     "data": {
      "text/plain": [
       "Index(['Weight', 'Size', 'Class'], dtype='object')"
      ]
     },
     "execution_count": 6,
     "metadata": {},
     "output_type": "execute_result"
    }
   ],
   "source": [
    "df_ao.columns"
   ]
  },
  {
   "cell_type": "code",
   "execution_count": 7,
   "id": "b91a4a2b-e71f-4d69-a0f3-56e4e7df7dd4",
   "metadata": {},
   "outputs": [
    {
     "name": "stdout",
     "output_type": "stream",
     "text": [
      "Dataset Size: 120\n",
      "   Weight  Size   Class\n",
      "0      69  4.39  orange\n",
      "1      69  4.21  orange\n",
      "2      65  4.09  orange\n",
      "3      72  5.85   apple\n",
      "4      67  4.70  orange\n"
     ]
    }
   ],
   "source": [
    "print('Dataset Size: ' + str(df_ao.size))\n",
    "print(df_ao.head())"
   ]
  },
  {
   "cell_type": "code",
   "execution_count": 8,
   "id": "3a87cbb8-8e48-48f6-8f95-dc18f0da8975",
   "metadata": {},
   "outputs": [],
   "source": [
    "df_banana = pd.read_csv('./data_warehouse_proxy/banana_rgb.csv')"
   ]
  },
  {
   "cell_type": "code",
   "execution_count": 9,
   "id": "e7ccff05-03dd-4018-af05-edb0bbe60d80",
   "metadata": {},
   "outputs": [
    {
     "name": "stdout",
     "output_type": "stream",
     "text": [
      "Dataset Size: 1070\n",
      "Ripe Dataset Size: 470\n",
      "Ripe Dataset Size: 600\n",
      "   Index   Average R   Average G   Average B  ripeness_factor\n",
      "0      0  226.138720  213.276756  143.833948                1\n",
      "1      1  178.999754  132.577444    9.811511                1\n",
      "2      2  198.636834  175.153383  124.694733                1\n",
      "3      3  198.636834  175.153383  124.694733                1\n",
      "4      4  198.636834  175.153383  124.694733                1\n"
     ]
    }
   ],
   "source": [
    "print('Dataset Size: ' + str(df_banana.size))\n",
    "print('Ripe Dataset Size: ' + str(df_banana.query('ripeness_factor == 1').size))\n",
    "print('Ripe Dataset Size: ' + str(df_banana.query('ripeness_factor == 0').size))\n",
    "print(df_banana.head())"
   ]
  },
  {
   "cell_type": "code",
   "execution_count": 10,
   "id": "98567b0a-70a6-4152-b99b-0979e33692e9",
   "metadata": {},
   "outputs": [
    {
     "data": {
      "text/plain": [
       "Index(['Index', 'Average R', 'Average G', 'Average B', 'ripeness_factor'], dtype='object')"
      ]
     },
     "execution_count": 10,
     "metadata": {},
     "output_type": "execute_result"
    }
   ],
   "source": [
    "df_banana.columns"
   ]
  },
  {
   "cell_type": "code",
   "execution_count": 11,
   "id": "4950000a-b786-4ad7-bef0-48049b9a4e70",
   "metadata": {},
   "outputs": [
    {
     "name": "stdout",
     "output_type": "stream",
     "text": [
      "     Index  Average R  Average G  Average B  ripeness_factor\n",
      "0        0   0.871980   0.843975   0.636597                1\n",
      "1        1   0.645002   0.422874   0.027435                1\n",
      "2        2   0.739557   0.645042   0.549605                1\n",
      "3        3   0.739557   0.645042   0.549605                1\n",
      "4        4   0.739557   0.645042   0.549605                1\n",
      "..     ...        ...        ...        ...              ...\n",
      "209    115   0.220237   0.341889   0.316260                0\n",
      "210    116   0.806934   0.847212   0.865363                0\n",
      "211    117   0.428349   0.515757   0.443910                0\n",
      "212    118   0.278570   0.506838   0.244185                0\n",
      "213    119   0.754431   0.847514   0.786781                0\n",
      "\n",
      "[214 rows x 5 columns]\n"
     ]
    }
   ],
   "source": [
    "\n",
    "# Calculate the minimum and maximum values for each column\n",
    "min_r = df_banana['Average R'].min()\n",
    "max_r = df_banana['Average R'].max()\n",
    "\n",
    "min_g = df_banana['Average G'].min()\n",
    "max_g = df_banana['Average G'].max()\n",
    "\n",
    "min_b = df_banana['Average B'].min()\n",
    "max_b = df_banana['Average B'].max()\n",
    "\n",
    "# Perform min-max normalization for 'Average R', 'Average G', and 'Average B'\n",
    "df_banana['Average R'] = (df_banana['Average R'] - min_r) / (max_r - min_r)\n",
    "df_banana['Average G'] = (df_banana['Average G'] - min_g) / (max_g - min_g)\n",
    "df_banana['Average B'] = (df_banana['Average B'] - min_b) / (max_b - min_b)\n",
    "\n",
    "# Verify the updated DataFrame\n",
    "print(df_banana)"
   ]
  },
  {
   "cell_type": "code",
   "execution_count": null,
   "id": "371e1e00-fa6f-4d12-9337-f3abef50d19d",
   "metadata": {},
   "outputs": [],
   "source": []
  }
 ],
 "metadata": {
  "kernelspec": {
   "display_name": "Python 3 (ipykernel)",
   "language": "python",
   "name": "python3"
  },
  "language_info": {
   "codemirror_mode": {
    "name": "ipython",
    "version": 3
   },
   "file_extension": ".py",
   "mimetype": "text/x-python",
   "name": "python",
   "nbconvert_exporter": "python",
   "pygments_lexer": "ipython3",
   "version": "3.9.12"
  }
 },
 "nbformat": 4,
 "nbformat_minor": 5
}
