{
 "cells": [
  {
   "cell_type": "code",
   "execution_count": 3,
   "id": "1ea1c758-cb54-4a22-8d76-badb0d96ddaf",
   "metadata": {},
   "outputs": [
    {
     "name": "stdout",
     "output_type": "stream",
     "text": [
      "     Index  Average R  Average G  Average B  ripeness_factor\n",
      "0        0   0.871980   0.843975   0.636597                1\n",
      "1        1   0.645002   0.422874   0.027435                1\n",
      "2        2   0.739557   0.645042   0.549605                1\n",
      "3        3   0.739557   0.645042   0.549605                1\n",
      "4        4   0.739557   0.645042   0.549605                1\n",
      "..     ...        ...        ...        ...              ...\n",
      "209    115   0.220237   0.341889   0.316260                0\n",
      "210    116   0.806934   0.847212   0.865363                0\n",
      "211    117   0.428349   0.515757   0.443910                0\n",
      "212    118   0.278570   0.506838   0.244185                0\n",
      "213    119   0.754431   0.847514   0.786781                0\n",
      "\n",
      "[214 rows x 5 columns]\n"
     ]
    }
   ],
   "source": [
    "import os\n",
    "from PIL import Image\n",
    "import pandas as pd\n",
    "\n",
    "def process_images(directory):\n",
    "    image_files = os.listdir(directory)\n",
    "    data = []\n",
    "\n",
    "    for index, file_name in enumerate(image_files):\n",
    "        image_path = os.path.join(directory, file_name)\n",
    "        average_rgb_value = average_rgb(image_path)\n",
    "        data.append([index, average_rgb_value[0], average_rgb_value[1], average_rgb_value[2]])\n",
    "\n",
    "    df = pd.DataFrame(data, columns=['Index', 'Average R', 'Average G', 'Average B'])\n",
    "    return df\n",
    "\n",
    "def average_rgb(image_path):\n",
    "    image = Image.open(image_path)\n",
    "    rgb_values = image.convert(\"RGB\").getdata()\n",
    "\n",
    "    total_pixels = len(rgb_values)\n",
    "    total_r, total_g, total_b = 0, 0, 0\n",
    "    for r, g, b in rgb_values:\n",
    "        total_r += r\n",
    "        total_g += g\n",
    "        total_b += b\n",
    "\n",
    "    average_r = total_r / total_pixels\n",
    "    average_g = total_g / total_pixels\n",
    "    average_b = total_b / total_pixels\n",
    "\n",
    "    return (average_r, average_g, average_b)\n",
    "\n",
    "# Example usage\n",
    "directory = \"./dataset/banana_ripeness/ripe\"\n",
    "df_ripe = process_images(directory)\n",
    "df_ripe['ripeness_factor'] = 1\n",
    "\n",
    "\n",
    "\n",
    "directory = \"./dataset/banana_ripeness/green\"\n",
    "df_unripe = process_images(directory)\n",
    "df_unripe['ripeness_factor'] = 0\n",
    "\n",
    "\n",
    "df= pd.concat([df_ripe, df_unripe], ignore_index=True)\n",
    "\n",
    "\n",
    "\n",
    "\n",
    "# Calculate the minimum and maximum values for each column\n",
    "min_r = df['Average R'].min()\n",
    "max_r = df['Average R'].max()\n",
    "\n",
    "min_g = df['Average G'].min()\n",
    "max_g = df['Average G'].max()\n",
    "\n",
    "min_b = df['Average B'].min()\n",
    "max_b = df['Average B'].max()\n",
    "\n",
    "# Perform min-max normalization for 'Average R', 'Average G', and 'Average B'\n",
    "df['Average R'] = (df['Average R'] - min_r) / (max_r - min_r)\n",
    "df['Average G'] = (df['Average G'] - min_g) / (max_g - min_g)\n",
    "df['Average B'] = (df['Average B'] - min_b) / (max_b - min_b)\n",
    "\n",
    "\n",
    "\n",
    "\n",
    "df.to_csv(\"banana_rgb.csv\", index=False)\n",
    "print(df)\n"
   ]
  },
  {
   "cell_type": "code",
   "execution_count": 8,
   "id": "76f66f93-c05f-4bea-9767-a13ddd853ffe",
   "metadata": {},
   "outputs": [
    {
     "data": {
      "text/plain": [
       "Index(['Index', 'Average R', 'Average G', 'Average B', 'ripeness_factor'], dtype='object')"
      ]
     },
     "execution_count": 8,
     "metadata": {},
     "output_type": "execute_result"
    }
   ],
   "source": [
    "df.columns"
   ]
  },
  {
   "cell_type": "code",
   "execution_count": 11,
   "id": "6fd6f3bf-0c76-4c0f-bb87-f70d932e3b84",
   "metadata": {},
   "outputs": [],
   "source": [
    "df_apple_orange = pd.read_csv('./dataset/apples_and_oranges.csv')"
   ]
  },
  {
   "cell_type": "code",
   "execution_count": 14,
   "id": "981b0744-e879-422e-8361-caa46e935c5e",
   "metadata": {},
   "outputs": [
    {
     "data": {
      "text/plain": [
       "Index(['Weight', 'Size', 'Class'], dtype='object')"
      ]
     },
     "execution_count": 14,
     "metadata": {},
     "output_type": "execute_result"
    }
   ],
   "source": [
    "df_apple_orange.columns"
   ]
  },
  {
   "cell_type": "code",
   "execution_count": null,
   "id": "59ecb399-639f-401c-ba96-44b2bfecf0ee",
   "metadata": {},
   "outputs": [],
   "source": []
  }
 ],
 "metadata": {
  "kernelspec": {
   "display_name": "Python 3 (ipykernel)",
   "language": "python",
   "name": "python3"
  },
  "language_info": {
   "codemirror_mode": {
    "name": "ipython",
    "version": 3
   },
   "file_extension": ".py",
   "mimetype": "text/x-python",
   "name": "python",
   "nbconvert_exporter": "python",
   "pygments_lexer": "ipython3",
   "version": "3.9.12"
  }
 },
 "nbformat": 4,
 "nbformat_minor": 5
}
