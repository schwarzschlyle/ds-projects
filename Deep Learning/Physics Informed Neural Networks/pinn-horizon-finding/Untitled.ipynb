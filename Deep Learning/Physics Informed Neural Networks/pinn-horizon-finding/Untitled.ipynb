{
 "cells": [
  {
   "cell_type": "code",
   "execution_count": 51,
   "id": "014112f9-7330-4b1c-abb9-0465dc63219b",
   "metadata": {},
   "outputs": [
    {
     "name": "stdout",
     "output_type": "stream",
     "text": [
      "Numbers from ROI 1: ['30363']\n",
      "Numbers from ROI 2: ['000']\n"
     ]
    }
   ],
   "source": [
    "\n",
    "import numpy as np\n",
    "\n",
    "import pyautogui\n",
    "import cv2\n",
    "import pytesseract\n",
    "import re\n",
    "\n",
    "\n",
    "\n",
    "# Set the path to the Tesseract executable\n",
    "custom_tesseract_path = 'C:/Program Files/Tesseract-OCR/tesseract.exe'  # Update the path accordingly\n",
    "\n",
    "# Set the custom path to Tesseract OCR\n",
    "pytesseract.pytesseract.tesseract_cmd = custom_tesseract_path\n",
    "\n",
    "\n",
    "\n",
    "def extract_numbers_from_roi(x, y, width, height):\n",
    "    # Capture the screen\n",
    "    screenshot = pyautogui.screenshot()\n",
    "    \n",
    "    # Convert the screenshot to OpenCV format\n",
    "    img_cv = cv2.cvtColor(np.array(screenshot), cv2.COLOR_RGB2BGR)\n",
    "    \n",
    "    # Define the ROI coordinates\n",
    "    roi = img_cv[y:y+height, x:x+width]\n",
    "    \n",
    "    # Preprocess the ROI (optional)\n",
    "    processed_roi = cv2.cvtColor(roi, cv2.COLOR_BGR2GRAY)\n",
    "    \n",
    "    # Use Tesseract OCR to extract text from the ROI\n",
    "    result = pytesseract.image_to_string(processed_roi, config='--psm 6')\n",
    "    \n",
    "    # Extract numbers from the result (using regular expressions)\n",
    "    numbers = re.findall(r'\\d+', result)\n",
    "    \n",
    "    return numbers\n",
    "\n",
    "# Configure the regions of interest (ROI)\n",
    "roi_1 = (700, 893, 200, 100)  # Format: (x, y, width, height)\n",
    "roi_2 = (731, 95, 200, 40)\n",
    "\n",
    "# Extract numbers from ROI 1\n",
    "numbers_1 = extract_numbers_from_roi(*roi_1)\n",
    "print(\"Numbers from ROI 1:\", numbers_1)\n",
    "\n",
    "# Extract numbers from ROI 2\n",
    "numbers_2 = extract_numbers_from_roi(*roi_2)\n",
    "print(\"Numbers from ROI 2:\", numbers_2)\n"
   ]
  },
  {
   "cell_type": "code",
   "execution_count": 203,
   "id": "8dee0549-4256-4a70-8f9c-7e04c50ace78",
   "metadata": {},
   "outputs": [
    {
     "name": "stdout",
     "output_type": "stream",
     "text": [
      "ins | 25% | a% |\n",
      "13% | egy 12% |\n",
      "\n",
      "Numbers from ROI 1: ['25%', '13%', '12%']\n"
     ]
    }
   ],
   "source": [
    "def extract_numbers_from_roi(x, y, width, height):\n",
    "    # Capture the screen\n",
    "    screenshot = pyautogui.screenshot()\n",
    "    \n",
    "    # Convert the screenshot to OpenCV format\n",
    "    img_cv = cv2.cvtColor(np.array(screenshot), cv2.COLOR_RGB2BGR)\n",
    "    \n",
    "    # Define the ROI coordinates\n",
    "    roi = img_cv[y:y+height, x:x+width]\n",
    "    \n",
    "#     # Preprocess the ROI (optional)\n",
    "#     processed_roi = cv2.cvtColor(roi, cv2.COLOR_BGR2GRAY)\n",
    "    \n",
    "    # Convert ROI to grayscale\n",
    "    gray_roi = cv2.cvtColor(roi, cv2.COLOR_BGR2GRAY)\n",
    "    \n",
    "    # Thresholding to remove background\n",
    "    _, thresh = cv2.threshold(gray_roi, 0, 255, cv2.THRESH_BINARY_INV + cv2.THRESH_OTSU)\n",
    "    \n",
    "\n",
    "    \n",
    "    # Bitwise-AND to remove background\n",
    "    processed_roi = cv2.bitwise_and(roi, roi, mask=thresh)\n",
    "    \n",
    "    \n",
    "    \n",
    "    # Use Tesseract OCR to extract text from the ROI\n",
    "    result = pytesseract.image_to_string(processed_roi, config='--psm 6')\n",
    "    \n",
    "    \n",
    "    print (result)\n",
    "    # Extract numbers in \"XX%\" format from the result\n",
    "    numbers = re.findall(r'\\d{2}%', result)\n",
    "    \n",
    "    # Reshape the numbers into a 2x3 array\n",
    "    # numbers = np.array(numbers).reshape(2, 3)\n",
    "    \n",
    "    return numbers\n",
    "\n",
    "# Configure the regions of interest (ROI)\n",
    "roi_1 = (675, 876, 200, 100)  # Format: (x, y, width, height)\n",
    "\n",
    "\n",
    "# Extract numbers from ROI 1\n",
    "numbers_1 = extract_numbers_from_roi(*roi_1)\n",
    "print(\"Numbers from ROI 1:\", numbers_1)"
   ]
  },
  {
   "cell_type": "code",
   "execution_count": 59,
   "id": "4d6ba66d-352f-4e07-9f07-c48c2fb20040",
   "metadata": {},
   "outputs": [
    {
     "name": "stdout",
     "output_type": "stream",
     "text": [
      "Numbers from ROI 1: ['18%', '18%', '16%']\n"
     ]
    }
   ],
   "source": [
    "import cv2\n",
    "import numpy as np\n",
    "import pyautogui\n",
    "import pytesseract\n",
    "import re\n",
    "\n",
    "def extract_numbers_from_roi(x, y, width, height):\n",
    "    # Capture the screen\n",
    "    screenshot = pyautogui.screenshot()\n",
    "    \n",
    "    # Convert the screenshot to OpenCV format\n",
    "    img_cv = cv2.cvtColor(np.array(screenshot), cv2.COLOR_RGB2BGR)\n",
    "    \n",
    "    # Define the ROI coordinates\n",
    "    roi = img_cv[y:y+height, x:x+width]\n",
    "    \n",
    "    # Convert ROI to grayscale\n",
    "    gray_roi = cv2.cvtColor(roi, cv2.COLOR_BGR2GRAY)\n",
    "    \n",
    "    # Thresholding to remove background\n",
    "    _, thresh = cv2.threshold(gray_roi, 0, 255, cv2.THRESH_BINARY_INV + cv2.THRESH_OTSU)\n",
    "    \n",
    "    # Bitwise-AND to remove background\n",
    "    processed_roi = cv2.bitwise_and(roi, roi, mask=thresh)\n",
    "    \n",
    "    # Display the processed ROI\n",
    "    cv2.imshow(\"Processed ROI\", processed_roi)\n",
    "    cv2.waitKey(0)\n",
    "    cv2.destroyAllWindows()\n",
    "    \n",
    "    # Use Tesseract OCR to extract text from the ROI\n",
    "    result = pytesseract.image_to_string(processed_roi, config='--psm 6')\n",
    "    \n",
    "    # Extract numbers in \"XX%\" format from the result\n",
    "    numbers = re.findall(r'\\d{2}%', result)\n",
    "    \n",
    "    # Reshape the numbers into a 2x3 array\n",
    "    # numbers = np.array(numbers).reshape(2, 3)\n",
    "    \n",
    "    return numbers\n",
    "\n",
    "# Configure the regions of interest (ROI)\n",
    "timer_region = (716, 226, 60, 55)   # Format: (x, y, width, height)\n",
    "\n",
    "# Extract numbers from ROI 1\n",
    "numbers_1 = extract_numbers_from_roi(*roi_1)\n",
    "print(\"Numbers from ROI 1:\", numbers_1)\n"
   ]
  },
  {
   "cell_type": "code",
   "execution_count": null,
   "id": "b17ef18a-9a9c-43fb-9abf-f2fc1492b678",
   "metadata": {},
   "outputs": [],
   "source": []
  },
  {
   "cell_type": "code",
   "execution_count": 50,
   "id": "263d4bac-3461-46be-ad55-2c08eb73ae4e",
   "metadata": {},
   "outputs": [
    {
     "ename": "TesseractNotFoundError",
     "evalue": "tesseract is not installed or it's not in your PATH. See README file for more information.",
     "output_type": "error",
     "traceback": [
      "\u001b[1;31m---------------------------------------------------------------------------\u001b[0m",
      "\u001b[1;31mFileNotFoundError\u001b[0m                         Traceback (most recent call last)",
      "File \u001b[1;32m~\\anaconda3\\lib\\site-packages\\pytesseract\\pytesseract.py:255\u001b[0m, in \u001b[0;36mrun_tesseract\u001b[1;34m(input_filename, output_filename_base, extension, lang, config, nice, timeout)\u001b[0m\n\u001b[0;32m    254\u001b[0m \u001b[38;5;28;01mtry\u001b[39;00m:\n\u001b[1;32m--> 255\u001b[0m     proc \u001b[38;5;241m=\u001b[39m subprocess\u001b[38;5;241m.\u001b[39mPopen(cmd_args, \u001b[38;5;241m*\u001b[39m\u001b[38;5;241m*\u001b[39msubprocess_args())\n\u001b[0;32m    256\u001b[0m \u001b[38;5;28;01mexcept\u001b[39;00m \u001b[38;5;167;01mOSError\u001b[39;00m \u001b[38;5;28;01mas\u001b[39;00m e:\n",
      "File \u001b[1;32m~\\anaconda3\\lib\\subprocess.py:951\u001b[0m, in \u001b[0;36mPopen.__init__\u001b[1;34m(self, args, bufsize, executable, stdin, stdout, stderr, preexec_fn, close_fds, shell, cwd, env, universal_newlines, startupinfo, creationflags, restore_signals, start_new_session, pass_fds, user, group, extra_groups, encoding, errors, text, umask)\u001b[0m\n\u001b[0;32m    948\u001b[0m             \u001b[38;5;28mself\u001b[39m\u001b[38;5;241m.\u001b[39mstderr \u001b[38;5;241m=\u001b[39m io\u001b[38;5;241m.\u001b[39mTextIOWrapper(\u001b[38;5;28mself\u001b[39m\u001b[38;5;241m.\u001b[39mstderr,\n\u001b[0;32m    949\u001b[0m                     encoding\u001b[38;5;241m=\u001b[39mencoding, errors\u001b[38;5;241m=\u001b[39merrors)\n\u001b[1;32m--> 951\u001b[0m     \u001b[38;5;28;43mself\u001b[39;49m\u001b[38;5;241;43m.\u001b[39;49m\u001b[43m_execute_child\u001b[49m\u001b[43m(\u001b[49m\u001b[43margs\u001b[49m\u001b[43m,\u001b[49m\u001b[43m \u001b[49m\u001b[43mexecutable\u001b[49m\u001b[43m,\u001b[49m\u001b[43m \u001b[49m\u001b[43mpreexec_fn\u001b[49m\u001b[43m,\u001b[49m\u001b[43m \u001b[49m\u001b[43mclose_fds\u001b[49m\u001b[43m,\u001b[49m\n\u001b[0;32m    952\u001b[0m \u001b[43m                        \u001b[49m\u001b[43mpass_fds\u001b[49m\u001b[43m,\u001b[49m\u001b[43m \u001b[49m\u001b[43mcwd\u001b[49m\u001b[43m,\u001b[49m\u001b[43m \u001b[49m\u001b[43menv\u001b[49m\u001b[43m,\u001b[49m\n\u001b[0;32m    953\u001b[0m \u001b[43m                        \u001b[49m\u001b[43mstartupinfo\u001b[49m\u001b[43m,\u001b[49m\u001b[43m \u001b[49m\u001b[43mcreationflags\u001b[49m\u001b[43m,\u001b[49m\u001b[43m \u001b[49m\u001b[43mshell\u001b[49m\u001b[43m,\u001b[49m\n\u001b[0;32m    954\u001b[0m \u001b[43m                        \u001b[49m\u001b[43mp2cread\u001b[49m\u001b[43m,\u001b[49m\u001b[43m \u001b[49m\u001b[43mp2cwrite\u001b[49m\u001b[43m,\u001b[49m\n\u001b[0;32m    955\u001b[0m \u001b[43m                        \u001b[49m\u001b[43mc2pread\u001b[49m\u001b[43m,\u001b[49m\u001b[43m \u001b[49m\u001b[43mc2pwrite\u001b[49m\u001b[43m,\u001b[49m\n\u001b[0;32m    956\u001b[0m \u001b[43m                        \u001b[49m\u001b[43merrread\u001b[49m\u001b[43m,\u001b[49m\u001b[43m \u001b[49m\u001b[43merrwrite\u001b[49m\u001b[43m,\u001b[49m\n\u001b[0;32m    957\u001b[0m \u001b[43m                        \u001b[49m\u001b[43mrestore_signals\u001b[49m\u001b[43m,\u001b[49m\n\u001b[0;32m    958\u001b[0m \u001b[43m                        \u001b[49m\u001b[43mgid\u001b[49m\u001b[43m,\u001b[49m\u001b[43m \u001b[49m\u001b[43mgids\u001b[49m\u001b[43m,\u001b[49m\u001b[43m \u001b[49m\u001b[43muid\u001b[49m\u001b[43m,\u001b[49m\u001b[43m \u001b[49m\u001b[43mumask\u001b[49m\u001b[43m,\u001b[49m\n\u001b[0;32m    959\u001b[0m \u001b[43m                        \u001b[49m\u001b[43mstart_new_session\u001b[49m\u001b[43m)\u001b[49m\n\u001b[0;32m    960\u001b[0m \u001b[38;5;28;01mexcept\u001b[39;00m:\n\u001b[0;32m    961\u001b[0m     \u001b[38;5;66;03m# Cleanup if the child failed starting.\u001b[39;00m\n",
      "File \u001b[1;32m~\\anaconda3\\lib\\subprocess.py:1420\u001b[0m, in \u001b[0;36mPopen._execute_child\u001b[1;34m(self, args, executable, preexec_fn, close_fds, pass_fds, cwd, env, startupinfo, creationflags, shell, p2cread, p2cwrite, c2pread, c2pwrite, errread, errwrite, unused_restore_signals, unused_gid, unused_gids, unused_uid, unused_umask, unused_start_new_session)\u001b[0m\n\u001b[0;32m   1419\u001b[0m \u001b[38;5;28;01mtry\u001b[39;00m:\n\u001b[1;32m-> 1420\u001b[0m     hp, ht, pid, tid \u001b[38;5;241m=\u001b[39m \u001b[43m_winapi\u001b[49m\u001b[38;5;241;43m.\u001b[39;49m\u001b[43mCreateProcess\u001b[49m\u001b[43m(\u001b[49m\u001b[43mexecutable\u001b[49m\u001b[43m,\u001b[49m\u001b[43m \u001b[49m\u001b[43margs\u001b[49m\u001b[43m,\u001b[49m\n\u001b[0;32m   1421\u001b[0m \u001b[43m                             \u001b[49m\u001b[38;5;66;43;03m# no special security\u001b[39;49;00m\n\u001b[0;32m   1422\u001b[0m \u001b[43m                             \u001b[49m\u001b[38;5;28;43;01mNone\u001b[39;49;00m\u001b[43m,\u001b[49m\u001b[43m \u001b[49m\u001b[38;5;28;43;01mNone\u001b[39;49;00m\u001b[43m,\u001b[49m\n\u001b[0;32m   1423\u001b[0m \u001b[43m                             \u001b[49m\u001b[38;5;28;43mint\u001b[39;49m\u001b[43m(\u001b[49m\u001b[38;5;129;43;01mnot\u001b[39;49;00m\u001b[43m \u001b[49m\u001b[43mclose_fds\u001b[49m\u001b[43m)\u001b[49m\u001b[43m,\u001b[49m\n\u001b[0;32m   1424\u001b[0m \u001b[43m                             \u001b[49m\u001b[43mcreationflags\u001b[49m\u001b[43m,\u001b[49m\n\u001b[0;32m   1425\u001b[0m \u001b[43m                             \u001b[49m\u001b[43menv\u001b[49m\u001b[43m,\u001b[49m\n\u001b[0;32m   1426\u001b[0m \u001b[43m                             \u001b[49m\u001b[43mcwd\u001b[49m\u001b[43m,\u001b[49m\n\u001b[0;32m   1427\u001b[0m \u001b[43m                             \u001b[49m\u001b[43mstartupinfo\u001b[49m\u001b[43m)\u001b[49m\n\u001b[0;32m   1428\u001b[0m \u001b[38;5;28;01mfinally\u001b[39;00m:\n\u001b[0;32m   1429\u001b[0m     \u001b[38;5;66;03m# Child is launched. Close the parent's copy of those pipe\u001b[39;00m\n\u001b[0;32m   1430\u001b[0m     \u001b[38;5;66;03m# handles that only the child should have open.  You need\u001b[39;00m\n\u001b[1;32m   (...)\u001b[0m\n\u001b[0;32m   1433\u001b[0m     \u001b[38;5;66;03m# pipe will not close when the child process exits and the\u001b[39;00m\n\u001b[0;32m   1434\u001b[0m     \u001b[38;5;66;03m# ReadFile will hang.\u001b[39;00m\n",
      "\u001b[1;31mFileNotFoundError\u001b[0m: [WinError 2] The system cannot find the file specified",
      "\nDuring handling of the above exception, another exception occurred:\n",
      "\u001b[1;31mTesseractNotFoundError\u001b[0m                    Traceback (most recent call last)",
      "Cell \u001b[1;32mIn [50], line 64\u001b[0m\n\u001b[0;32m     61\u001b[0m roi_1 \u001b[38;5;241m=\u001b[39m (\u001b[38;5;241m716\u001b[39m, \u001b[38;5;241m226\u001b[39m, \u001b[38;5;241m60\u001b[39m, \u001b[38;5;241m55\u001b[39m)  \u001b[38;5;66;03m# Format: (x, y, width, height)\u001b[39;00m\n\u001b[0;32m     63\u001b[0m \u001b[38;5;66;03m# Extract numbers from ROI 1\u001b[39;00m\n\u001b[1;32m---> 64\u001b[0m numbers_1 \u001b[38;5;241m=\u001b[39m \u001b[43mextract_numbers_from_roi\u001b[49m\u001b[43m(\u001b[49m\u001b[38;5;241;43m*\u001b[39;49m\u001b[43mroi_1\u001b[49m\u001b[43m)\u001b[49m\n\u001b[0;32m     65\u001b[0m \u001b[38;5;28mprint\u001b[39m(\u001b[38;5;124m\"\u001b[39m\u001b[38;5;124mNumbers from ROI 1:\u001b[39m\u001b[38;5;124m\"\u001b[39m, numbers_1)\n",
      "Cell \u001b[1;32mIn [50], line 42\u001b[0m, in \u001b[0;36mextract_numbers_from_roi\u001b[1;34m(x, y, width, height)\u001b[0m\n\u001b[0;32m     39\u001b[0m gray_combined_processed_roi \u001b[38;5;241m=\u001b[39m cv2\u001b[38;5;241m.\u001b[39mcvtColor(combined_processed_roi, cv2\u001b[38;5;241m.\u001b[39mCOLOR_BGR2GRAY)\n\u001b[0;32m     41\u001b[0m \u001b[38;5;66;03m# Use Tesseract OCR to extract text from the ROI\u001b[39;00m\n\u001b[1;32m---> 42\u001b[0m result \u001b[38;5;241m=\u001b[39m \u001b[43mpytesseract\u001b[49m\u001b[38;5;241;43m.\u001b[39;49m\u001b[43mimage_to_string\u001b[49m\u001b[43m(\u001b[49m\u001b[43mgray_combined_processed_roi\u001b[49m\u001b[43m,\u001b[49m\u001b[43m \u001b[49m\u001b[43mconfig\u001b[49m\u001b[38;5;241;43m=\u001b[39;49m\u001b[38;5;124;43m'\u001b[39;49m\u001b[38;5;124;43m--psm 6\u001b[39;49m\u001b[38;5;124;43m'\u001b[39;49m\u001b[43m)\u001b[49m\n\u001b[0;32m     44\u001b[0m \u001b[38;5;66;03m# Extract numbers in \"XX%\" format from the result\u001b[39;00m\n\u001b[0;32m     45\u001b[0m numbers \u001b[38;5;241m=\u001b[39m re\u001b[38;5;241m.\u001b[39mfindall(\u001b[38;5;124mr\u001b[39m\u001b[38;5;124m'\u001b[39m\u001b[38;5;124m\\\u001b[39m\u001b[38;5;124md\u001b[39m\u001b[38;5;132;01m{2}\u001b[39;00m\u001b[38;5;124m%\u001b[39m\u001b[38;5;124m'\u001b[39m, result)\n",
      "File \u001b[1;32m~\\anaconda3\\lib\\site-packages\\pytesseract\\pytesseract.py:423\u001b[0m, in \u001b[0;36mimage_to_string\u001b[1;34m(image, lang, config, nice, output_type, timeout)\u001b[0m\n\u001b[0;32m    418\u001b[0m \u001b[38;5;124;03m\"\"\"\u001b[39;00m\n\u001b[0;32m    419\u001b[0m \u001b[38;5;124;03mReturns the result of a Tesseract OCR run on the provided image to string\u001b[39;00m\n\u001b[0;32m    420\u001b[0m \u001b[38;5;124;03m\"\"\"\u001b[39;00m\n\u001b[0;32m    421\u001b[0m args \u001b[38;5;241m=\u001b[39m [image, \u001b[38;5;124m'\u001b[39m\u001b[38;5;124mtxt\u001b[39m\u001b[38;5;124m'\u001b[39m, lang, config, nice, timeout]\n\u001b[1;32m--> 423\u001b[0m \u001b[38;5;28;01mreturn\u001b[39;00m \u001b[43m{\u001b[49m\n\u001b[0;32m    424\u001b[0m \u001b[43m    \u001b[49m\u001b[43mOutput\u001b[49m\u001b[38;5;241;43m.\u001b[39;49m\u001b[43mBYTES\u001b[49m\u001b[43m:\u001b[49m\u001b[43m \u001b[49m\u001b[38;5;28;43;01mlambda\u001b[39;49;00m\u001b[43m:\u001b[49m\u001b[43m \u001b[49m\u001b[43mrun_and_get_output\u001b[49m\u001b[43m(\u001b[49m\u001b[38;5;241;43m*\u001b[39;49m\u001b[43m(\u001b[49m\u001b[43margs\u001b[49m\u001b[43m \u001b[49m\u001b[38;5;241;43m+\u001b[39;49m\u001b[43m \u001b[49m\u001b[43m[\u001b[49m\u001b[38;5;28;43;01mTrue\u001b[39;49;00m\u001b[43m]\u001b[49m\u001b[43m)\u001b[49m\u001b[43m)\u001b[49m\u001b[43m,\u001b[49m\n\u001b[0;32m    425\u001b[0m \u001b[43m    \u001b[49m\u001b[43mOutput\u001b[49m\u001b[38;5;241;43m.\u001b[39;49m\u001b[43mDICT\u001b[49m\u001b[43m:\u001b[49m\u001b[43m \u001b[49m\u001b[38;5;28;43;01mlambda\u001b[39;49;00m\u001b[43m:\u001b[49m\u001b[43m \u001b[49m\u001b[43m{\u001b[49m\u001b[38;5;124;43m'\u001b[39;49m\u001b[38;5;124;43mtext\u001b[39;49m\u001b[38;5;124;43m'\u001b[39;49m\u001b[43m:\u001b[49m\u001b[43m \u001b[49m\u001b[43mrun_and_get_output\u001b[49m\u001b[43m(\u001b[49m\u001b[38;5;241;43m*\u001b[39;49m\u001b[43margs\u001b[49m\u001b[43m)\u001b[49m\u001b[43m}\u001b[49m\u001b[43m,\u001b[49m\n\u001b[0;32m    426\u001b[0m \u001b[43m    \u001b[49m\u001b[43mOutput\u001b[49m\u001b[38;5;241;43m.\u001b[39;49m\u001b[43mSTRING\u001b[49m\u001b[43m:\u001b[49m\u001b[43m \u001b[49m\u001b[38;5;28;43;01mlambda\u001b[39;49;00m\u001b[43m:\u001b[49m\u001b[43m \u001b[49m\u001b[43mrun_and_get_output\u001b[49m\u001b[43m(\u001b[49m\u001b[38;5;241;43m*\u001b[39;49m\u001b[43margs\u001b[49m\u001b[43m)\u001b[49m\u001b[43m,\u001b[49m\n\u001b[0;32m    427\u001b[0m \u001b[43m\u001b[49m\u001b[43m}\u001b[49m\u001b[43m[\u001b[49m\u001b[43moutput_type\u001b[49m\u001b[43m]\u001b[49m\u001b[43m(\u001b[49m\u001b[43m)\u001b[49m\n",
      "File \u001b[1;32m~\\anaconda3\\lib\\site-packages\\pytesseract\\pytesseract.py:426\u001b[0m, in \u001b[0;36mimage_to_string.<locals>.<lambda>\u001b[1;34m()\u001b[0m\n\u001b[0;32m    418\u001b[0m \u001b[38;5;124;03m\"\"\"\u001b[39;00m\n\u001b[0;32m    419\u001b[0m \u001b[38;5;124;03mReturns the result of a Tesseract OCR run on the provided image to string\u001b[39;00m\n\u001b[0;32m    420\u001b[0m \u001b[38;5;124;03m\"\"\"\u001b[39;00m\n\u001b[0;32m    421\u001b[0m args \u001b[38;5;241m=\u001b[39m [image, \u001b[38;5;124m'\u001b[39m\u001b[38;5;124mtxt\u001b[39m\u001b[38;5;124m'\u001b[39m, lang, config, nice, timeout]\n\u001b[0;32m    423\u001b[0m \u001b[38;5;28;01mreturn\u001b[39;00m {\n\u001b[0;32m    424\u001b[0m     Output\u001b[38;5;241m.\u001b[39mBYTES: \u001b[38;5;28;01mlambda\u001b[39;00m: run_and_get_output(\u001b[38;5;241m*\u001b[39m(args \u001b[38;5;241m+\u001b[39m [\u001b[38;5;28;01mTrue\u001b[39;00m])),\n\u001b[0;32m    425\u001b[0m     Output\u001b[38;5;241m.\u001b[39mDICT: \u001b[38;5;28;01mlambda\u001b[39;00m: {\u001b[38;5;124m'\u001b[39m\u001b[38;5;124mtext\u001b[39m\u001b[38;5;124m'\u001b[39m: run_and_get_output(\u001b[38;5;241m*\u001b[39margs)},\n\u001b[1;32m--> 426\u001b[0m     Output\u001b[38;5;241m.\u001b[39mSTRING: \u001b[38;5;28;01mlambda\u001b[39;00m: \u001b[43mrun_and_get_output\u001b[49m\u001b[43m(\u001b[49m\u001b[38;5;241;43m*\u001b[39;49m\u001b[43margs\u001b[49m\u001b[43m)\u001b[49m,\n\u001b[0;32m    427\u001b[0m }[output_type]()\n",
      "File \u001b[1;32m~\\anaconda3\\lib\\site-packages\\pytesseract\\pytesseract.py:288\u001b[0m, in \u001b[0;36mrun_and_get_output\u001b[1;34m(image, extension, lang, config, nice, timeout, return_bytes)\u001b[0m\n\u001b[0;32m    277\u001b[0m \u001b[38;5;28;01mwith\u001b[39;00m save(image) \u001b[38;5;28;01mas\u001b[39;00m (temp_name, input_filename):\n\u001b[0;32m    278\u001b[0m     kwargs \u001b[38;5;241m=\u001b[39m {\n\u001b[0;32m    279\u001b[0m         \u001b[38;5;124m'\u001b[39m\u001b[38;5;124minput_filename\u001b[39m\u001b[38;5;124m'\u001b[39m: input_filename,\n\u001b[0;32m    280\u001b[0m         \u001b[38;5;124m'\u001b[39m\u001b[38;5;124moutput_filename_base\u001b[39m\u001b[38;5;124m'\u001b[39m: temp_name,\n\u001b[1;32m   (...)\u001b[0m\n\u001b[0;32m    285\u001b[0m         \u001b[38;5;124m'\u001b[39m\u001b[38;5;124mtimeout\u001b[39m\u001b[38;5;124m'\u001b[39m: timeout,\n\u001b[0;32m    286\u001b[0m     }\n\u001b[1;32m--> 288\u001b[0m     run_tesseract(\u001b[38;5;241m*\u001b[39m\u001b[38;5;241m*\u001b[39mkwargs)\n\u001b[0;32m    289\u001b[0m     filename \u001b[38;5;241m=\u001b[39m \u001b[38;5;124mf\u001b[39m\u001b[38;5;124m\"\u001b[39m\u001b[38;5;132;01m{\u001b[39;00mkwargs[\u001b[38;5;124m'\u001b[39m\u001b[38;5;124moutput_filename_base\u001b[39m\u001b[38;5;124m'\u001b[39m]\u001b[38;5;132;01m}\u001b[39;00m\u001b[38;5;132;01m{\u001b[39;00mextsep\u001b[38;5;132;01m}\u001b[39;00m\u001b[38;5;132;01m{\u001b[39;00mextension\u001b[38;5;132;01m}\u001b[39;00m\u001b[38;5;124m\"\u001b[39m\n\u001b[0;32m    290\u001b[0m     \u001b[38;5;28;01mwith\u001b[39;00m \u001b[38;5;28mopen\u001b[39m(filename, \u001b[38;5;124m'\u001b[39m\u001b[38;5;124mrb\u001b[39m\u001b[38;5;124m'\u001b[39m) \u001b[38;5;28;01mas\u001b[39;00m output_file:\n",
      "File \u001b[1;32m~\\anaconda3\\lib\\site-packages\\pytesseract\\pytesseract.py:260\u001b[0m, in \u001b[0;36mrun_tesseract\u001b[1;34m(input_filename, output_filename_base, extension, lang, config, nice, timeout)\u001b[0m\n\u001b[0;32m    258\u001b[0m         \u001b[38;5;28;01mraise\u001b[39;00m\n\u001b[0;32m    259\u001b[0m     \u001b[38;5;28;01melse\u001b[39;00m:\n\u001b[1;32m--> 260\u001b[0m         \u001b[38;5;28;01mraise\u001b[39;00m TesseractNotFoundError()\n\u001b[0;32m    262\u001b[0m \u001b[38;5;28;01mwith\u001b[39;00m timeout_manager(proc, timeout) \u001b[38;5;28;01mas\u001b[39;00m error_string:\n\u001b[0;32m    263\u001b[0m     \u001b[38;5;28;01mif\u001b[39;00m proc\u001b[38;5;241m.\u001b[39mreturncode:\n",
      "\u001b[1;31mTesseractNotFoundError\u001b[0m: tesseract is not installed or it's not in your PATH. See README file for more information."
     ]
    }
   ],
   "source": [
    "import cv2\n",
    "import numpy as np\n",
    "import pyautogui\n",
    "import pytesseract\n",
    "import re\n",
    "\n",
    "def extract_numbers_from_roi(x, y, width, height):\n",
    "    # Capture the screen\n",
    "    screenshot = pyautogui.screenshot()\n",
    "    \n",
    "    # Convert the screenshot to OpenCV format\n",
    "    img_cv = cv2.cvtColor(np.array(screenshot), cv2.COLOR_RGB2BGR)\n",
    "    \n",
    "    # Define the ROI coordinates\n",
    "    roi = img_cv[y:y+height, x:x+width]\n",
    "    \n",
    "    # Convert ROI to grayscale\n",
    "    gray_roi = cv2.cvtColor(roi, cv2.COLOR_BGR2GRAY)\n",
    "    \n",
    "    # Thresholding to remove overall background\n",
    "    _, thresh = cv2.threshold(gray_roi, 0, 255, cv2.THRESH_BINARY_INV + cv2.THRESH_OTSU)\n",
    "    \n",
    "    # Convert ROI to HSV format\n",
    "    hsv_roi = cv2.cvtColor(roi, cv2.COLOR_BGR2HSV)\n",
    "    \n",
    "    # Define the lower and upper color thresholds for dark red background\n",
    "    lower_dark_red = np.array([0, 0, 50])\n",
    "    upper_dark_red = np.array([70, 70, 150])\n",
    "    \n",
    "    # Apply color-based thresholding for dark red background\n",
    "    mask_dark_red = cv2.inRange(hsv_roi, lower_dark_red, upper_dark_red)\n",
    "    processed_roi_dark_red = cv2.bitwise_and(roi, roi, mask=mask_dark_red)\n",
    "    \n",
    "    # Combine thresholded images\n",
    "    combined_mask = cv2.bitwise_or(thresh, mask_dark_red)\n",
    "    combined_processed_roi = cv2.bitwise_and(roi, roi, mask=combined_mask)\n",
    "    \n",
    "    # Convert combined processed ROI to grayscale\n",
    "    gray_combined_processed_roi = cv2.cvtColor(combined_processed_roi, cv2.COLOR_BGR2GRAY)\n",
    "    \n",
    "    # Use Tesseract OCR to extract text from the ROI\n",
    "    result = pytesseract.image_to_string(gray_combined_processed_roi, config='--psm 6')\n",
    "    \n",
    "    # Extract numbers in \"XX%\" format from the result\n",
    "    numbers = re.findall(r'\\d{2}%', result)\n",
    "    \n",
    "    # Reshape the numbers into a 2x3 array\n",
    "    # numbers = np.array(numbers).reshape(2, 3)\n",
    "    \n",
    "    print(result)\n",
    "    \n",
    "    # Display the processed ROI\n",
    "    cv2.imshow(\"Processed ROI\", gray_combined_processed_roi)\n",
    "    cv2.waitKey(0)\n",
    "    cv2.destroyAllWindows()\n",
    "    \n",
    "    \n",
    "    return numbers\n",
    "\n",
    "# Configure the regions of interest (ROI)\n",
    "roi_1 = (716, 226, 60, 55)  # Format: (x, y, width, height)\n",
    "\n",
    "# Extract numbers from ROI 1\n",
    "numbers_1 = extract_numbers_from_roi(*roi_1)\n",
    "print(\"Numbers from ROI 1:\", numbers_1)\n"
   ]
  },
  {
   "cell_type": "code",
   "execution_count": null,
   "id": "c88f1b42-2b71-4cd0-80b3-5ea9109900e0",
   "metadata": {},
   "outputs": [],
   "source": []
  },
  {
   "cell_type": "code",
   "execution_count": null,
   "id": "4a0761fd-92b3-49a1-92df-8f1d4ba7e38f",
   "metadata": {},
   "outputs": [],
   "source": []
  },
  {
   "cell_type": "code",
   "execution_count": null,
   "id": "9493dbed-7fec-40c7-a836-f39c661ce8a2",
   "metadata": {},
   "outputs": [],
   "source": []
  },
  {
   "cell_type": "code",
   "execution_count": null,
   "id": "ea1b5808-db1e-4124-afff-da163ea4e2c6",
   "metadata": {},
   "outputs": [],
   "source": []
  },
  {
   "cell_type": "code",
   "execution_count": null,
   "id": "84b16303-bc49-43cb-8ab5-1e4dbc2ac969",
   "metadata": {},
   "outputs": [],
   "source": []
  },
  {
   "cell_type": "code",
   "execution_count": null,
   "id": "d5293090-dd17-43fa-b552-5356e74585b0",
   "metadata": {},
   "outputs": [],
   "source": []
  },
  {
   "cell_type": "code",
   "execution_count": null,
   "id": "52c446e3-c72f-432d-bb77-5fc0eeacf414",
   "metadata": {},
   "outputs": [],
   "source": []
  },
  {
   "cell_type": "code",
   "execution_count": 204,
   "id": "cbac4417-46b7-4a11-acf2-fad4c880e2c0",
   "metadata": {},
   "outputs": [
    {
     "name": "stdout",
     "output_type": "stream",
     "text": [
      "Numbers from ROI 1: []\n"
     ]
    }
   ],
   "source": [
    "import cv2\n",
    "import numpy as np\n",
    "import pyautogui\n",
    "import pytesseract\n",
    "import re\n",
    "\n",
    "def extract_numbers_from_roi(x, y, width, height):\n",
    "    # Capture the screen\n",
    "    screenshot = pyautogui.screenshot()\n",
    "    \n",
    "    # Convert the screenshot to OpenCV format\n",
    "    img_cv = cv2.cvtColor(np.array(screenshot), cv2.COLOR_RGB2BGR)\n",
    "    \n",
    "    # Define the ROI coordinates\n",
    "    roi = img_cv[y:y+height, x:x+width]\n",
    "    \n",
    "    # Convert ROI to grayscale\n",
    "    gray_roi = cv2.cvtColor(roi, cv2.COLOR_BGR2GRAY)\n",
    "    \n",
    "    # Define the lower and upper color thresholds for background removal\n",
    "    lower_red = np.array([0, 0, 100])\n",
    "    upper_red = np.array([70, 70, 255])\n",
    "    \n",
    "    # Apply color-based thresholding to remove the dark red background\n",
    "    mask = cv2.inRange(roi, lower_red, upper_red)\n",
    "    processed_roi = cv2.bitwise_and(roi, roi, mask=mask)\n",
    "    \n",
    "    # Convert processed ROI to grayscale\n",
    "    gray_processed_roi = cv2.cvtColor(processed_roi, cv2.COLOR_BGR2GRAY)\n",
    "    \n",
    "    # Use Tesseract OCR to extract text from the ROI\n",
    "    result = pytesseract.image_to_string(gray_processed_roi, config='--psm 6')\n",
    "    \n",
    "    # Extract numbers in \"XX%\" format from the result\n",
    "    numbers = re.findall(r'\\d{2}%', result)\n",
    "    \n",
    "    # Reshape the numbers into a 2x3 array\n",
    "    # numbers = np.array(numbers).reshape(2, 3)\n",
    "    \n",
    "    return numbers\n",
    "\n",
    "# Configure the regions of interest (ROI)\n",
    "roi_1 = (675, 876, 200, 100)  # Format: (x, y, width, height)\n",
    "\n",
    "# Extract numbers from ROI 1\n",
    "numbers_1 = extract_numbers_from_roi(*roi_1)\n",
    "print(\"Numbers from ROI 1:\", numbers_1)\n"
   ]
  },
  {
   "cell_type": "code",
   "execution_count": null,
   "id": "50e6f53b-7745-4a63-a87f-aab8c03170a5",
   "metadata": {},
   "outputs": [],
   "source": []
  },
  {
   "cell_type": "code",
   "execution_count": null,
   "id": "aa83feac-525d-4aff-b803-e44215eccb0b",
   "metadata": {},
   "outputs": [],
   "source": []
  },
  {
   "cell_type": "code",
   "execution_count": null,
   "id": "9a91100b-9917-4097-8139-bdb125ebf7db",
   "metadata": {},
   "outputs": [],
   "source": []
  },
  {
   "cell_type": "code",
   "execution_count": 205,
   "id": "34133279-5035-460d-a3bf-7b0382778fa7",
   "metadata": {},
   "outputs": [
    {
     "name": "stdout",
     "output_type": "stream",
     "text": [
      "Numbers from ROI 1: []\n"
     ]
    }
   ],
   "source": [
    "import cv2\n",
    "import numpy as np\n",
    "import pyautogui\n",
    "import pytesseract\n",
    "import re\n",
    "\n",
    "def extract_numbers_from_roi(x, y, width, height):\n",
    "    # Capture the screen\n",
    "    screenshot = pyautogui.screenshot()\n",
    "    \n",
    "    # Convert the screenshot to OpenCV format\n",
    "    img_cv = cv2.cvtColor(np.array(screenshot), cv2.COLOR_RGB2BGR)\n",
    "    \n",
    "    # Define the ROI coordinates\n",
    "    roi = img_cv[y:y+height, x:x+width]\n",
    "    \n",
    "    # Convert ROI to grayscale\n",
    "    gray_roi = cv2.cvtColor(roi, cv2.COLOR_BGR2GRAY)\n",
    "\n",
    "    # Thresholding to remove background\n",
    "    _, thresh = cv2.threshold(gray_roi, 0, 255, cv2.THRESH_BINARY_INV + cv2.THRESH_OTSU)   \n",
    "\n",
    "\n",
    "    # Dilate the thresholded image\n",
    "    kernel = np.ones((3, 3), np.uint8)\n",
    "    dilated = cv2.dilate(thresh, kernel, iterations=1)\n",
    "\n",
    "    # Bitwise-AND to remove background\n",
    "    processed_roi = cv2.bitwise_and(roi, roi, mask=dilated)\n",
    "\n",
    "    \n",
    "\n",
    "    \n",
    "    # Display the processed ROI\n",
    "    cv2.imshow(\"Processed ROI\", processed_roi)\n",
    "    cv2.waitKey(0)\n",
    "    cv2.destroyAllWindows()\n",
    "    \n",
    "    # Use Tesseract OCR to extract text from the ROI\n",
    "    result = pytesseract.image_to_string(processed_roi, config='--psm 6')\n",
    "    \n",
    "    # Extract numbers in \"XX%\" format from the result\n",
    "    numbers = re.findall(r'\\d{2}%', result)\n",
    "    \n",
    "    # Reshape the numbers into a 2x3 array\n",
    "    # numbers = np.array(numbers).reshape(2, 3)\n",
    "    \n",
    "    return numbers\n",
    "\n",
    "# Configure the regions of interest (ROI)\n",
    "roi_1 = (675, 876, 200, 100)  # Format: (x, y, width, height)\n",
    "\n",
    "# Extract numbers from ROI 1\n",
    "numbers_1 = extract_numbers_from_roi(*roi_1)\n",
    "print(\"Numbers from ROI 1:\", numbers_1)\n"
   ]
  },
  {
   "cell_type": "code",
   "execution_count": null,
   "id": "6d49bae3-1785-4e31-ad98-eee21cb217da",
   "metadata": {},
   "outputs": [],
   "source": []
  },
  {
   "cell_type": "code",
   "execution_count": null,
   "id": "d5e47499-6271-4bd9-848d-abc439afff73",
   "metadata": {},
   "outputs": [],
   "source": []
  },
  {
   "cell_type": "code",
   "execution_count": null,
   "id": "da81315d-1219-44f6-99a3-3f9e41bd9f9c",
   "metadata": {},
   "outputs": [],
   "source": []
  },
  {
   "cell_type": "code",
   "execution_count": null,
   "id": "2f69831f-f05f-4f67-b5fa-7ba4501c8482",
   "metadata": {},
   "outputs": [],
   "source": []
  },
  {
   "cell_type": "code",
   "execution_count": null,
   "id": "3867cd6c-a438-42b4-b6dd-a02079420364",
   "metadata": {},
   "outputs": [],
   "source": []
  },
  {
   "cell_type": "code",
   "execution_count": 9,
   "id": "8ea44a28-b01b-4244-a3c9-5323c85af2ae",
   "metadata": {},
   "outputs": [],
   "source": [
    "import pyautogui\n",
    "\n",
    "# Set the coordinates of the custom region where you want to click\n",
    "x = 750  # X-coordinate\n",
    "y = 1000  # Y-coordinate\n",
    "\n",
    "# Click on the specified coordinates\n",
    "pyautogui.click(x, y)\n",
    "pyautogui.click(x, y)\n"
   ]
  },
  {
   "cell_type": "code",
   "execution_count": 91,
   "id": "2f158b3e-1deb-4433-a444-a138274f57f4",
   "metadata": {},
   "outputs": [
    {
     "name": "stdout",
     "output_type": "stream",
     "text": [
      "Screen size: 1920x1080\n",
      "Mouse position: (699, 884)\n"
     ]
    }
   ],
   "source": [
    "import pyautogui\n",
    "\n",
    "# Get the screen size\n",
    "screen_width, screen_height = pyautogui.size()\n",
    "\n",
    "# Print the screen size\n",
    "print(\"Screen size: {}x{}\".format(screen_width, screen_height))\n",
    "\n",
    "# Get the mouse position\n",
    "mouse_x, mouse_y = pyautogui.position()\n",
    "\n",
    "# Print the mouse position\n",
    "print(\"Mouse position: ({}, {})\".format(mouse_x, mouse_y))\n",
    "\n",
    "\n"
   ]
  },
  {
   "cell_type": "code",
   "execution_count": 131,
   "id": "375f8c4d-981c-4c84-b4d0-636c7f40ff70",
   "metadata": {},
   "outputs": [
    {
     "name": "stdout",
     "output_type": "stream",
     "text": [
      "Screen size: 1920x1080\n",
      "Mouse position: (675, 876)\n"
     ]
    }
   ],
   "source": [
    "import pyautogui\n",
    "\n",
    "# Get the screen size\n",
    "screen_width, screen_height = pyautogui.size()\n",
    "\n",
    "# Print the screen size\n",
    "print(\"Screen size: {}x{}\".format(screen_width, screen_height))\n",
    "\n",
    "# Get the mouse position\n",
    "mouse_x, mouse_y = pyautogui.position()\n",
    "\n",
    "# Print the mouse position\n",
    "print(\"Mouse position: ({}, {})\".format(mouse_x, mouse_y))\n"
   ]
  },
  {
   "cell_type": "code",
   "execution_count": 132,
   "id": "48c323da-05bc-4657-a78d-c7ea92b0cc89",
   "metadata": {},
   "outputs": [
    {
     "name": "stdout",
     "output_type": "stream",
     "text": [
      "Screen size: 1920x1080\n",
      "Mouse position: (871, 965)\n"
     ]
    }
   ],
   "source": [
    "import pyautogui\n",
    "\n",
    "# Get the screen size\n",
    "screen_width, screen_height = pyautogui.size()\n",
    "\n",
    "# Print the screen size\n",
    "print(\"Screen size: {}x{}\".format(screen_width, screen_height))\n",
    "\n",
    "# Get the mouse position\n",
    "mouse_x, mouse_y = pyautogui.position()\n",
    "\n",
    "# Print the mouse position\n",
    "print(\"Mouse position: ({}, {})\".format(mouse_x, mouse_y))\n"
   ]
  },
  {
   "cell_type": "code",
   "execution_count": null,
   "id": "f469e1c2-74d1-4f84-8442-51e7854e085f",
   "metadata": {},
   "outputs": [],
   "source": []
  },
  {
   "cell_type": "code",
   "execution_count": null,
   "id": "fd8164e7-91b9-4eda-80b9-5ecbb5c3005a",
   "metadata": {},
   "outputs": [],
   "source": []
  },
  {
   "cell_type": "code",
   "execution_count": null,
   "id": "6b2699c7-0c80-4b88-ba74-de397a78b4e5",
   "metadata": {},
   "outputs": [],
   "source": []
  },
  {
   "cell_type": "code",
   "execution_count": 1,
   "id": "80b58c6b-a179-4a0c-8a5e-d41ab9e13b4f",
   "metadata": {},
   "outputs": [
    {
     "name": "stdout",
     "output_type": "stream",
     "text": [
      "Screen size: 1920x1080\n",
      "Mouse position: (788, 496)\n"
     ]
    }
   ],
   "source": [
    "import pyautogui\n",
    "\n",
    "# Get the screen size\n",
    "screen_width, screen_height = pyautogui.size()\n",
    "\n",
    "# Print the screen size\n",
    "print(\"Screen size: {}x{}\".format(screen_width, screen_height))\n",
    "\n",
    "# Get the mouse position\n",
    "mouse_x, mouse_y = pyautogui.position()\n",
    "\n",
    "# Print the mouse position\n",
    "print(\"Mouse position: ({}, {})\".format(mouse_x, mouse_y))\n"
   ]
  },
  {
   "cell_type": "code",
   "execution_count": 3,
   "id": "a1848923-6639-4183-8f3f-6a01da468686",
   "metadata": {},
   "outputs": [
    {
     "name": "stdout",
     "output_type": "stream",
     "text": [
      "Screen size: 1920x1080\n",
      "Mouse position: (797, 497)\n"
     ]
    }
   ],
   "source": [
    "import pyautogui\n",
    "\n",
    "# Get the screen size\n",
    "screen_width, screen_height = pyautogui.size()\n",
    "\n",
    "# Print the screen size\n",
    "print(\"Screen size: {}x{}\".format(screen_width, screen_height))\n",
    "\n",
    "# Get the mouse position\n",
    "mouse_x, mouse_y = pyautogui.position()\n",
    "\n",
    "# Print the mouse position\n",
    "print(\"Mouse position: ({}, {})\".format(mouse_x, mouse_y))\n"
   ]
  },
  {
   "cell_type": "code",
   "execution_count": 2,
   "id": "82149877-64ec-4890-9b97-3ef53f5b1a94",
   "metadata": {},
   "outputs": [
    {
     "name": "stdout",
     "output_type": "stream",
     "text": [
      "0\n",
      "1\n",
      "2\n",
      "3\n",
      "4\n",
      "5\n"
     ]
    }
   ],
   "source": [
    "for i in range(0,6):\n",
    "    print(i)"
   ]
  },
  {
   "cell_type": "code",
   "execution_count": 6,
   "id": "da8d1c9b-b4e2-457d-be14-43b59f6b291d",
   "metadata": {},
   "outputs": [
    {
     "name": "stdout",
     "output_type": "stream",
     "text": [
      "Screen size: 1920x1080\n",
      "Mouse position: (787, 499)\n"
     ]
    }
   ],
   "source": [
    "import pyautogui\n",
    "\n",
    "# Get the screen size\n",
    "screen_width, screen_height = pyautogui.size()\n",
    "\n",
    "# Print the screen size\n",
    "print(\"Screen size: {}x{}\".format(screen_width, screen_height))\n",
    "\n",
    "# Get the mouse position\n",
    "mouse_x, mouse_y = pyautogui.position()\n",
    "\n",
    "# Print the mouse position\n",
    "print(\"Mouse position: ({}, {})\".format(mouse_x, mouse_y))\n"
   ]
  },
  {
   "cell_type": "code",
   "execution_count": 7,
   "id": "7a8d30d1-f2f6-4a44-944c-a21cb3ccfb68",
   "metadata": {},
   "outputs": [
    {
     "name": "stdout",
     "output_type": "stream",
     "text": [
      "Screen size: 1920x1080\n",
      "Mouse position: (817, 562)\n"
     ]
    }
   ],
   "source": [
    "import pyautogui\n",
    "\n",
    "# Get the screen size\n",
    "screen_width, screen_height = pyautogui.size()\n",
    "\n",
    "# Print the screen size\n",
    "print(\"Screen size: {}x{}\".format(screen_width, screen_height))\n",
    "\n",
    "# Get the mouse position\n",
    "mouse_x, mouse_y = pyautogui.position()\n",
    "\n",
    "# Print the mouse position\n",
    "print(\"Mouse position: ({}, {})\".format(mouse_x, mouse_y))\n"
   ]
  },
  {
   "cell_type": "code",
   "execution_count": 8,
   "id": "652d1f91-8817-4106-a3b0-73e5fc680397",
   "metadata": {},
   "outputs": [
    {
     "name": "stdout",
     "output_type": "stream",
     "text": [
      "Screen size: 1920x1080\n",
      "Mouse position: (935, 505)\n"
     ]
    }
   ],
   "source": [
    "import pyautogui\n",
    "\n",
    "# Get the screen size\n",
    "screen_width, screen_height = pyautogui.size()\n",
    "\n",
    "# Print the screen size\n",
    "print(\"Screen size: {}x{}\".format(screen_width, screen_height))\n",
    "\n",
    "# Get the mouse position\n",
    "mouse_x, mouse_y = pyautogui.position()\n",
    "\n",
    "# Print the mouse position\n",
    "print(\"Mouse position: ({}, {})\".format(mouse_x, mouse_y))\n"
   ]
  },
  {
   "cell_type": "code",
   "execution_count": 9,
   "id": "4b8bdfbf-258b-4d1a-b5f1-24fd0c6d34a5",
   "metadata": {},
   "outputs": [
    {
     "name": "stdout",
     "output_type": "stream",
     "text": [
      "Screen size: 1920x1080\n",
      "Mouse position: (975, 571)\n"
     ]
    }
   ],
   "source": [
    "import pyautogui\n",
    "\n",
    "# Get the screen size\n",
    "screen_width, screen_height = pyautogui.size()\n",
    "\n",
    "# Print the screen size\n",
    "print(\"Screen size: {}x{}\".format(screen_width, screen_height))\n",
    "\n",
    "# Get the mouse position\n",
    "mouse_x, mouse_y = pyautogui.position()\n",
    "\n",
    "# Print the mouse position\n",
    "print(\"Mouse position: ({}, {})\".format(mouse_x, mouse_y))\n"
   ]
  },
  {
   "cell_type": "code",
   "execution_count": 10,
   "id": "70d73d7f-b562-4d3a-af6d-e7b932dcbc88",
   "metadata": {},
   "outputs": [
    {
     "name": "stdout",
     "output_type": "stream",
     "text": [
      "Screen size: 1920x1080\n",
      "Mouse position: (1084, 489)\n"
     ]
    }
   ],
   "source": [
    "import pyautogui\n",
    "\n",
    "# Get the screen size\n",
    "screen_width, screen_height = pyautogui.size()\n",
    "\n",
    "# Print the screen size\n",
    "print(\"Screen size: {}x{}\".format(screen_width, screen_height))\n",
    "\n",
    "# Get the mouse position\n",
    "mouse_x, mouse_y = pyautogui.position()\n",
    "\n",
    "# Print the mouse position\n",
    "print(\"Mouse position: ({}, {})\".format(mouse_x, mouse_y))\n"
   ]
  },
  {
   "cell_type": "code",
   "execution_count": 11,
   "id": "5ead1cbd-8024-4803-9bca-beedee6edb38",
   "metadata": {},
   "outputs": [
    {
     "name": "stdout",
     "output_type": "stream",
     "text": [
      "Screen size: 1920x1080\n",
      "Mouse position: (1115, 556)\n"
     ]
    }
   ],
   "source": [
    "import pyautogui\n",
    "\n",
    "# Get the screen size\n",
    "screen_width, screen_height = pyautogui.size()\n",
    "\n",
    "# Print the screen size\n",
    "print(\"Screen size: {}x{}\".format(screen_width, screen_height))\n",
    "\n",
    "# Get the mouse position\n",
    "mouse_x, mouse_y = pyautogui.position()\n",
    "\n",
    "# Print the mouse position\n",
    "print(\"Mouse position: ({}, {})\".format(mouse_x, mouse_y))\n"
   ]
  },
  {
   "cell_type": "code",
   "execution_count": 12,
   "id": "c4012132-3d9d-46e0-9ba6-e06571431d67",
   "metadata": {},
   "outputs": [
    {
     "name": "stdout",
     "output_type": "stream",
     "text": [
      "Screen size: 1920x1080\n",
      "Mouse position: (781, 633)\n"
     ]
    }
   ],
   "source": [
    "import pyautogui\n",
    "\n",
    "# Get the screen size\n",
    "screen_width, screen_height = pyautogui.size()\n",
    "\n",
    "# Print the screen size\n",
    "print(\"Screen size: {}x{}\".format(screen_width, screen_height))\n",
    "\n",
    "# Get the mouse position\n",
    "mouse_x, mouse_y = pyautogui.position()\n",
    "\n",
    "# Print the mouse position\n",
    "print(\"Mouse position: ({}, {})\".format(mouse_x, mouse_y))\n"
   ]
  },
  {
   "cell_type": "code",
   "execution_count": 13,
   "id": "d8f2bae3-76ff-4357-b3ca-581613c80f18",
   "metadata": {},
   "outputs": [
    {
     "name": "stdout",
     "output_type": "stream",
     "text": [
      "Screen size: 1920x1080\n",
      "Mouse position: (825, 700)\n"
     ]
    }
   ],
   "source": [
    "import pyautogui\n",
    "\n",
    "# Get the screen size\n",
    "screen_width, screen_height = pyautogui.size()\n",
    "\n",
    "# Print the screen size\n",
    "print(\"Screen size: {}x{}\".format(screen_width, screen_height))\n",
    "\n",
    "# Get the mouse position\n",
    "mouse_x, mouse_y = pyautogui.position()\n",
    "\n",
    "# Print the mouse position\n",
    "print(\"Mouse position: ({}, {})\".format(mouse_x, mouse_y))\n"
   ]
  },
  {
   "cell_type": "code",
   "execution_count": 14,
   "id": "70136002-bbf8-4cb5-a700-59a0bea072bf",
   "metadata": {},
   "outputs": [
    {
     "name": "stdout",
     "output_type": "stream",
     "text": [
      "Screen size: 1920x1080\n",
      "Mouse position: (941, 637)\n"
     ]
    }
   ],
   "source": [
    "import pyautogui\n",
    "\n",
    "# Get the screen size\n",
    "screen_width, screen_height = pyautogui.size()\n",
    "\n",
    "# Print the screen size\n",
    "print(\"Screen size: {}x{}\".format(screen_width, screen_height))\n",
    "\n",
    "# Get the mouse position\n",
    "mouse_x, mouse_y = pyautogui.position()\n",
    "\n",
    "# Print the mouse position\n",
    "print(\"Mouse position: ({}, {})\".format(mouse_x, mouse_y))\n"
   ]
  },
  {
   "cell_type": "code",
   "execution_count": 15,
   "id": "bf70e943-4037-4be7-8691-ebc39ca2b559",
   "metadata": {},
   "outputs": [
    {
     "name": "stdout",
     "output_type": "stream",
     "text": [
      "Screen size: 1920x1080\n",
      "Mouse position: (973, 688)\n"
     ]
    }
   ],
   "source": [
    "import pyautogui\n",
    "\n",
    "# Get the screen size\n",
    "screen_width, screen_height = pyautogui.size()\n",
    "\n",
    "# Print the screen size\n",
    "print(\"Screen size: {}x{}\".format(screen_width, screen_height))\n",
    "\n",
    "# Get the mouse position\n",
    "mouse_x, mouse_y = pyautogui.position()\n",
    "\n",
    "# Print the mouse position\n",
    "print(\"Mouse position: ({}, {})\".format(mouse_x, mouse_y))\n"
   ]
  },
  {
   "cell_type": "code",
   "execution_count": 16,
   "id": "fdc56ba8-18de-490c-b8a7-bf0630728caf",
   "metadata": {},
   "outputs": [
    {
     "name": "stdout",
     "output_type": "stream",
     "text": [
      "Screen size: 1920x1080\n",
      "Mouse position: (1078, 614)\n"
     ]
    }
   ],
   "source": [
    "import pyautogui\n",
    "\n",
    "# Get the screen size\n",
    "screen_width, screen_height = pyautogui.size()\n",
    "\n",
    "# Print the screen size\n",
    "print(\"Screen size: {}x{}\".format(screen_width, screen_height))\n",
    "\n",
    "# Get the mouse position\n",
    "mouse_x, mouse_y = pyautogui.position()\n",
    "\n",
    "# Print the mouse position\n",
    "print(\"Mouse position: ({}, {})\".format(mouse_x, mouse_y))\n"
   ]
  },
  {
   "cell_type": "code",
   "execution_count": 17,
   "id": "6062860d-a6ab-468f-b843-688dcf608a4a",
   "metadata": {},
   "outputs": [
    {
     "name": "stdout",
     "output_type": "stream",
     "text": [
      "Screen size: 1920x1080\n",
      "Mouse position: (1115, 674)\n"
     ]
    }
   ],
   "source": [
    "import pyautogui\n",
    "\n",
    "# Get the screen size\n",
    "screen_width, screen_height = pyautogui.size()\n",
    "\n",
    "# Print the screen size\n",
    "print(\"Screen size: {}x{}\".format(screen_width, screen_height))\n",
    "\n",
    "# Get the mouse position\n",
    "mouse_x, mouse_y = pyautogui.position()\n",
    "\n",
    "# Print the mouse position\n",
    "print(\"Mouse position: ({}, {})\".format(mouse_x, mouse_y))\n"
   ]
  },
  {
   "cell_type": "code",
   "execution_count": 48,
   "id": "9e754cc6-124d-4b25-96a1-67bf374a4ec6",
   "metadata": {},
   "outputs": [
    {
     "name": "stdout",
     "output_type": "stream",
     "text": [
      "Screen size: 1920x1080\n",
      "Mouse position: (1080, 910)\n"
     ]
    }
   ],
   "source": [
    "import pyautogui\n",
    "\n",
    "# Get the screen size\n",
    "screen_width, screen_height = pyautogui.size()\n",
    "\n",
    "# Print the screen size\n",
    "print(\"Screen size: {}x{}\".format(screen_width, screen_height))\n",
    "\n",
    "# Get the mouse position\n",
    "mouse_x, mouse_y = pyautogui.position()\n",
    "\n",
    "# Print the mouse position\n",
    "print(\"Mouse position: ({}, {})\".format(mouse_x, mouse_y))\n"
   ]
  },
  {
   "cell_type": "code",
   "execution_count": null,
   "id": "a167e5af-4b82-485c-a49f-30adfe67f1e6",
   "metadata": {},
   "outputs": [],
   "source": []
  },
  {
   "cell_type": "code",
   "execution_count": null,
   "id": "be2ea664-5f0b-474b-9b7a-cf9c51ede454",
   "metadata": {},
   "outputs": [],
   "source": []
  }
 ],
 "metadata": {
  "kernelspec": {
   "display_name": "Python 3 (ipykernel)",
   "language": "python",
   "name": "python3"
  },
  "language_info": {
   "codemirror_mode": {
    "name": "ipython",
    "version": 3
   },
   "file_extension": ".py",
   "mimetype": "text/x-python",
   "name": "python",
   "nbconvert_exporter": "python",
   "pygments_lexer": "ipython3",
   "version": "3.9.12"
  }
 },
 "nbformat": 4,
 "nbformat_minor": 5
}
