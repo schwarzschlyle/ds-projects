{
 "cells": [
  {
   "cell_type": "markdown",
   "metadata": {
    "id": "wMAVn51EjbSZ"
   },
   "source": [
    " **MBO Data Pipeline**\n",
    "\n",
    " This notebook queries market data from Google BigQuery, forecast data from Google Drive, applies appropriate data wrangling, and synthesizes all data into a single data frame uploading it back to Google BigQuery. The final dataset is then fed into Google Data Studio for visualization purposes."
   ]
  },
  {
   "cell_type": "code",
   "execution_count": null,
   "metadata": {
    "id": "4PrBDm-s32LN"
   },
   "outputs": [],
   "source": [
    "import pandas as pd\n",
    "import plotly.express as px\n",
    "from datetime import datetime\n",
    "from google.colab import files\n",
    "import io\n",
    "from google.colab import drive\n",
    "import matplotlib.pyplot as plt\n",
    "import seaborn as sns\n",
    "import numpy as np\n",
    "from statsmodels.tsa.seasonal import seasonal_decompose\n",
    "from sklearn.preprocessing import MinMaxScaler\n",
    "# drive.mount('/drive')"
   ]
  },
  {
   "cell_type": "markdown",
   "metadata": {
    "id": "oTLdg4g04GXe"
   },
   "source": [
    "# Querying (Gathering Raw Data)\n",
    "\n",
    "Step objective. Query the dataset from the GBQ for market data and Google Drive for the trading data."
   ]
  },
  {
   "cell_type": "markdown",
   "metadata": {
    "id": "Dn1KDxV_9o5Z"
   },
   "source": [
    "## GBQ Market Data"
   ]
  },
  {
   "cell_type": "markdown",
   "metadata": {
    "id": "LFFSToZj6_I9"
   },
   "source": [
    "We only query the 55th minute of the dataset via the LIKE operator. "
   ]
  },
  {
   "cell_type": "code",
   "execution_count": null,
   "metadata": {
    "colab": {
     "base_uri": "https://localhost:8080/"
    },
    "id": "MRasPjn64Gmm",
    "outputId": "8025f58f-a70e-4394-dc80-671a3b888068"
   },
   "outputs": [
    {
     "name": "stdout",
     "output_type": "stream",
     "text": [
      "Please visit this URL to authorize this application: https://accounts.google.com/o/oauth2/auth?response_type=code&client_id=725825577420-unm2gnkiprugilg743tkbig250f4sfsj.apps.googleusercontent.com&redirect_uri=urn%3Aietf%3Awg%3Aoauth%3A2.0%3Aoob&scope=https%3A%2F%2Fwww.googleapis.com%2Fauth%2Fbigquery&state=INrUIifr5J8bmC1EzyVlNjmGAgf0W5&prompt=consent&access_type=offline\n",
      "Enter the authorization code: 4/1ARtbsJoIeDFCUYebK75E10ovDjaGPIi6gv6VCkv85Na_GfK3j5435zbYZcE\n"
     ]
    },
    {
     "name": "stderr",
     "output_type": "stream",
     "text": [
      "Downloading: 100%|██████████| 2217923/2217923 [20:13<00:00, 1828.37rows/s]\n"
     ]
    }
   ],
   "source": [
    "# querying data from Google Big Query\n",
    "\n",
    "gbq_project_id = 'snap-dw'\n",
    "\n",
    "query = '''\n",
    "SELECT * FROM `snap-dw.SNAP_DW_DEV_RAW_5MIN.pub_market_bids_and_offer_energy` \n",
    "WHERE CAST(start_time AS STRING) LIKE \"%55%\"\n",
    "'''\n",
    "\n",
    "raw_past_data = pd.read_gbq(query, project_id=gbq_project_id, progress_bar_type='tqdm')"
   ]
  },
  {
   "cell_type": "markdown",
   "metadata": {
    "id": "Ks3818iw5HST"
   },
   "source": [
    "The code above takes approximately 18 minutes to run. It may be important to note that GBQ data has a minute granularity while trading forecast has an hourly granularity. As of the current code version, I usually save dataframes into a csv file to avoid unnecessary querying in case of crash. We can, first, save it into a csv file and import it via Google Drive."
   ]
  },
  {
   "cell_type": "code",
   "execution_count": null,
   "metadata": {
    "colab": {
     "base_uri": "https://localhost:8080/",
     "height": 377
    },
    "id": "BW8tAb9W5X3u",
    "outputId": "ba33ed35-6363-4ec7-96b4-ea5817bc8565"
   },
   "outputs": [
    {
     "ename": "KeyboardInterrupt",
     "evalue": "ignored",
     "output_type": "error",
     "traceback": [
      "\u001b[0;31m---------------------------------------------------------------------------\u001b[0m",
      "\u001b[0;31mKeyboardInterrupt\u001b[0m                         Traceback (most recent call last)",
      "\u001b[0;32m<ipython-input-103-6950014424b5>\u001b[0m in \u001b[0;36m<module>\u001b[0;34m\u001b[0m\n\u001b[1;32m      1\u001b[0m \u001b[0;31m# we can skip this step when using as a final pipeline\u001b[0m\u001b[0;34m\u001b[0m\u001b[0;34m\u001b[0m\u001b[0;34m\u001b[0m\u001b[0m\n\u001b[1;32m      2\u001b[0m \u001b[0;34m\u001b[0m\u001b[0m\n\u001b[0;32m----> 3\u001b[0;31m \u001b[0mraw_past_data\u001b[0m\u001b[0;34m.\u001b[0m\u001b[0mto_csv\u001b[0m\u001b[0;34m(\u001b[0m\u001b[0;34m'raw_past_data.csv'\u001b[0m\u001b[0;34m)\u001b[0m\u001b[0;34m\u001b[0m\u001b[0;34m\u001b[0m\u001b[0m\n\u001b[0m\u001b[1;32m      4\u001b[0m \u001b[0mfiles\u001b[0m\u001b[0;34m.\u001b[0m\u001b[0mdownload\u001b[0m\u001b[0;34m(\u001b[0m\u001b[0;34m'raw_past_data.csv'\u001b[0m\u001b[0;34m)\u001b[0m\u001b[0;34m\u001b[0m\u001b[0;34m\u001b[0m\u001b[0m\n",
      "\u001b[0;32m/usr/local/lib/python3.7/dist-packages/pandas/core/generic.py\u001b[0m in \u001b[0;36mto_csv\u001b[0;34m(self, path_or_buf, sep, na_rep, float_format, columns, header, index, index_label, mode, encoding, compression, quoting, quotechar, line_terminator, chunksize, date_format, doublequote, escapechar, decimal, errors, storage_options)\u001b[0m\n\u001b[1;32m   3480\u001b[0m             \u001b[0mdoublequote\u001b[0m\u001b[0;34m=\u001b[0m\u001b[0mdoublequote\u001b[0m\u001b[0;34m,\u001b[0m\u001b[0;34m\u001b[0m\u001b[0;34m\u001b[0m\u001b[0m\n\u001b[1;32m   3481\u001b[0m             \u001b[0mescapechar\u001b[0m\u001b[0;34m=\u001b[0m\u001b[0mescapechar\u001b[0m\u001b[0;34m,\u001b[0m\u001b[0;34m\u001b[0m\u001b[0;34m\u001b[0m\u001b[0m\n\u001b[0;32m-> 3482\u001b[0;31m             \u001b[0mstorage_options\u001b[0m\u001b[0;34m=\u001b[0m\u001b[0mstorage_options\u001b[0m\u001b[0;34m,\u001b[0m\u001b[0;34m\u001b[0m\u001b[0;34m\u001b[0m\u001b[0m\n\u001b[0m\u001b[1;32m   3483\u001b[0m         )\n\u001b[1;32m   3484\u001b[0m \u001b[0;34m\u001b[0m\u001b[0m\n",
      "\u001b[0;32m/usr/local/lib/python3.7/dist-packages/pandas/io/formats/format.py\u001b[0m in \u001b[0;36mto_csv\u001b[0;34m(self, path_or_buf, encoding, sep, columns, index_label, mode, compression, quoting, quotechar, line_terminator, chunksize, date_format, doublequote, escapechar, errors, storage_options)\u001b[0m\n\u001b[1;32m   1103\u001b[0m             \u001b[0mformatter\u001b[0m\u001b[0;34m=\u001b[0m\u001b[0mself\u001b[0m\u001b[0;34m.\u001b[0m\u001b[0mfmt\u001b[0m\u001b[0;34m,\u001b[0m\u001b[0;34m\u001b[0m\u001b[0;34m\u001b[0m\u001b[0m\n\u001b[1;32m   1104\u001b[0m         )\n\u001b[0;32m-> 1105\u001b[0;31m         \u001b[0mcsv_formatter\u001b[0m\u001b[0;34m.\u001b[0m\u001b[0msave\u001b[0m\u001b[0;34m(\u001b[0m\u001b[0;34m)\u001b[0m\u001b[0;34m\u001b[0m\u001b[0;34m\u001b[0m\u001b[0m\n\u001b[0m\u001b[1;32m   1106\u001b[0m \u001b[0;34m\u001b[0m\u001b[0m\n\u001b[1;32m   1107\u001b[0m         \u001b[0;32mif\u001b[0m \u001b[0mcreated_buffer\u001b[0m\u001b[0;34m:\u001b[0m\u001b[0;34m\u001b[0m\u001b[0;34m\u001b[0m\u001b[0m\n",
      "\u001b[0;32m/usr/local/lib/python3.7/dist-packages/pandas/io/formats/csvs.py\u001b[0m in \u001b[0;36msave\u001b[0;34m(self)\u001b[0m\n\u001b[1;32m    255\u001b[0m             )\n\u001b[1;32m    256\u001b[0m \u001b[0;34m\u001b[0m\u001b[0m\n\u001b[0;32m--> 257\u001b[0;31m             \u001b[0mself\u001b[0m\u001b[0;34m.\u001b[0m\u001b[0m_save\u001b[0m\u001b[0;34m(\u001b[0m\u001b[0;34m)\u001b[0m\u001b[0;34m\u001b[0m\u001b[0;34m\u001b[0m\u001b[0m\n\u001b[0m\u001b[1;32m    258\u001b[0m \u001b[0;34m\u001b[0m\u001b[0m\n\u001b[1;32m    259\u001b[0m     \u001b[0;32mdef\u001b[0m \u001b[0m_save\u001b[0m\u001b[0;34m(\u001b[0m\u001b[0mself\u001b[0m\u001b[0;34m)\u001b[0m \u001b[0;34m->\u001b[0m \u001b[0;32mNone\u001b[0m\u001b[0;34m:\u001b[0m\u001b[0;34m\u001b[0m\u001b[0;34m\u001b[0m\u001b[0m\n",
      "\u001b[0;32m/usr/local/lib/python3.7/dist-packages/pandas/io/formats/csvs.py\u001b[0m in \u001b[0;36m_save\u001b[0;34m(self)\u001b[0m\n\u001b[1;32m    260\u001b[0m         \u001b[0;32mif\u001b[0m \u001b[0mself\u001b[0m\u001b[0;34m.\u001b[0m\u001b[0m_need_to_save_header\u001b[0m\u001b[0;34m:\u001b[0m\u001b[0;34m\u001b[0m\u001b[0;34m\u001b[0m\u001b[0m\n\u001b[1;32m    261\u001b[0m             \u001b[0mself\u001b[0m\u001b[0;34m.\u001b[0m\u001b[0m_save_header\u001b[0m\u001b[0;34m(\u001b[0m\u001b[0;34m)\u001b[0m\u001b[0;34m\u001b[0m\u001b[0;34m\u001b[0m\u001b[0m\n\u001b[0;32m--> 262\u001b[0;31m         \u001b[0mself\u001b[0m\u001b[0;34m.\u001b[0m\u001b[0m_save_body\u001b[0m\u001b[0;34m(\u001b[0m\u001b[0;34m)\u001b[0m\u001b[0;34m\u001b[0m\u001b[0;34m\u001b[0m\u001b[0m\n\u001b[0m\u001b[1;32m    263\u001b[0m \u001b[0;34m\u001b[0m\u001b[0m\n\u001b[1;32m    264\u001b[0m     \u001b[0;32mdef\u001b[0m \u001b[0m_save_header\u001b[0m\u001b[0;34m(\u001b[0m\u001b[0mself\u001b[0m\u001b[0;34m)\u001b[0m \u001b[0;34m->\u001b[0m \u001b[0;32mNone\u001b[0m\u001b[0;34m:\u001b[0m\u001b[0;34m\u001b[0m\u001b[0;34m\u001b[0m\u001b[0m\n",
      "\u001b[0;32m/usr/local/lib/python3.7/dist-packages/pandas/io/formats/csvs.py\u001b[0m in \u001b[0;36m_save_body\u001b[0;34m(self)\u001b[0m\n\u001b[1;32m    298\u001b[0m             \u001b[0;32mif\u001b[0m \u001b[0mstart_i\u001b[0m \u001b[0;34m>=\u001b[0m \u001b[0mend_i\u001b[0m\u001b[0;34m:\u001b[0m\u001b[0;34m\u001b[0m\u001b[0;34m\u001b[0m\u001b[0m\n\u001b[1;32m    299\u001b[0m                 \u001b[0;32mbreak\u001b[0m\u001b[0;34m\u001b[0m\u001b[0;34m\u001b[0m\u001b[0m\n\u001b[0;32m--> 300\u001b[0;31m             \u001b[0mself\u001b[0m\u001b[0;34m.\u001b[0m\u001b[0m_save_chunk\u001b[0m\u001b[0;34m(\u001b[0m\u001b[0mstart_i\u001b[0m\u001b[0;34m,\u001b[0m \u001b[0mend_i\u001b[0m\u001b[0;34m)\u001b[0m\u001b[0;34m\u001b[0m\u001b[0;34m\u001b[0m\u001b[0m\n\u001b[0m\u001b[1;32m    301\u001b[0m \u001b[0;34m\u001b[0m\u001b[0m\n\u001b[1;32m    302\u001b[0m     \u001b[0;32mdef\u001b[0m \u001b[0m_save_chunk\u001b[0m\u001b[0;34m(\u001b[0m\u001b[0mself\u001b[0m\u001b[0;34m,\u001b[0m \u001b[0mstart_i\u001b[0m\u001b[0;34m:\u001b[0m \u001b[0mint\u001b[0m\u001b[0;34m,\u001b[0m \u001b[0mend_i\u001b[0m\u001b[0;34m:\u001b[0m \u001b[0mint\u001b[0m\u001b[0;34m)\u001b[0m \u001b[0;34m->\u001b[0m \u001b[0;32mNone\u001b[0m\u001b[0;34m:\u001b[0m\u001b[0;34m\u001b[0m\u001b[0;34m\u001b[0m\u001b[0m\n",
      "\u001b[0;32m/usr/local/lib/python3.7/dist-packages/pandas/io/formats/csvs.py\u001b[0m in \u001b[0;36m_save_chunk\u001b[0;34m(self, start_i, end_i)\u001b[0m\n\u001b[1;32m    305\u001b[0m         \u001b[0mdf\u001b[0m \u001b[0;34m=\u001b[0m \u001b[0mself\u001b[0m\u001b[0;34m.\u001b[0m\u001b[0mobj\u001b[0m\u001b[0;34m.\u001b[0m\u001b[0miloc\u001b[0m\u001b[0;34m[\u001b[0m\u001b[0mslicer\u001b[0m\u001b[0;34m]\u001b[0m\u001b[0;34m\u001b[0m\u001b[0;34m\u001b[0m\u001b[0m\n\u001b[1;32m    306\u001b[0m \u001b[0;34m\u001b[0m\u001b[0m\n\u001b[0;32m--> 307\u001b[0;31m         \u001b[0mres\u001b[0m \u001b[0;34m=\u001b[0m \u001b[0mdf\u001b[0m\u001b[0;34m.\u001b[0m\u001b[0m_mgr\u001b[0m\u001b[0;34m.\u001b[0m\u001b[0mto_native_types\u001b[0m\u001b[0;34m(\u001b[0m\u001b[0;34m**\u001b[0m\u001b[0mself\u001b[0m\u001b[0;34m.\u001b[0m\u001b[0m_number_format\u001b[0m\u001b[0;34m)\u001b[0m\u001b[0;34m\u001b[0m\u001b[0;34m\u001b[0m\u001b[0m\n\u001b[0m\u001b[1;32m    308\u001b[0m         \u001b[0mdata\u001b[0m \u001b[0;34m=\u001b[0m \u001b[0;34m[\u001b[0m\u001b[0mres\u001b[0m\u001b[0;34m.\u001b[0m\u001b[0miget_values\u001b[0m\u001b[0;34m(\u001b[0m\u001b[0mi\u001b[0m\u001b[0;34m)\u001b[0m \u001b[0;32mfor\u001b[0m \u001b[0mi\u001b[0m \u001b[0;32min\u001b[0m \u001b[0mrange\u001b[0m\u001b[0;34m(\u001b[0m\u001b[0mlen\u001b[0m\u001b[0;34m(\u001b[0m\u001b[0mres\u001b[0m\u001b[0;34m.\u001b[0m\u001b[0mitems\u001b[0m\u001b[0;34m)\u001b[0m\u001b[0;34m)\u001b[0m\u001b[0;34m]\u001b[0m\u001b[0;34m\u001b[0m\u001b[0;34m\u001b[0m\u001b[0m\n\u001b[1;32m    309\u001b[0m \u001b[0;34m\u001b[0m\u001b[0m\n",
      "\u001b[0;32m/usr/local/lib/python3.7/dist-packages/pandas/core/internals/managers.py\u001b[0m in \u001b[0;36mto_native_types\u001b[0;34m(self, **kwargs)\u001b[0m\n\u001b[1;32m    464\u001b[0m         \u001b[0;32min\u001b[0m \u001b[0mformatting\u001b[0m \u001b[0;34m(\u001b[0m\u001b[0mrepr\u001b[0m \u001b[0;34m/\u001b[0m \u001b[0mcsv\u001b[0m\u001b[0;34m)\u001b[0m\u001b[0;34m.\u001b[0m\u001b[0;34m\u001b[0m\u001b[0;34m\u001b[0m\u001b[0m\n\u001b[1;32m    465\u001b[0m         \"\"\"\n\u001b[0;32m--> 466\u001b[0;31m         \u001b[0;32mreturn\u001b[0m \u001b[0mself\u001b[0m\u001b[0;34m.\u001b[0m\u001b[0mapply\u001b[0m\u001b[0;34m(\u001b[0m\u001b[0;34m\"to_native_types\"\u001b[0m\u001b[0;34m,\u001b[0m \u001b[0;34m**\u001b[0m\u001b[0mkwargs\u001b[0m\u001b[0;34m)\u001b[0m\u001b[0;34m\u001b[0m\u001b[0;34m\u001b[0m\u001b[0m\n\u001b[0m\u001b[1;32m    467\u001b[0m \u001b[0;34m\u001b[0m\u001b[0m\n\u001b[1;32m    468\u001b[0m     \u001b[0;32mdef\u001b[0m \u001b[0mis_consolidated\u001b[0m\u001b[0;34m(\u001b[0m\u001b[0mself\u001b[0m\u001b[0;34m)\u001b[0m \u001b[0;34m->\u001b[0m \u001b[0mbool\u001b[0m\u001b[0;34m:\u001b[0m\u001b[0;34m\u001b[0m\u001b[0;34m\u001b[0m\u001b[0m\n",
      "\u001b[0;32m/usr/local/lib/python3.7/dist-packages/pandas/core/internals/managers.py\u001b[0m in \u001b[0;36mapply\u001b[0;34m(self, f, align_keys, ignore_failures, **kwargs)\u001b[0m\n\u001b[1;32m    325\u001b[0m                     \u001b[0mapplied\u001b[0m \u001b[0;34m=\u001b[0m \u001b[0mb\u001b[0m\u001b[0;34m.\u001b[0m\u001b[0mapply\u001b[0m\u001b[0;34m(\u001b[0m\u001b[0mf\u001b[0m\u001b[0;34m,\u001b[0m \u001b[0;34m**\u001b[0m\u001b[0mkwargs\u001b[0m\u001b[0;34m)\u001b[0m\u001b[0;34m\u001b[0m\u001b[0;34m\u001b[0m\u001b[0m\n\u001b[1;32m    326\u001b[0m                 \u001b[0;32melse\u001b[0m\u001b[0;34m:\u001b[0m\u001b[0;34m\u001b[0m\u001b[0;34m\u001b[0m\u001b[0m\n\u001b[0;32m--> 327\u001b[0;31m                     \u001b[0mapplied\u001b[0m \u001b[0;34m=\u001b[0m \u001b[0mgetattr\u001b[0m\u001b[0;34m(\u001b[0m\u001b[0mb\u001b[0m\u001b[0;34m,\u001b[0m \u001b[0mf\u001b[0m\u001b[0;34m)\u001b[0m\u001b[0;34m(\u001b[0m\u001b[0;34m**\u001b[0m\u001b[0mkwargs\u001b[0m\u001b[0;34m)\u001b[0m\u001b[0;34m\u001b[0m\u001b[0;34m\u001b[0m\u001b[0m\n\u001b[0m\u001b[1;32m    328\u001b[0m             \u001b[0;32mexcept\u001b[0m \u001b[0;34m(\u001b[0m\u001b[0mTypeError\u001b[0m\u001b[0;34m,\u001b[0m \u001b[0mNotImplementedError\u001b[0m\u001b[0;34m)\u001b[0m\u001b[0;34m:\u001b[0m\u001b[0;34m\u001b[0m\u001b[0;34m\u001b[0m\u001b[0m\n\u001b[1;32m    329\u001b[0m                 \u001b[0;32mif\u001b[0m \u001b[0;32mnot\u001b[0m \u001b[0mignore_failures\u001b[0m\u001b[0;34m:\u001b[0m\u001b[0;34m\u001b[0m\u001b[0;34m\u001b[0m\u001b[0m\n",
      "\u001b[0;32m/usr/local/lib/python3.7/dist-packages/pandas/core/internals/blocks.py\u001b[0m in \u001b[0;36mto_native_types\u001b[0;34m(self, na_rep, quoting, **kwargs)\u001b[0m\n\u001b[1;32m    639\u001b[0m     \u001b[0;32mdef\u001b[0m \u001b[0mto_native_types\u001b[0m\u001b[0;34m(\u001b[0m\u001b[0mself\u001b[0m\u001b[0;34m,\u001b[0m \u001b[0mna_rep\u001b[0m\u001b[0;34m=\u001b[0m\u001b[0;34m\"nan\"\u001b[0m\u001b[0;34m,\u001b[0m \u001b[0mquoting\u001b[0m\u001b[0;34m=\u001b[0m\u001b[0;32mNone\u001b[0m\u001b[0;34m,\u001b[0m \u001b[0;34m**\u001b[0m\u001b[0mkwargs\u001b[0m\u001b[0;34m)\u001b[0m\u001b[0;34m:\u001b[0m\u001b[0;34m\u001b[0m\u001b[0;34m\u001b[0m\u001b[0m\n\u001b[1;32m    640\u001b[0m         \u001b[0;34m\"\"\"convert to our native types format\"\"\"\u001b[0m\u001b[0;34m\u001b[0m\u001b[0;34m\u001b[0m\u001b[0m\n\u001b[0;32m--> 641\u001b[0;31m         \u001b[0mresult\u001b[0m \u001b[0;34m=\u001b[0m \u001b[0mto_native_types\u001b[0m\u001b[0;34m(\u001b[0m\u001b[0mself\u001b[0m\u001b[0;34m.\u001b[0m\u001b[0mvalues\u001b[0m\u001b[0;34m,\u001b[0m \u001b[0mna_rep\u001b[0m\u001b[0;34m=\u001b[0m\u001b[0mna_rep\u001b[0m\u001b[0;34m,\u001b[0m \u001b[0mquoting\u001b[0m\u001b[0;34m=\u001b[0m\u001b[0mquoting\u001b[0m\u001b[0;34m,\u001b[0m \u001b[0;34m**\u001b[0m\u001b[0mkwargs\u001b[0m\u001b[0;34m)\u001b[0m\u001b[0;34m\u001b[0m\u001b[0;34m\u001b[0m\u001b[0m\n\u001b[0m\u001b[1;32m    642\u001b[0m         \u001b[0;32mreturn\u001b[0m \u001b[0mself\u001b[0m\u001b[0;34m.\u001b[0m\u001b[0mmake_block\u001b[0m\u001b[0;34m(\u001b[0m\u001b[0mresult\u001b[0m\u001b[0;34m)\u001b[0m\u001b[0;34m\u001b[0m\u001b[0;34m\u001b[0m\u001b[0m\n\u001b[1;32m    643\u001b[0m \u001b[0;34m\u001b[0m\u001b[0m\n",
      "\u001b[0;32m/usr/local/lib/python3.7/dist-packages/pandas/core/internals/blocks.py\u001b[0m in \u001b[0;36mto_native_types\u001b[0;34m(values, na_rep, quoting, float_format, decimal, **kwargs)\u001b[0m\n\u001b[1;32m   2077\u001b[0m \u001b[0;34m\u001b[0m\u001b[0m\n\u001b[1;32m   2078\u001b[0m             \u001b[0mvalues\u001b[0m\u001b[0;34m[\u001b[0m\u001b[0mmask\u001b[0m\u001b[0;34m]\u001b[0m \u001b[0;34m=\u001b[0m \u001b[0mna_rep\u001b[0m\u001b[0;34m\u001b[0m\u001b[0;34m\u001b[0m\u001b[0m\n\u001b[0;32m-> 2079\u001b[0;31m             \u001b[0mvalues\u001b[0m \u001b[0;34m=\u001b[0m \u001b[0mvalues\u001b[0m\u001b[0;34m.\u001b[0m\u001b[0mastype\u001b[0m\u001b[0;34m(\u001b[0m\u001b[0mobject\u001b[0m\u001b[0;34m,\u001b[0m \u001b[0mcopy\u001b[0m\u001b[0;34m=\u001b[0m\u001b[0;32mFalse\u001b[0m\u001b[0;34m)\u001b[0m\u001b[0;34m\u001b[0m\u001b[0;34m\u001b[0m\u001b[0m\n\u001b[0m\u001b[1;32m   2080\u001b[0m             \u001b[0;32mreturn\u001b[0m \u001b[0mvalues\u001b[0m\u001b[0;34m\u001b[0m\u001b[0;34m\u001b[0m\u001b[0m\n\u001b[1;32m   2081\u001b[0m \u001b[0;34m\u001b[0m\u001b[0m\n",
      "\u001b[0;31mKeyboardInterrupt\u001b[0m: "
     ]
    }
   ],
   "source": [
    "# we can skip this step when using as a final pipeline\n",
    "# this serves only as a checkpoint to avoid query in development phase\n",
    "\n",
    "# raw_past_data.to_csv('raw_past_data.csv')\n",
    "# files.download('raw_past_data.csv')"
   ]
  },
  {
   "cell_type": "code",
   "execution_count": null,
   "metadata": {
    "colab": {
     "base_uri": "https://localhost:8080/"
    },
    "id": "quRuhG6eQ5G3",
    "outputId": "640bdcd2-8347-43ea-d7a9-23fa5ffe9812"
   },
   "outputs": [
    {
     "name": "stderr",
     "output_type": "stream",
     "text": [
      "/usr/local/lib/python3.7/dist-packages/IPython/core/interactiveshell.py:3326: DtypeWarning: Columns (9) have mixed types.Specify dtype option on import or set low_memory=False.\n",
      "  exec(code_obj, self.user_global_ns, self.user_ns)\n"
     ]
    }
   ],
   "source": [
    "# we can skip this step if we skipped the csv-saving step\n",
    "\n",
    "raw_past_data = pd.read_csv('drive/MyDrive/pfim_mbo/version_2.0/raw_data/raw_past_data/raw_past_data.csv')"
   ]
  },
  {
   "cell_type": "code",
   "execution_count": null,
   "metadata": {
    "colab": {
     "base_uri": "https://localhost:8080/"
    },
    "id": "AOVn3I4Aocnh",
    "outputId": "6ee25631-e010-49d3-e32c-cb79b6f7a4c9"
   },
   "outputs": [
    {
     "data": {
      "text/plain": [
       "0"
      ]
     },
     "execution_count": 4,
     "metadata": {},
     "output_type": "execute_result"
    }
   ],
   "source": [
    "raw_past_data['resource_name'].isna().sum()"
   ]
  },
  {
   "cell_type": "markdown",
   "metadata": {
    "id": "6MeSQ8zy9uPk"
   },
   "source": [
    "## Google Drive Trading Forecast Data\n",
    "\n",
    "\n",
    "The current forecast data is from the Google Drive at https://drive.google.com/drive/folders/1eowr5NOqW6UJ6lLaECBgAMURPpRPVrV6. Each main folders is named as 'YYYY.MM.DD Data (Active)' Each of these main folders contains an \"Energy Market Offers' subfolder containing 'Luzon Energy Offer Price.csv', 'Luzon Energy Offer Price.csv', 'Luzon Energy Offer Quantity.csv', 'Visayas Energy Offer Quantity.csv'. Our goal is to eventually merge these into the market data into one single table."
   ]
  },
  {
   "cell_type": "code",
   "execution_count": null,
   "metadata": {
    "id": "NCvk823R9wxw"
   },
   "outputs": [],
   "source": [
    "forecast_luz_price = pd.concat([pd.read_csv('drive/MyDrive/pfim_mbo/version_2.0/raw_data/raw_forecast_data/Luzon Energy Offer Price_1.csv'), \n",
    "                                pd.read_csv('drive/MyDrive/pfim_mbo/version_2.0/raw_data/raw_forecast_data/Luzon Energy Offer Price_2.csv'), \n",
    "                                pd.read_csv('drive/MyDrive/pfim_mbo/version_2.0/raw_data/raw_forecast_data/Luzon Energy Offer Price_3.csv'),\n",
    "                                pd.read_csv('drive/MyDrive/pfim_mbo/version_2.0/raw_data/raw_forecast_data/Luzon Energy Offer Price_4.csv'),\n",
    "                                pd.read_csv('drive/MyDrive/pfim_mbo/version_2.0/raw_data/raw_forecast_data/Luzon Energy Offer Price_5.csv'),\n",
    "                                pd.read_csv('drive/MyDrive/pfim_mbo/version_2.0/raw_data/raw_forecast_data/Luzon Energy Offer Price_6.csv'),\n",
    "                                pd.read_csv('drive/MyDrive/pfim_mbo/version_2.0/raw_data/raw_forecast_data/Luzon Energy Offer Price_7.csv'),\n",
    "                                pd.read_csv('drive/MyDrive/pfim_mbo/version_2.0/raw_data/raw_forecast_data/Luzon Energy Offer Price_8.csv'),\n",
    "                                pd.read_csv('drive/MyDrive/pfim_mbo/version_2.0/raw_data/raw_forecast_data/Luzon Energy Offer Price_9.csv'),\n",
    "                                pd.read_csv('drive/MyDrive/pfim_mbo/version_2.0/raw_data/raw_forecast_data/Luzon Energy Offer Price_10.csv'),\n",
    "                                pd.read_csv('drive/MyDrive/pfim_mbo/version_2.0/raw_data/raw_forecast_data/Luzon Energy Offer Price_11.csv'),\n",
    "                                pd.read_csv('drive/MyDrive/pfim_mbo/version_2.0/raw_data/raw_forecast_data/Luzon Energy Offer Price_12.csv'),\n",
    "                                pd.read_csv('drive/MyDrive/pfim_mbo/version_2.0/raw_data/raw_forecast_data/Luzon Energy Offer Price_13.csv'),\n",
    "                                pd.read_csv('drive/MyDrive/pfim_mbo/version_2.0/raw_data/raw_forecast_data/Luzon Energy Offer Price_14.csv'),\n",
    "                                pd.read_csv('drive/MyDrive/pfim_mbo/version_2.0/raw_data/raw_forecast_data/Luzon Energy Offer Price_15.csv'),\n",
    "                                pd.read_csv('drive/MyDrive/pfim_mbo/version_2.0/raw_data/raw_forecast_data/Luzon Energy Offer Price_16.csv'),\n",
    "                                pd.read_csv('drive/MyDrive/pfim_mbo/version_2.0/raw_data/raw_forecast_data/Luzon Energy Offer Price_17.csv'),\n",
    "                                pd.read_csv('drive/MyDrive/pfim_mbo/version_2.0/raw_data/raw_forecast_data/Luzon Energy Offer Price_18.csv'),\n",
    "                                pd.read_csv('drive/MyDrive/pfim_mbo/version_2.0/raw_data/raw_forecast_data/Luzon Energy Offer Price_19.csv'),\n",
    "                                pd.read_csv('drive/MyDrive/pfim_mbo/version_2.0/raw_data/raw_forecast_data/Luzon Energy Offer Price_20.csv'),\n",
    "                                pd.read_csv('drive/MyDrive/pfim_mbo/version_2.0/raw_data/raw_forecast_data/Luzon Energy Offer Price_21.csv'),\n",
    "                                pd.read_csv('drive/MyDrive/pfim_mbo/version_2.0/raw_data/raw_forecast_data/Luzon Energy Offer Price_22.csv'),\n",
    "                                pd.read_csv('drive/MyDrive/pfim_mbo/version_2.0/raw_data/raw_forecast_data/Luzon Energy Offer Price_23.csv'),\n",
    "                                pd.read_csv('drive/MyDrive/pfim_mbo/version_2.0/raw_data/raw_forecast_data/Luzon Energy Offer Price_24.csv'),\n",
    "                                pd.read_csv('drive/MyDrive/pfim_mbo/version_2.0/raw_data/raw_forecast_data/Luzon Energy Offer Price_25.csv'),\n",
    "                                pd.read_csv('drive/MyDrive/pfim_mbo/version_2.0/raw_data/raw_forecast_data/Luzon Energy Offer Price_26.csv'),\n",
    "                                pd.read_csv('drive/MyDrive/pfim_mbo/version_2.0/raw_data/raw_forecast_data/Luzon Energy Offer Price_27.csv'),\n",
    "                                pd.read_csv('drive/MyDrive/pfim_mbo/version_2.0/raw_data/raw_forecast_data/Luzon Energy Offer Price_28.csv'),\n",
    "                                pd.read_csv('drive/MyDrive/pfim_mbo/version_2.0/raw_data/raw_forecast_data/Luzon Energy Offer Price_29.csv'),\n",
    "                                pd.read_csv('drive/MyDrive/pfim_mbo/version_2.0/raw_data/raw_forecast_data/Luzon Energy Offer Price_30.csv'),\n",
    "                                pd.read_csv('drive/MyDrive/pfim_mbo/version_2.0/raw_data/raw_forecast_data/Luzon Energy Offer Price_31.csv'),\n",
    "                                pd.read_csv('drive/MyDrive/pfim_mbo/version_2.0/raw_data/raw_forecast_data/Luzon Energy Offer Price_32.csv'),\n",
    "                                pd.read_csv('drive/MyDrive/pfim_mbo/version_2.0/raw_data/raw_forecast_data/Luzon Energy Offer Price_33.csv'),\n",
    "                                pd.read_csv('drive/MyDrive/pfim_mbo/version_2.0/raw_data/raw_forecast_data/Luzon Energy Offer Price_34.csv'),\n",
    "                                pd.read_csv('drive/MyDrive/pfim_mbo/version_2.0/raw_data/raw_forecast_data/Luzon Energy Offer Price_35.csv'),\n",
    "                                pd.read_csv('drive/MyDrive/pfim_mbo/version_2.0/raw_data/raw_forecast_data/Luzon Energy Offer Price_36.csv'),\n",
    "                                pd.read_csv('drive/MyDrive/pfim_mbo/version_2.0/raw_data/raw_forecast_data/Luzon Energy Offer Price_37.csv')\n",
    "                                ],ignore_index=True)\n",
    "\n",
    "\n",
    "forecast_luz_qty = pd.concat([pd.read_csv('drive/MyDrive/pfim_mbo/version_2.0/raw_data/raw_forecast_data/Luzon Energy Offer Quantity_1.csv'), \n",
    "                                pd.read_csv('drive/MyDrive/pfim_mbo/version_2.0/raw_data/raw_forecast_data/Luzon Energy Offer Quantity_2.csv'), \n",
    "                                pd.read_csv('drive/MyDrive/pfim_mbo/version_2.0/raw_data/raw_forecast_data/Luzon Energy Offer Quantity_3.csv'),\n",
    "                                pd.read_csv('drive/MyDrive/pfim_mbo/version_2.0/raw_data/raw_forecast_data/Luzon Energy Offer Quantity_4.csv'),\n",
    "                                pd.read_csv('drive/MyDrive/pfim_mbo/version_2.0/raw_data/raw_forecast_data/Luzon Energy Offer Quantity_5.csv'),\n",
    "                                pd.read_csv('drive/MyDrive/pfim_mbo/version_2.0/raw_data/raw_forecast_data/Luzon Energy Offer Quantity_6.csv'),\n",
    "                                pd.read_csv('drive/MyDrive/pfim_mbo/version_2.0/raw_data/raw_forecast_data/Luzon Energy Offer Quantity_7.csv'),\n",
    "                                pd.read_csv('drive/MyDrive/pfim_mbo/version_2.0/raw_data/raw_forecast_data/Luzon Energy Offer Quantity_8.csv'),\n",
    "                                pd.read_csv('drive/MyDrive/pfim_mbo/version_2.0/raw_data/raw_forecast_data/Luzon Energy Offer Quantity_9.csv'),\n",
    "                                pd.read_csv('drive/MyDrive/pfim_mbo/version_2.0/raw_data/raw_forecast_data/Luzon Energy Offer Quantity_10.csv'),\n",
    "                                pd.read_csv('drive/MyDrive/pfim_mbo/version_2.0/raw_data/raw_forecast_data/Luzon Energy Offer Quantity_11.csv'),\n",
    "                                pd.read_csv('drive/MyDrive/pfim_mbo/version_2.0/raw_data/raw_forecast_data/Luzon Energy Offer Quantity_12.csv'),\n",
    "                                pd.read_csv('drive/MyDrive/pfim_mbo/version_2.0/raw_data/raw_forecast_data/Luzon Energy Offer Quantity_13.csv'),\n",
    "                                pd.read_csv('drive/MyDrive/pfim_mbo/version_2.0/raw_data/raw_forecast_data/Luzon Energy Offer Quantity_14.csv'),\n",
    "                                pd.read_csv('drive/MyDrive/pfim_mbo/version_2.0/raw_data/raw_forecast_data/Luzon Energy Offer Quantity_15.csv'),\n",
    "                                pd.read_csv('drive/MyDrive/pfim_mbo/version_2.0/raw_data/raw_forecast_data/Luzon Energy Offer Quantity_16.csv'),\n",
    "                                pd.read_csv('drive/MyDrive/pfim_mbo/version_2.0/raw_data/raw_forecast_data/Luzon Energy Offer Quantity_17.csv'),\n",
    "                                pd.read_csv('drive/MyDrive/pfim_mbo/version_2.0/raw_data/raw_forecast_data/Luzon Energy Offer Quantity_18.csv'),\n",
    "                                pd.read_csv('drive/MyDrive/pfim_mbo/version_2.0/raw_data/raw_forecast_data/Luzon Energy Offer Quantity_19.csv'),\n",
    "                                pd.read_csv('drive/MyDrive/pfim_mbo/version_2.0/raw_data/raw_forecast_data/Luzon Energy Offer Quantity_20.csv'),\n",
    "                                pd.read_csv('drive/MyDrive/pfim_mbo/version_2.0/raw_data/raw_forecast_data/Luzon Energy Offer Quantity_21.csv'),\n",
    "                                pd.read_csv('drive/MyDrive/pfim_mbo/version_2.0/raw_data/raw_forecast_data/Luzon Energy Offer Quantity_22.csv'),\n",
    "                                pd.read_csv('drive/MyDrive/pfim_mbo/version_2.0/raw_data/raw_forecast_data/Luzon Energy Offer Quantity_23.csv'),\n",
    "                                pd.read_csv('drive/MyDrive/pfim_mbo/version_2.0/raw_data/raw_forecast_data/Luzon Energy Offer Quantity_24.csv'),\n",
    "                                pd.read_csv('drive/MyDrive/pfim_mbo/version_2.0/raw_data/raw_forecast_data/Luzon Energy Offer Quantity_25.csv'),\n",
    "                                pd.read_csv('drive/MyDrive/pfim_mbo/version_2.0/raw_data/raw_forecast_data/Luzon Energy Offer Quantity_26.csv'),\n",
    "                                pd.read_csv('drive/MyDrive/pfim_mbo/version_2.0/raw_data/raw_forecast_data/Luzon Energy Offer Quantity_27.csv'),\n",
    "                                pd.read_csv('drive/MyDrive/pfim_mbo/version_2.0/raw_data/raw_forecast_data/Luzon Energy Offer Quantity_28.csv'),\n",
    "                                pd.read_csv('drive/MyDrive/pfim_mbo/version_2.0/raw_data/raw_forecast_data/Luzon Energy Offer Quantity_29.csv'),\n",
    "                                pd.read_csv('drive/MyDrive/pfim_mbo/version_2.0/raw_data/raw_forecast_data/Luzon Energy Offer Quantity_30.csv'),\n",
    "                                pd.read_csv('drive/MyDrive/pfim_mbo/version_2.0/raw_data/raw_forecast_data/Luzon Energy Offer Quantity_31.csv'),\n",
    "                                pd.read_csv('drive/MyDrive/pfim_mbo/version_2.0/raw_data/raw_forecast_data/Luzon Energy Offer Quantity_32.csv'),\n",
    "                                pd.read_csv('drive/MyDrive/pfim_mbo/version_2.0/raw_data/raw_forecast_data/Luzon Energy Offer Quantity_33.csv'),\n",
    "                                pd.read_csv('drive/MyDrive/pfim_mbo/version_2.0/raw_data/raw_forecast_data/Luzon Energy Offer Quantity_34.csv'),\n",
    "                                pd.read_csv('drive/MyDrive/pfim_mbo/version_2.0/raw_data/raw_forecast_data/Luzon Energy Offer Quantity_35.csv'),\n",
    "                                pd.read_csv('drive/MyDrive/pfim_mbo/version_2.0/raw_data/raw_forecast_data/Luzon Energy Offer Quantity_36.csv'),\n",
    "                                pd.read_csv('drive/MyDrive/pfim_mbo/version_2.0/raw_data/raw_forecast_data/Luzon Energy Offer Quantity_37.csv')\n",
    "                                ],ignore_index=True)\n",
    "\n",
    "forecast_vis_price = pd.concat([pd.read_csv('drive/MyDrive/pfim_mbo/version_2.0/raw_data/raw_forecast_data/Visayas Energy Offer Price_1.csv'), \n",
    "                                pd.read_csv('drive/MyDrive/pfim_mbo/version_2.0/raw_data/raw_forecast_data/Visayas Energy Offer Price_2.csv'), \n",
    "                                pd.read_csv('drive/MyDrive/pfim_mbo/version_2.0/raw_data/raw_forecast_data/Visayas Energy Offer Price_3.csv'),\n",
    "                                pd.read_csv('drive/MyDrive/pfim_mbo/version_2.0/raw_data/raw_forecast_data/Visayas Energy Offer Price_4.csv'),\n",
    "                                pd.read_csv('drive/MyDrive/pfim_mbo/version_2.0/raw_data/raw_forecast_data/Visayas Energy Offer Price_5.csv'),\n",
    "                                pd.read_csv('drive/MyDrive/pfim_mbo/version_2.0/raw_data/raw_forecast_data/Visayas Energy Offer Price_6.csv'),\n",
    "                                pd.read_csv('drive/MyDrive/pfim_mbo/version_2.0/raw_data/raw_forecast_data/Visayas Energy Offer Price_7.csv'),\n",
    "                                pd.read_csv('drive/MyDrive/pfim_mbo/version_2.0/raw_data/raw_forecast_data/Visayas Energy Offer Price_8.csv'),\n",
    "                                pd.read_csv('drive/MyDrive/pfim_mbo/version_2.0/raw_data/raw_forecast_data/Visayas Energy Offer Price_9.csv'),\n",
    "                                pd.read_csv('drive/MyDrive/pfim_mbo/version_2.0/raw_data/raw_forecast_data/Visayas Energy Offer Price_10.csv'),\n",
    "                                pd.read_csv('drive/MyDrive/pfim_mbo/version_2.0/raw_data/raw_forecast_data/Visayas Energy Offer Price_11.csv'),\n",
    "                                pd.read_csv('drive/MyDrive/pfim_mbo/version_2.0/raw_data/raw_forecast_data/Visayas Energy Offer Price_12.csv'),\n",
    "                                pd.read_csv('drive/MyDrive/pfim_mbo/version_2.0/raw_data/raw_forecast_data/Visayas Energy Offer Price_13.csv'),\n",
    "                                pd.read_csv('drive/MyDrive/pfim_mbo/version_2.0/raw_data/raw_forecast_data/Visayas Energy Offer Price_14.csv'),\n",
    "                                pd.read_csv('drive/MyDrive/pfim_mbo/version_2.0/raw_data/raw_forecast_data/Visayas Energy Offer Price_15.csv'),\n",
    "                                pd.read_csv('drive/MyDrive/pfim_mbo/version_2.0/raw_data/raw_forecast_data/Visayas Energy Offer Price_16.csv'),\n",
    "                                pd.read_csv('drive/MyDrive/pfim_mbo/version_2.0/raw_data/raw_forecast_data/Visayas Energy Offer Price_17.csv'),\n",
    "                                pd.read_csv('drive/MyDrive/pfim_mbo/version_2.0/raw_data/raw_forecast_data/Visayas Energy Offer Price_18.csv'),\n",
    "                                pd.read_csv('drive/MyDrive/pfim_mbo/version_2.0/raw_data/raw_forecast_data/Visayas Energy Offer Price_19.csv'),\n",
    "                                pd.read_csv('drive/MyDrive/pfim_mbo/version_2.0/raw_data/raw_forecast_data/Visayas Energy Offer Price_20.csv'),\n",
    "                                pd.read_csv('drive/MyDrive/pfim_mbo/version_2.0/raw_data/raw_forecast_data/Visayas Energy Offer Price_21.csv'),\n",
    "                                pd.read_csv('drive/MyDrive/pfim_mbo/version_2.0/raw_data/raw_forecast_data/Visayas Energy Offer Price_22.csv'),\n",
    "                                pd.read_csv('drive/MyDrive/pfim_mbo/version_2.0/raw_data/raw_forecast_data/Visayas Energy Offer Price_23.csv'),\n",
    "                                pd.read_csv('drive/MyDrive/pfim_mbo/version_2.0/raw_data/raw_forecast_data/Visayas Energy Offer Price_24.csv'),\n",
    "                                pd.read_csv('drive/MyDrive/pfim_mbo/version_2.0/raw_data/raw_forecast_data/Visayas Energy Offer Price_25.csv'),\n",
    "                                pd.read_csv('drive/MyDrive/pfim_mbo/version_2.0/raw_data/raw_forecast_data/Visayas Energy Offer Price_26.csv'),\n",
    "                                pd.read_csv('drive/MyDrive/pfim_mbo/version_2.0/raw_data/raw_forecast_data/Visayas Energy Offer Price_27.csv'),\n",
    "                                pd.read_csv('drive/MyDrive/pfim_mbo/version_2.0/raw_data/raw_forecast_data/Visayas Energy Offer Price_28.csv'),\n",
    "                                pd.read_csv('drive/MyDrive/pfim_mbo/version_2.0/raw_data/raw_forecast_data/Visayas Energy Offer Price_29.csv'),\n",
    "                                pd.read_csv('drive/MyDrive/pfim_mbo/version_2.0/raw_data/raw_forecast_data/Visayas Energy Offer Price_30.csv'),\n",
    "                                pd.read_csv('drive/MyDrive/pfim_mbo/version_2.0/raw_data/raw_forecast_data/Visayas Energy Offer Price_31.csv'),\n",
    "                                pd.read_csv('drive/MyDrive/pfim_mbo/version_2.0/raw_data/raw_forecast_data/Visayas Energy Offer Price_32.csv'),\n",
    "                                pd.read_csv('drive/MyDrive/pfim_mbo/version_2.0/raw_data/raw_forecast_data/Visayas Energy Offer Price_33.csv'),\n",
    "                                pd.read_csv('drive/MyDrive/pfim_mbo/version_2.0/raw_data/raw_forecast_data/Visayas Energy Offer Price_34.csv'),\n",
    "                                pd.read_csv('drive/MyDrive/pfim_mbo/version_2.0/raw_data/raw_forecast_data/Visayas Energy Offer Price_35.csv'),\n",
    "                                pd.read_csv('drive/MyDrive/pfim_mbo/version_2.0/raw_data/raw_forecast_data/Visayas Energy Offer Price_36.csv'),\n",
    "                                pd.read_csv('drive/MyDrive/pfim_mbo/version_2.0/raw_data/raw_forecast_data/Visayas Energy Offer Price_37.csv')\n",
    "                                ],ignore_index=True)\n",
    "\n",
    "forecast_vis_qty = pd.concat([pd.read_csv('drive/MyDrive/pfim_mbo/version_2.0/raw_data/raw_forecast_data/Visayas Energy Offer Quantity_1.csv'), \n",
    "                                pd.read_csv('drive/MyDrive/pfim_mbo/version_2.0/raw_data/raw_forecast_data/Visayas Energy Offer Quantity_2.csv'), \n",
    "                                pd.read_csv('drive/MyDrive/pfim_mbo/version_2.0/raw_data/raw_forecast_data/Visayas Energy Offer Quantity_3.csv'),\n",
    "                                pd.read_csv('drive/MyDrive/pfim_mbo/version_2.0/raw_data/raw_forecast_data/Visayas Energy Offer Quantity_4.csv'),\n",
    "                                pd.read_csv('drive/MyDrive/pfim_mbo/version_2.0/raw_data/raw_forecast_data/Visayas Energy Offer Quantity_5.csv'),\n",
    "                                pd.read_csv('drive/MyDrive/pfim_mbo/version_2.0/raw_data/raw_forecast_data/Visayas Energy Offer Quantity_6.csv'),\n",
    "                                pd.read_csv('drive/MyDrive/pfim_mbo/version_2.0/raw_data/raw_forecast_data/Visayas Energy Offer Quantity_7.csv'),\n",
    "                                pd.read_csv('drive/MyDrive/pfim_mbo/version_2.0/raw_data/raw_forecast_data/Visayas Energy Offer Quantity_8.csv'),\n",
    "                                pd.read_csv('drive/MyDrive/pfim_mbo/version_2.0/raw_data/raw_forecast_data/Visayas Energy Offer Quantity_9.csv'),\n",
    "                                pd.read_csv('drive/MyDrive/pfim_mbo/version_2.0/raw_data/raw_forecast_data/Visayas Energy Offer Quantity_10.csv'),\n",
    "                                pd.read_csv('drive/MyDrive/pfim_mbo/version_2.0/raw_data/raw_forecast_data/Visayas Energy Offer Quantity_11.csv'),\n",
    "                                pd.read_csv('drive/MyDrive/pfim_mbo/version_2.0/raw_data/raw_forecast_data/Visayas Energy Offer Quantity_12.csv'),\n",
    "                                pd.read_csv('drive/MyDrive/pfim_mbo/version_2.0/raw_data/raw_forecast_data/Visayas Energy Offer Quantity_13.csv'),\n",
    "                                pd.read_csv('drive/MyDrive/pfim_mbo/version_2.0/raw_data/raw_forecast_data/Visayas Energy Offer Quantity_14.csv'),\n",
    "                                pd.read_csv('drive/MyDrive/pfim_mbo/version_2.0/raw_data/raw_forecast_data/Visayas Energy Offer Quantity_15.csv'),\n",
    "                                pd.read_csv('drive/MyDrive/pfim_mbo/version_2.0/raw_data/raw_forecast_data/Visayas Energy Offer Quantity_16.csv'),\n",
    "                                pd.read_csv('drive/MyDrive/pfim_mbo/version_2.0/raw_data/raw_forecast_data/Visayas Energy Offer Quantity_17.csv'),\n",
    "                                pd.read_csv('drive/MyDrive/pfim_mbo/version_2.0/raw_data/raw_forecast_data/Visayas Energy Offer Quantity_18.csv'),\n",
    "                                pd.read_csv('drive/MyDrive/pfim_mbo/version_2.0/raw_data/raw_forecast_data/Visayas Energy Offer Quantity_19.csv'),\n",
    "                                pd.read_csv('drive/MyDrive/pfim_mbo/version_2.0/raw_data/raw_forecast_data/Visayas Energy Offer Quantity_20.csv'),\n",
    "                                pd.read_csv('drive/MyDrive/pfim_mbo/version_2.0/raw_data/raw_forecast_data/Visayas Energy Offer Quantity_21.csv'),\n",
    "                                pd.read_csv('drive/MyDrive/pfim_mbo/version_2.0/raw_data/raw_forecast_data/Visayas Energy Offer Quantity_22.csv'),\n",
    "                                pd.read_csv('drive/MyDrive/pfim_mbo/version_2.0/raw_data/raw_forecast_data/Visayas Energy Offer Quantity_23.csv'),\n",
    "                                pd.read_csv('drive/MyDrive/pfim_mbo/version_2.0/raw_data/raw_forecast_data/Visayas Energy Offer Quantity_24.csv'),\n",
    "                                pd.read_csv('drive/MyDrive/pfim_mbo/version_2.0/raw_data/raw_forecast_data/Visayas Energy Offer Quantity_25.csv'),\n",
    "                                pd.read_csv('drive/MyDrive/pfim_mbo/version_2.0/raw_data/raw_forecast_data/Visayas Energy Offer Quantity_26.csv'),\n",
    "                                pd.read_csv('drive/MyDrive/pfim_mbo/version_2.0/raw_data/raw_forecast_data/Visayas Energy Offer Quantity_27.csv'),\n",
    "                                pd.read_csv('drive/MyDrive/pfim_mbo/version_2.0/raw_data/raw_forecast_data/Visayas Energy Offer Quantity_28.csv'),\n",
    "                                pd.read_csv('drive/MyDrive/pfim_mbo/version_2.0/raw_data/raw_forecast_data/Visayas Energy Offer Quantity_29.csv'),\n",
    "                                pd.read_csv('drive/MyDrive/pfim_mbo/version_2.0/raw_data/raw_forecast_data/Visayas Energy Offer Quantity_30.csv'),\n",
    "                                pd.read_csv('drive/MyDrive/pfim_mbo/version_2.0/raw_data/raw_forecast_data/Visayas Energy Offer Quantity_31.csv'),\n",
    "                                pd.read_csv('drive/MyDrive/pfim_mbo/version_2.0/raw_data/raw_forecast_data/Visayas Energy Offer Quantity_32.csv'),\n",
    "                                pd.read_csv('drive/MyDrive/pfim_mbo/version_2.0/raw_data/raw_forecast_data/Visayas Energy Offer Quantity_33.csv'),\n",
    "                                pd.read_csv('drive/MyDrive/pfim_mbo/version_2.0/raw_data/raw_forecast_data/Visayas Energy Offer Quantity_34.csv'),\n",
    "                                pd.read_csv('drive/MyDrive/pfim_mbo/version_2.0/raw_data/raw_forecast_data/Visayas Energy Offer Quantity_35.csv'),\n",
    "                                pd.read_csv('drive/MyDrive/pfim_mbo/version_2.0/raw_data/raw_forecast_data/Visayas Energy Offer Quantity_36.csv'),\n",
    "                                pd.read_csv('drive/MyDrive/pfim_mbo/version_2.0/raw_data/raw_forecast_data/Visayas Energy Offer Quantity_37.csv')\n",
    "                                ],ignore_index=True)\n",
    "\n"
   ]
  },
  {
   "cell_type": "markdown",
   "metadata": {
    "id": "Bh_ccH-0_etP"
   },
   "source": [
    "# Cleaning (Cleaning Raw Data)"
   ]
  },
  {
   "cell_type": "markdown",
   "metadata": {
    "id": "GMduwMDBBb0x"
   },
   "source": [
    "## GBQ Market Data Cleaning"
   ]
  },
  {
   "cell_type": "code",
   "execution_count": null,
   "metadata": {
    "id": "ywRXNTfF_lnS"
   },
   "outputs": [],
   "source": [
    "raw_past_data=raw_past_data.drop(columns=['run_time', 'mkt_type', 'participant_id',\n",
    "                              'time_interval', 'rr_up1', 'rr_down1', 'rr_break_quantity1',\n",
    "                              'rr_up2', 'rr_down2', 'rr_break_quantity2',\n",
    "                              'rr_up3', 'rr_down3', 'rr_break_quantity3',\n",
    "                              'rr_up4', 'rr_down4', 'rr_break_quantity4',\n",
    "                              'rr_up5', 'rr_down5', 'rr_break_quantity5',\n",
    "                              'created_at', 'gbq_date_created'])\n",
    "\n",
    "column_names = {\"resource_name\" : \"RESOURCE_NAME\", \"start_time\" : \"START_TIME\", \"end_time\" : \"END_TIME\", \"region_name\" : 'REGION_NAME', \"zone_id\" : 'ZONE_ID',\n",
    "               \"price1\": \"PRICE1\", \"quantity1\":\"QUANTITY1\",\"price2\":\"PRICE2\", \"quantity2\":\"QUANTITY2\", \"price3\":\"PRICE3\", \"quantity3\":\"QUANTITY3\",\n",
    "              \"price4\": \"PRICE4\", \"quantity4\":\"QUANTITY4\", \"price5\":\"PRICE5\", \"quantity5\":\"QUANTITY5\", \"price6\":\"PRICE6\",\"quantity6\": \"QUANTITY6\",\n",
    "              \"price7\": \"PRICE7\", \"quantity7\":\"QUANTITY7\",\"price8\":\"PRICE8\", \"quantity8\":\"QUANTITY8\", \"price9\":\"PRICE9\", \"quantity9\":\"QUANTITY9\",\n",
    "              \"price10\": \"PRICE10\", \"quantity10\":\"QUANTITY10\",\"price11\":\"PRICE11\", \"quantity11\":\"QUANTITY11\"}\n",
    "\n",
    "\n",
    "raw_past_data.rename(columns = column_names, inplace = True)\n",
    "\n",
    "raw_past_data.reset_index(inplace=True)\n",
    "raw_past_data.drop(columns=['index'], inplace=True)\n",
    "raw_past_data = raw_past_data.fillna(0)\n",
    "raw_past_data = raw_past_data.drop(['START_TIME'], axis=1)\n",
    "raw_past_data['DATE'] = pd.to_datetime(raw_past_data['END_TIME']).dt.date\n",
    "raw_past_data['TIME'] = pd.to_datetime(raw_past_data['END_TIME']).dt.time\n",
    "raw_past_data.drop(columns=['END_TIME'], inplace=True)\n",
    "\n",
    "raw_past_data['YEAR'] = pd.DatetimeIndex(raw_past_data['DATE']).year\n",
    "raw_past_data['MONTH'] = pd.DatetimeIndex(raw_past_data['DATE']).month\n",
    "raw_past_data['DAY'] = pd.DatetimeIndex(raw_past_data['DATE']).day\n",
    "\n",
    "raw_past_data.drop(columns=['DATE'], inplace=True)\n",
    "\n",
    "def take_hour(x):\n",
    "    return (int(x.strftime(\"%H\")) + 1)\n",
    "\n",
    "raw_past_data['PERIOD'] = raw_past_data['TIME'].apply(take_hour)\n",
    "\n",
    "raw_past_data.drop(columns=['TIME'], inplace=True)\n",
    "\n",
    "raw_past_data.drop(columns=['Unnamed: 0'], inplace=True)\n",
    "\n",
    "def clean_resource_name(x):\n",
    "  if str(x)[0] == '0':\n",
    "    return str(x)[1:]\n",
    "  else:\n",
    "    return str(x)[0:]\n",
    "    \n",
    "raw_past_data['RESOURCE_NAME'] = raw_past_data['RESOURCE_NAME'].apply(clean_resource_name)\n",
    "\n",
    "column_names = [\"REGION_NAME\", \"ZONE_ID\", \"RESOURCE_NAME\", \"YEAR\", \"MONTH\", \"DAY\", \"PERIOD\",\n",
    "               \"PRICE1\", \"QUANTITY1\",\"PRICE2\", \"QUANTITY2\", \"PRICE3\", \"QUANTITY3\",\n",
    "               \"PRICE4\", \"QUANTITY4\",\"PRICE5\", \"QUANTITY5\", \"PRICE6\", \"QUANTITY6\",\n",
    "               \"PRICE7\", \"QUANTITY7\",\"PRICE8\", \"QUANTITY8\", \"PRICE9\", \"QUANTITY9\",\n",
    "               \"PRICE10\", \"QUANTITY10\",\"PRICE11\", \"QUANTITY11\"]\n",
    "\n",
    "raw_past_data = raw_past_data.reindex(columns=column_names)\n",
    "\n",
    "\n",
    "raw_past_data = raw_past_data.drop_duplicates(subset = ['RESOURCE_NAME', 'YEAR', 'MONTH', 'DAY', 'PERIOD'], keep = 'last')"
   ]
  },
  {
   "cell_type": "code",
   "execution_count": null,
   "metadata": {
    "colab": {
     "base_uri": "https://localhost:8080/"
    },
    "id": "kCNiuzNlo-fE",
    "outputId": "0ff0f2ca-5027-4094-affb-7dd3087581a9"
   },
   "outputs": [
    {
     "data": {
      "text/plain": [
       "0"
      ]
     },
     "execution_count": 7,
     "metadata": {},
     "output_type": "execute_result"
    }
   ],
   "source": [
    "raw_past_data['RESOURCE_NAME'].isna().sum()"
   ]
  },
  {
   "cell_type": "markdown",
   "metadata": {
    "id": "cmqSzLSbAvre"
   },
   "source": [
    "This ends the cleaning process for GBQ market data. We shall rename the cleaned past data simply as 'past_df'"
   ]
  },
  {
   "cell_type": "code",
   "execution_count": null,
   "metadata": {
    "id": "jwxyP9FzA9M-"
   },
   "outputs": [],
   "source": [
    "past_df = raw_past_data"
   ]
  },
  {
   "cell_type": "code",
   "execution_count": null,
   "metadata": {
    "colab": {
     "base_uri": "https://localhost:8080/",
     "height": 299
    },
    "id": "jY1aX0cQCNt1",
    "outputId": "68e824f1-b574-43d1-89f5-7836b13a49be"
   },
   "outputs": [
    {
     "data": {
      "text/html": [
       "\n",
       "  <div id=\"df-bd17422f-4fa3-45a9-8fba-7ff5dff80a64\">\n",
       "    <div class=\"colab-df-container\">\n",
       "      <div>\n",
       "<style scoped>\n",
       "    .dataframe tbody tr th:only-of-type {\n",
       "        vertical-align: middle;\n",
       "    }\n",
       "\n",
       "    .dataframe tbody tr th {\n",
       "        vertical-align: top;\n",
       "    }\n",
       "\n",
       "    .dataframe thead th {\n",
       "        text-align: right;\n",
       "    }\n",
       "</style>\n",
       "<table border=\"1\" class=\"dataframe\">\n",
       "  <thead>\n",
       "    <tr style=\"text-align: right;\">\n",
       "      <th></th>\n",
       "      <th>REGION_NAME</th>\n",
       "      <th>ZONE_ID</th>\n",
       "      <th>RESOURCE_NAME</th>\n",
       "      <th>YEAR</th>\n",
       "      <th>MONTH</th>\n",
       "      <th>DAY</th>\n",
       "      <th>PERIOD</th>\n",
       "      <th>PRICE1</th>\n",
       "      <th>QUANTITY1</th>\n",
       "      <th>PRICE2</th>\n",
       "      <th>...</th>\n",
       "      <th>PRICE7</th>\n",
       "      <th>QUANTITY7</th>\n",
       "      <th>PRICE8</th>\n",
       "      <th>QUANTITY8</th>\n",
       "      <th>PRICE9</th>\n",
       "      <th>QUANTITY9</th>\n",
       "      <th>PRICE10</th>\n",
       "      <th>QUANTITY10</th>\n",
       "      <th>PRICE11</th>\n",
       "      <th>QUANTITY11</th>\n",
       "    </tr>\n",
       "  </thead>\n",
       "  <tbody>\n",
       "    <tr>\n",
       "      <th>0</th>\n",
       "      <td>CVIS</td>\n",
       "      <td>PANAY</td>\n",
       "      <td>8STBAR_PB</td>\n",
       "      <td>2022</td>\n",
       "      <td>7</td>\n",
       "      <td>4</td>\n",
       "      <td>13</td>\n",
       "      <td>0.0</td>\n",
       "      <td>0.0</td>\n",
       "      <td>26000.0</td>\n",
       "      <td>...</td>\n",
       "      <td>0.00</td>\n",
       "      <td>0.0</td>\n",
       "      <td>0.0</td>\n",
       "      <td>0.0</td>\n",
       "      <td>0.0</td>\n",
       "      <td>0.0</td>\n",
       "      <td>0.0</td>\n",
       "      <td>0.0</td>\n",
       "      <td>0.0</td>\n",
       "      <td>0.0</td>\n",
       "    </tr>\n",
       "    <tr>\n",
       "      <th>1</th>\n",
       "      <td>CLUZ</td>\n",
       "      <td>SLUZON</td>\n",
       "      <td>3CALACA_G01</td>\n",
       "      <td>2022</td>\n",
       "      <td>7</td>\n",
       "      <td>4</td>\n",
       "      <td>24</td>\n",
       "      <td>0.0</td>\n",
       "      <td>0.0</td>\n",
       "      <td>-10000.0</td>\n",
       "      <td>...</td>\n",
       "      <td>0.00</td>\n",
       "      <td>0.0</td>\n",
       "      <td>0.0</td>\n",
       "      <td>0.0</td>\n",
       "      <td>0.0</td>\n",
       "      <td>0.0</td>\n",
       "      <td>0.0</td>\n",
       "      <td>0.0</td>\n",
       "      <td>0.0</td>\n",
       "      <td>0.0</td>\n",
       "    </tr>\n",
       "    <tr>\n",
       "      <th>2</th>\n",
       "      <td>CLUZ</td>\n",
       "      <td>SLUZON</td>\n",
       "      <td>3CALACA_G01</td>\n",
       "      <td>2022</td>\n",
       "      <td>7</td>\n",
       "      <td>4</td>\n",
       "      <td>13</td>\n",
       "      <td>0.0</td>\n",
       "      <td>0.0</td>\n",
       "      <td>-10000.0</td>\n",
       "      <td>...</td>\n",
       "      <td>0.00</td>\n",
       "      <td>0.0</td>\n",
       "      <td>0.0</td>\n",
       "      <td>0.0</td>\n",
       "      <td>0.0</td>\n",
       "      <td>0.0</td>\n",
       "      <td>0.0</td>\n",
       "      <td>0.0</td>\n",
       "      <td>0.0</td>\n",
       "      <td>0.0</td>\n",
       "    </tr>\n",
       "    <tr>\n",
       "      <th>3</th>\n",
       "      <td>CMIN</td>\n",
       "      <td>SWEST</td>\n",
       "      <td>14SUPKOR_G01</td>\n",
       "      <td>2022</td>\n",
       "      <td>7</td>\n",
       "      <td>4</td>\n",
       "      <td>24</td>\n",
       "      <td>0.0</td>\n",
       "      <td>0.0</td>\n",
       "      <td>30000.0</td>\n",
       "      <td>...</td>\n",
       "      <td>0.00</td>\n",
       "      <td>0.0</td>\n",
       "      <td>0.0</td>\n",
       "      <td>0.0</td>\n",
       "      <td>0.0</td>\n",
       "      <td>0.0</td>\n",
       "      <td>0.0</td>\n",
       "      <td>0.0</td>\n",
       "      <td>0.0</td>\n",
       "      <td>0.0</td>\n",
       "    </tr>\n",
       "    <tr>\n",
       "      <th>4</th>\n",
       "      <td>CVIS</td>\n",
       "      <td>LEYTE</td>\n",
       "      <td>4LEYTE_A</td>\n",
       "      <td>2022</td>\n",
       "      <td>7</td>\n",
       "      <td>4</td>\n",
       "      <td>13</td>\n",
       "      <td>0.0</td>\n",
       "      <td>0.0</td>\n",
       "      <td>0.0</td>\n",
       "      <td>...</td>\n",
       "      <td>1200.19</td>\n",
       "      <td>355.0</td>\n",
       "      <td>0.0</td>\n",
       "      <td>0.0</td>\n",
       "      <td>0.0</td>\n",
       "      <td>0.0</td>\n",
       "      <td>0.0</td>\n",
       "      <td>0.0</td>\n",
       "      <td>0.0</td>\n",
       "      <td>0.0</td>\n",
       "    </tr>\n",
       "  </tbody>\n",
       "</table>\n",
       "<p>5 rows × 29 columns</p>\n",
       "</div>\n",
       "      <button class=\"colab-df-convert\" onclick=\"convertToInteractive('df-bd17422f-4fa3-45a9-8fba-7ff5dff80a64')\"\n",
       "              title=\"Convert this dataframe to an interactive table.\"\n",
       "              style=\"display:none;\">\n",
       "        \n",
       "  <svg xmlns=\"http://www.w3.org/2000/svg\" height=\"24px\"viewBox=\"0 0 24 24\"\n",
       "       width=\"24px\">\n",
       "    <path d=\"M0 0h24v24H0V0z\" fill=\"none\"/>\n",
       "    <path d=\"M18.56 5.44l.94 2.06.94-2.06 2.06-.94-2.06-.94-.94-2.06-.94 2.06-2.06.94zm-11 1L8.5 8.5l.94-2.06 2.06-.94-2.06-.94L8.5 2.5l-.94 2.06-2.06.94zm10 10l.94 2.06.94-2.06 2.06-.94-2.06-.94-.94-2.06-.94 2.06-2.06.94z\"/><path d=\"M17.41 7.96l-1.37-1.37c-.4-.4-.92-.59-1.43-.59-.52 0-1.04.2-1.43.59L10.3 9.45l-7.72 7.72c-.78.78-.78 2.05 0 2.83L4 21.41c.39.39.9.59 1.41.59.51 0 1.02-.2 1.41-.59l7.78-7.78 2.81-2.81c.8-.78.8-2.07 0-2.86zM5.41 20L4 18.59l7.72-7.72 1.47 1.35L5.41 20z\"/>\n",
       "  </svg>\n",
       "      </button>\n",
       "      \n",
       "  <style>\n",
       "    .colab-df-container {\n",
       "      display:flex;\n",
       "      flex-wrap:wrap;\n",
       "      gap: 12px;\n",
       "    }\n",
       "\n",
       "    .colab-df-convert {\n",
       "      background-color: #E8F0FE;\n",
       "      border: none;\n",
       "      border-radius: 50%;\n",
       "      cursor: pointer;\n",
       "      display: none;\n",
       "      fill: #1967D2;\n",
       "      height: 32px;\n",
       "      padding: 0 0 0 0;\n",
       "      width: 32px;\n",
       "    }\n",
       "\n",
       "    .colab-df-convert:hover {\n",
       "      background-color: #E2EBFA;\n",
       "      box-shadow: 0px 1px 2px rgba(60, 64, 67, 0.3), 0px 1px 3px 1px rgba(60, 64, 67, 0.15);\n",
       "      fill: #174EA6;\n",
       "    }\n",
       "\n",
       "    [theme=dark] .colab-df-convert {\n",
       "      background-color: #3B4455;\n",
       "      fill: #D2E3FC;\n",
       "    }\n",
       "\n",
       "    [theme=dark] .colab-df-convert:hover {\n",
       "      background-color: #434B5C;\n",
       "      box-shadow: 0px 1px 3px 1px rgba(0, 0, 0, 0.15);\n",
       "      filter: drop-shadow(0px 1px 2px rgba(0, 0, 0, 0.3));\n",
       "      fill: #FFFFFF;\n",
       "    }\n",
       "  </style>\n",
       "\n",
       "      <script>\n",
       "        const buttonEl =\n",
       "          document.querySelector('#df-bd17422f-4fa3-45a9-8fba-7ff5dff80a64 button.colab-df-convert');\n",
       "        buttonEl.style.display =\n",
       "          google.colab.kernel.accessAllowed ? 'block' : 'none';\n",
       "\n",
       "        async function convertToInteractive(key) {\n",
       "          const element = document.querySelector('#df-bd17422f-4fa3-45a9-8fba-7ff5dff80a64');\n",
       "          const dataTable =\n",
       "            await google.colab.kernel.invokeFunction('convertToInteractive',\n",
       "                                                     [key], {});\n",
       "          if (!dataTable) return;\n",
       "\n",
       "          const docLinkHtml = 'Like what you see? Visit the ' +\n",
       "            '<a target=\"_blank\" href=https://colab.research.google.com/notebooks/data_table.ipynb>data table notebook</a>'\n",
       "            + ' to learn more about interactive tables.';\n",
       "          element.innerHTML = '';\n",
       "          dataTable['output_type'] = 'display_data';\n",
       "          await google.colab.output.renderOutput(dataTable, element);\n",
       "          const docLink = document.createElement('div');\n",
       "          docLink.innerHTML = docLinkHtml;\n",
       "          element.appendChild(docLink);\n",
       "        }\n",
       "      </script>\n",
       "    </div>\n",
       "  </div>\n",
       "  "
      ],
      "text/plain": [
       "  REGION_NAME ZONE_ID RESOURCE_NAME  YEAR  MONTH  DAY  PERIOD  PRICE1  \\\n",
       "0        CVIS   PANAY     8STBAR_PB  2022      7    4      13     0.0   \n",
       "1        CLUZ  SLUZON   3CALACA_G01  2022      7    4      24     0.0   \n",
       "2        CLUZ  SLUZON   3CALACA_G01  2022      7    4      13     0.0   \n",
       "3        CMIN   SWEST  14SUPKOR_G01  2022      7    4      24     0.0   \n",
       "4        CVIS   LEYTE      4LEYTE_A  2022      7    4      13     0.0   \n",
       "\n",
       "   QUANTITY1   PRICE2  ...   PRICE7  QUANTITY7  PRICE8  QUANTITY8  PRICE9  \\\n",
       "0        0.0  26000.0  ...     0.00        0.0     0.0        0.0     0.0   \n",
       "1        0.0 -10000.0  ...     0.00        0.0     0.0        0.0     0.0   \n",
       "2        0.0 -10000.0  ...     0.00        0.0     0.0        0.0     0.0   \n",
       "3        0.0  30000.0  ...     0.00        0.0     0.0        0.0     0.0   \n",
       "4        0.0      0.0  ...  1200.19      355.0     0.0        0.0     0.0   \n",
       "\n",
       "   QUANTITY9  PRICE10  QUANTITY10  PRICE11  QUANTITY11  \n",
       "0        0.0      0.0         0.0      0.0         0.0  \n",
       "1        0.0      0.0         0.0      0.0         0.0  \n",
       "2        0.0      0.0         0.0      0.0         0.0  \n",
       "3        0.0      0.0         0.0      0.0         0.0  \n",
       "4        0.0      0.0         0.0      0.0         0.0  \n",
       "\n",
       "[5 rows x 29 columns]"
      ]
     },
     "execution_count": 9,
     "metadata": {},
     "output_type": "execute_result"
    }
   ],
   "source": [
    "past_df.head()"
   ]
  },
  {
   "cell_type": "code",
   "execution_count": null,
   "metadata": {
    "colab": {
     "base_uri": "https://localhost:8080/"
    },
    "id": "_2sC5lrVeH1c",
    "outputId": "f7472cc9-f947-4be6-a8c6-52f6ffd301ce"
   },
   "outputs": [
    {
     "data": {
      "text/plain": [
       "array(['8STBAR_PB', '3CALACA_G01', '14SUPKOR_G01', '4LEYTE_A',\n",
       "       '1ANDA_G01', '1APEC_G01', '3QPPL_G01', '3SBPL_G01', '5CPPC_G01',\n",
       "       '5EAUC_G01', '8PALM_G01', '10IDPP_G01', '10MEGC_G01', '3SNGAB_G01',\n",
       "       '6KABAN_BAT', '14MTAPO_U01', '1HYPGRN_G01', '1PETRON_G01',\n",
       "       '1S_ENRO_G01', '1T_ASIA_G01', '3PAGBIL_G03', '6NASULO_G01',\n",
       "       '6SCBIOP_G01', '6STNEGB_G01', '11MINBAL_G01', '11PACERM_G01',\n",
       "       '14PKPSOC_G01', '3RCBMI_G01', '3RCBMI_G02', '1CIP2_G01',\n",
       "       '1GNPD_U01', '3ALMNOS_BAT', '3ALMNOS_BAT1', '3ALMNOS_BAT2',\n",
       "       '6NTNEGB_G01', '14MTAPO_U03', '10PPEI_U01', '2MILLEN_G01',\n",
       "       '3CALACA_G02', '8STBPB1_U01', '8STBPB1_U02', '8STBPB1_U03',\n",
       "       '8STBPB1_U04', '12NACSUR_G01', '12KEGMIS_G01', '12KEGSUR_G01',\n",
       "       '1ANGAT_A', '1ANGAT_M', '1SMC_G02', '1SMC_G03', '1SMC_G04',\n",
       "       '3MGI_G02', '12TM2_U01', '12TM2_U02', '13TM1_U01', '13TM1_U02',\n",
       "       '3MGPP_G01', '5TPVI_U01', '5TPVI_U02', '5TPVI_U03', '5TPVI_U04',\n",
       "       '5TPVI_U05', '5TPVI_U06', '7BDPP_G01', '8PDPP_G01', '9WMPC_U01',\n",
       "       '9WMPC_U02', '9WMPC_U03', '9WMPC_U04', '9WMPC_U05', '9WMPC_U06',\n",
       "       '9WMPC_U07', '9WMPC_U08', '9WMPC_U10', '11NBPC_G01', '1LIMAY_U04',\n",
       "       '1LIMAY_U08', '3SLPGC_G03', '3SLPGC_G04', '3SLTEC_G01',\n",
       "       '3SLTEC_G02', '6PAL1A_G01', '6PAL2A_U01', '7TAPAL_PB4',\n",
       "       '8PDPP3_G01', '10AGUS1_U01', '10AGUS2_U01', '10AGUS6_U02',\n",
       "       '10AGUS6_U03', '10AGUS6_U04', '11MNRGY_G01', '11MNRGY_G02',\n",
       "       '11PKBUK_G01', '11STEAG_U01', '11STEAG_U02', '14MTAPO_U02',\n",
       "       '1BAUANG_GS2', '1BAUANG_GS3', '2TMOBIL_G01', '2TMOBIL_G02',\n",
       "       '2TMOBIL_G03', '2TMOBIL_G04', '6CENPRI_U01', '6CENPRI_U02',\n",
       "       '6CENPRI_U03', '6CENPRI_U05', '8GLOBAL_G01', '12PKSFRA_G01',\n",
       "       '4LGPP_G01', '8PEDC_U03', '6PAL2A_U03', '3BACMAN_U01',\n",
       "       '3BACMAN_U02', '3BACMAN_U03', '3PAGBIL_G01', '3PAGBIL_G02',\n",
       "       '1MARVEL_G02', '5THVI_U01', '5THVI_U02', '3TIWI_A', '1MSINLO_G02',\n",
       "       '10AGUS2_U02', '10AGUS4_U01', '10AGUS4_U02', '10AGUS4_U03',\n",
       "       '10AGUS5_U02', '10AGUS6_U05', '10AGUS7_U01', '11PULA4_U02',\n",
       "       '3MKBN_A', '3TIWI_C', '10GNPK_U02', '13SMC_U01', '13SMC_U02',\n",
       "       '5TPC_G01', '11FDC_U01', '11FDC_U02', '1MSINLO_BAT',\n",
       "       '11KEGMAR_G01', '14SARANG_U02', '8PPC1_A', '9KEGJIM_G01',\n",
       "       '13DCPP_U01', '13DCPP_U02', '3ORMAT_G01', '1MSINLO_G03',\n",
       "       '10AGUS1_U02', '1AMBUK_U01', '1BINGA_U02', '1MAGAT_U04',\n",
       "       '1AMBUK_U03', '1BINGA_U04', '1MSINLO_G01', '11PULA4_U01',\n",
       "       '1SMC_G01', '3MKBN_B', '3MKBN_E', '5KSPC_G01', '9KEGPN_G01',\n",
       "       '3MKBN_D', '1BINGA_U03', '1MAGAT_U02', '3SLPGC_G02', '5CEDC_U02',\n",
       "       '5CEDC_U03', '1SUAL_G01', '3STA-RI_G05', '3STA-RI_G03',\n",
       "       '3STA-RI_G04', '5TPC_G02', '3STA-RI_G06', '6PAL2A_U02',\n",
       "       '3AVION_U01', '8PEDC_U01', '8PEDC_U02', '3STA-RI_G01',\n",
       "       '3STA-RI_G02', '3AVION_U02', '1LIMAY_U05', '1LIMAY_U01',\n",
       "       '3ILIJAN_G02', '1LIMAY_U02', '1LIMAY_U06', '1LIMAY_U03',\n",
       "       '3KAL_G01', '1BINGA_U01', '11FDC_U03', '1AMBUK_U02', '1MAGAT_U01',\n",
       "       '1MAGAT_U03', '1CASECN_G01', '1MASIWA_G01', '1PNTBNG_U01',\n",
       "       '3BOTOCA_G01', '3CALIRY_G01', '9WMPC_U09', '1BAUANG_GS1',\n",
       "       '6CENPRI_U04', '13MPCDIG_G01', '12KEGGIN_G01', '12KEGTAN_G01',\n",
       "       '10GNPK_U01', '1SUAL_G02', '5CEDC_U01', '5KSPC_G02', '3SLPGC_G01',\n",
       "       '1SROQUE_U02', '1SROQUE_U03', '14SARANG_U01', '3KAL_G02',\n",
       "       '3KAL_G03', '3KAL_G04', '10AGUS5_U01', '10AGUS6_U01',\n",
       "       '11PULA4_U03', '1LIMAY_U07', '8PDPP3_C', '1SROQUE_U01',\n",
       "       '3ILIJAN_G01', '13MAGDBNK_G01', '10GNPK_U03', '8PPC1_B',\n",
       "       '8PDPP3_H', '7BDPP_U03', '7BDPP_U04', '8PDPP1_U05', '3INGRID_GS1',\n",
       "       '3INGRID_GS2', '3INGRID_GS4', '4IASMOD_G03', '4IASMOD_G06',\n",
       "       '7TPLPB4_U03', '7TPLPB4_U04', '13SMCPC_U02', '1PNTBNG_U02',\n",
       "       '10GNPK_U04', '13SMCPC_U01', '8PDPP3_G', '4IASMOD_G02',\n",
       "       '7TPLPB4_U01', '3INGRID_GS3', '7TPLPB4_U02', '7BDPP_U01',\n",
       "       '4IASMOD_G04', '10AGUS2_U03', '4IASMOD_G01', '12PKSFRA_U02',\n",
       "       '1MARVEL_G01', '8PPC_G02', '8PDPP1_U02', '10AGUS7_U02', '8PDPP3_E',\n",
       "       '7BDPP_U02', '8PDPP1_U03', '3INGRID_GS5', '3INGRID_GS6',\n",
       "       '4IASMOD_G05', '12PKSFRA_U01', '3MKBN_C'], dtype=object)"
      ]
     },
     "execution_count": 10,
     "metadata": {},
     "output_type": "execute_result"
    }
   ],
   "source": [
    "past_df.RESOURCE_NAME.unique()"
   ]
  },
  {
   "cell_type": "code",
   "execution_count": null,
   "metadata": {
    "colab": {
     "base_uri": "https://localhost:8080/"
    },
    "id": "cYj1dl5d6Xkx",
    "outputId": "9b4e8b4c-888a-47a0-ebd7-a2fef6ea446c"
   },
   "outputs": [
    {
     "data": {
      "text/plain": [
       "1100954    9101.5\n",
       "Name: PRICE3, dtype: float64"
      ]
     },
     "execution_count": 25,
     "metadata": {},
     "output_type": "execute_result"
    }
   ],
   "source": [
    "past_df.query(\"RESOURCE_NAME == '3QPPL_G01' & PERIOD == 1 & DAY == 3 & MONTH == 8\")['PRICE3']\n"
   ]
  },
  {
   "cell_type": "code",
   "execution_count": null,
   "metadata": {
    "colab": {
     "base_uri": "https://localhost:8080/"
    },
    "id": "MePak1y87DoI",
    "outputId": "4cd4c46d-72ba-4a73-8ae3-9f154faa1f8f"
   },
   "outputs": [
    {
     "data": {
      "text/plain": [
       "379370    7179.5\n",
       "Name: PRICE3, dtype: float64"
      ]
     },
     "execution_count": 23,
     "metadata": {},
     "output_type": "execute_result"
    }
   ],
   "source": [
    "forecast_df.query(\"RESOURCE_NAME == '3QPPL_G01' & PERIOD == 3 & DAY == 3 & MONTH == 8\")['PRICE3']\n"
   ]
  },
  {
   "cell_type": "markdown",
   "metadata": {
    "id": "n0l27dzrBhZ8"
   },
   "source": [
    "## Google Drive Forecast Data Cleaning"
   ]
  },
  {
   "cell_type": "code",
   "execution_count": null,
   "metadata": {
    "id": "eZholHG5Bjb5"
   },
   "outputs": [],
   "source": [
    "# querying data from csv files in trading team drive\n",
    "\n",
    "forecast_luz_price.rename(columns = {'1':'PRICE1', '2':'PRICE2',\n",
    "                                     '3':'PRICE3', '4':'PRICE4',\n",
    "                                     '5':'PRICE5', '6':'PRICE6',\n",
    "                                     '7':'PRICE7', '8':'PRICE8',\n",
    "                                      '9':'PRICE9', '10':'PRICE10',\n",
    "                                    '11':'PRICE11'}, inplace = True)\n",
    "\n",
    "forecast_vis_price.rename(columns = {'1':'PRICE1', '2':'PRICE2',\n",
    "                                     '3':'PRICE3', '4':'PRICE4',\n",
    "                                     '5':'PRICE5', '6':'PRICE6',\n",
    "                                     '7':'PRICE7', '8':'PRICE8',\n",
    "                                      '9':'PRICE9', '10':'PRICE10',\n",
    "                                    '11':'PRICE11'}, inplace = True)\n",
    "\n",
    "forecast_luz_qty.rename(columns = {'1':'QUANTITY1', '2':'QUANTITY2',\n",
    "                                     '3':'QUANTITY3', '4':'QUANTITY4',\n",
    "                                     '5':'QUANTITY5', '6':'QUANTITY6',\n",
    "                                     '7':'QUANTITY7', '8':'QUANTITY8',\n",
    "                                      '9':'QUANTITY9', '10':'QUANTITY10',\n",
    "                                    '11':'QUANTITY11'}, inplace = True)\n",
    "\n",
    "forecast_vis_qty.rename(columns = {'1':'QUANTITY1', '2':'QUANTITY2',\n",
    "                                     '3':'QUANTITY3', '4':'QUANTITY4',\n",
    "                                     '5':'QUANTITY5', '6':'QUANTITY6',\n",
    "                                     '7':'QUANTITY7', '8':'QUANTITY8',\n",
    "                                      '9':'QUANTITY9', '10':'QUANTITY10',\n",
    "                                    '11':'QUANTITY11'}, inplace = True)\n",
    "\n",
    "forecast_luz_price.rename(columns = {'NAME' : 'RESOURCE_NAME'}, inplace = True)\n",
    "forecast_luz_qty.rename(columns = {'NAME' : 'RESOURCE_NAME'}, inplace = True)\n",
    "forecast_vis_price.rename(columns = {'NAME' : 'RESOURCE_NAME'}, inplace = True)\n",
    "forecast_vis_qty.rename(columns = {'NAME' : 'RESOURCE_NAME'}, inplace = True)\n",
    "\n",
    "forecast_luz = pd.concat([forecast_luz_price,forecast_luz_qty[['QUANTITY1', 'QUANTITY2',\n",
    "                                                                  'QUANTITY3', 'QUANTITY4',\n",
    "                                                                  'QUANTITY5', 'QUANTITY6',\n",
    "                                                                  'QUANTITY7', 'QUANTITY8',\n",
    "                                                                  'QUANTITY9', 'QUANTITY10',\n",
    "                                                                  'QUANTITY11']]], axis = \"columns\")\n",
    "\n",
    "forecast_vis = pd.concat([forecast_vis_price,forecast_vis_qty[['QUANTITY1', 'QUANTITY2',\n",
    "                                                                  'QUANTITY3', 'QUANTITY4',\n",
    "                                                                  'QUANTITY5', 'QUANTITY6',\n",
    "                                                                  'QUANTITY7', 'QUANTITY8',\n",
    "                                                                  'QUANTITY9', 'QUANTITY10',\n",
    "                                                                  'QUANTITY11']]], axis = \"columns\")\n",
    "\n",
    "column_names = [\"RESOURCE_NAME\", \"YEAR\", \"MONTH\", \"DAY\", \"PERIOD\",\n",
    "               \"PRICE1\", \"QUANTITY1\",\"PRICE2\", \"QUANTITY2\", \"PRICE3\", \"QUANTITY3\",\n",
    "               \"PRICE4\", \"QUANTITY4\",\"PRICE5\", \"QUANTITY5\", \"PRICE6\", \"QUANTITY6\",\n",
    "               \"PRICE7\", \"QUANTITY7\",\"PRICE8\", \"QUANTITY8\", \"PRICE9\", \"QUANTITY9\",\n",
    "               \"PRICE10\", \"QUANTITY10\",\"PRICE11\", \"QUANTITY11\"]\n",
    "\n",
    "forecast_luz = forecast_luz.reindex(columns=column_names)\n",
    "forecast_vis = forecast_vis.reindex(columns=column_names)\n",
    "\n",
    "forecast_data = pd.concat([forecast_luz,forecast_vis])\n",
    "\n",
    "\n",
    "# this takes the latest forecasting values\n",
    "\n",
    "forecast_data = forecast_data.drop_duplicates(subset = ['RESOURCE_NAME', 'YEAR', 'MONTH', 'DAY', 'PERIOD'], keep = 'last')\n",
    "forecast_data = forecast_data.fillna(0)\n"
   ]
  },
  {
   "cell_type": "markdown",
   "metadata": {
    "id": "N89uh3QOCBar"
   },
   "source": [
    "This ends the cleaning process for Google Drive forecast data. We shall rename the cleaned past data simply as 'forecast_df'"
   ]
  },
  {
   "cell_type": "code",
   "execution_count": null,
   "metadata": {
    "id": "g2Al0788CE1K"
   },
   "outputs": [],
   "source": [
    "forecast_df = forecast_data"
   ]
  },
  {
   "cell_type": "code",
   "execution_count": null,
   "metadata": {
    "colab": {
     "base_uri": "https://localhost:8080/",
     "height": 299
    },
    "id": "rjdB7TViCJZf",
    "outputId": "0beeddb6-e2f2-49d6-f011-1999ebb14683"
   },
   "outputs": [
    {
     "data": {
      "text/html": [
       "\n",
       "  <div id=\"df-88b39998-9135-4c84-9e3b-5bab0a078e73\">\n",
       "    <div class=\"colab-df-container\">\n",
       "      <div>\n",
       "<style scoped>\n",
       "    .dataframe tbody tr th:only-of-type {\n",
       "        vertical-align: middle;\n",
       "    }\n",
       "\n",
       "    .dataframe tbody tr th {\n",
       "        vertical-align: top;\n",
       "    }\n",
       "\n",
       "    .dataframe thead th {\n",
       "        text-align: right;\n",
       "    }\n",
       "</style>\n",
       "<table border=\"1\" class=\"dataframe\">\n",
       "  <thead>\n",
       "    <tr style=\"text-align: right;\">\n",
       "      <th></th>\n",
       "      <th>RESOURCE_NAME</th>\n",
       "      <th>YEAR</th>\n",
       "      <th>MONTH</th>\n",
       "      <th>DAY</th>\n",
       "      <th>PERIOD</th>\n",
       "      <th>PRICE1</th>\n",
       "      <th>QUANTITY1</th>\n",
       "      <th>PRICE2</th>\n",
       "      <th>QUANTITY2</th>\n",
       "      <th>PRICE3</th>\n",
       "      <th>...</th>\n",
       "      <th>PRICE7</th>\n",
       "      <th>QUANTITY7</th>\n",
       "      <th>PRICE8</th>\n",
       "      <th>QUANTITY8</th>\n",
       "      <th>PRICE9</th>\n",
       "      <th>QUANTITY9</th>\n",
       "      <th>PRICE10</th>\n",
       "      <th>QUANTITY10</th>\n",
       "      <th>PRICE11</th>\n",
       "      <th>QUANTITY11</th>\n",
       "    </tr>\n",
       "  </thead>\n",
       "  <tbody>\n",
       "    <tr>\n",
       "      <th>8568</th>\n",
       "      <td>1AMBUK_U01</td>\n",
       "      <td>2022</td>\n",
       "      <td>8</td>\n",
       "      <td>26</td>\n",
       "      <td>1</td>\n",
       "      <td>6479.0</td>\n",
       "      <td>0</td>\n",
       "      <td>6479.0</td>\n",
       "      <td>35.0</td>\n",
       "      <td>0.0</td>\n",
       "      <td>...</td>\n",
       "      <td>0.0</td>\n",
       "      <td>0</td>\n",
       "      <td>0.0</td>\n",
       "      <td>0</td>\n",
       "      <td>0.0</td>\n",
       "      <td>0</td>\n",
       "      <td>0.0</td>\n",
       "      <td>0</td>\n",
       "      <td>0</td>\n",
       "      <td>0</td>\n",
       "    </tr>\n",
       "    <tr>\n",
       "      <th>8569</th>\n",
       "      <td>1AMBUK_U01</td>\n",
       "      <td>2022</td>\n",
       "      <td>8</td>\n",
       "      <td>26</td>\n",
       "      <td>2</td>\n",
       "      <td>6479.0</td>\n",
       "      <td>0</td>\n",
       "      <td>6479.0</td>\n",
       "      <td>35.0</td>\n",
       "      <td>0.0</td>\n",
       "      <td>...</td>\n",
       "      <td>0.0</td>\n",
       "      <td>0</td>\n",
       "      <td>0.0</td>\n",
       "      <td>0</td>\n",
       "      <td>0.0</td>\n",
       "      <td>0</td>\n",
       "      <td>0.0</td>\n",
       "      <td>0</td>\n",
       "      <td>0</td>\n",
       "      <td>0</td>\n",
       "    </tr>\n",
       "    <tr>\n",
       "      <th>8570</th>\n",
       "      <td>1AMBUK_U01</td>\n",
       "      <td>2022</td>\n",
       "      <td>8</td>\n",
       "      <td>26</td>\n",
       "      <td>3</td>\n",
       "      <td>6479.0</td>\n",
       "      <td>0</td>\n",
       "      <td>6479.0</td>\n",
       "      <td>35.0</td>\n",
       "      <td>0.0</td>\n",
       "      <td>...</td>\n",
       "      <td>0.0</td>\n",
       "      <td>0</td>\n",
       "      <td>0.0</td>\n",
       "      <td>0</td>\n",
       "      <td>0.0</td>\n",
       "      <td>0</td>\n",
       "      <td>0.0</td>\n",
       "      <td>0</td>\n",
       "      <td>0</td>\n",
       "      <td>0</td>\n",
       "    </tr>\n",
       "    <tr>\n",
       "      <th>8571</th>\n",
       "      <td>1AMBUK_U01</td>\n",
       "      <td>2022</td>\n",
       "      <td>8</td>\n",
       "      <td>26</td>\n",
       "      <td>4</td>\n",
       "      <td>6479.0</td>\n",
       "      <td>0</td>\n",
       "      <td>6479.0</td>\n",
       "      <td>35.0</td>\n",
       "      <td>0.0</td>\n",
       "      <td>...</td>\n",
       "      <td>0.0</td>\n",
       "      <td>0</td>\n",
       "      <td>0.0</td>\n",
       "      <td>0</td>\n",
       "      <td>0.0</td>\n",
       "      <td>0</td>\n",
       "      <td>0.0</td>\n",
       "      <td>0</td>\n",
       "      <td>0</td>\n",
       "      <td>0</td>\n",
       "    </tr>\n",
       "    <tr>\n",
       "      <th>8572</th>\n",
       "      <td>1AMBUK_U01</td>\n",
       "      <td>2022</td>\n",
       "      <td>8</td>\n",
       "      <td>26</td>\n",
       "      <td>5</td>\n",
       "      <td>6479.0</td>\n",
       "      <td>0</td>\n",
       "      <td>6479.0</td>\n",
       "      <td>35.0</td>\n",
       "      <td>0.0</td>\n",
       "      <td>...</td>\n",
       "      <td>0.0</td>\n",
       "      <td>0</td>\n",
       "      <td>0.0</td>\n",
       "      <td>0</td>\n",
       "      <td>0.0</td>\n",
       "      <td>0</td>\n",
       "      <td>0.0</td>\n",
       "      <td>0</td>\n",
       "      <td>0</td>\n",
       "      <td>0</td>\n",
       "    </tr>\n",
       "  </tbody>\n",
       "</table>\n",
       "<p>5 rows × 27 columns</p>\n",
       "</div>\n",
       "      <button class=\"colab-df-convert\" onclick=\"convertToInteractive('df-88b39998-9135-4c84-9e3b-5bab0a078e73')\"\n",
       "              title=\"Convert this dataframe to an interactive table.\"\n",
       "              style=\"display:none;\">\n",
       "        \n",
       "  <svg xmlns=\"http://www.w3.org/2000/svg\" height=\"24px\"viewBox=\"0 0 24 24\"\n",
       "       width=\"24px\">\n",
       "    <path d=\"M0 0h24v24H0V0z\" fill=\"none\"/>\n",
       "    <path d=\"M18.56 5.44l.94 2.06.94-2.06 2.06-.94-2.06-.94-.94-2.06-.94 2.06-2.06.94zm-11 1L8.5 8.5l.94-2.06 2.06-.94-2.06-.94L8.5 2.5l-.94 2.06-2.06.94zm10 10l.94 2.06.94-2.06 2.06-.94-2.06-.94-.94-2.06-.94 2.06-2.06.94z\"/><path d=\"M17.41 7.96l-1.37-1.37c-.4-.4-.92-.59-1.43-.59-.52 0-1.04.2-1.43.59L10.3 9.45l-7.72 7.72c-.78.78-.78 2.05 0 2.83L4 21.41c.39.39.9.59 1.41.59.51 0 1.02-.2 1.41-.59l7.78-7.78 2.81-2.81c.8-.78.8-2.07 0-2.86zM5.41 20L4 18.59l7.72-7.72 1.47 1.35L5.41 20z\"/>\n",
       "  </svg>\n",
       "      </button>\n",
       "      \n",
       "  <style>\n",
       "    .colab-df-container {\n",
       "      display:flex;\n",
       "      flex-wrap:wrap;\n",
       "      gap: 12px;\n",
       "    }\n",
       "\n",
       "    .colab-df-convert {\n",
       "      background-color: #E8F0FE;\n",
       "      border: none;\n",
       "      border-radius: 50%;\n",
       "      cursor: pointer;\n",
       "      display: none;\n",
       "      fill: #1967D2;\n",
       "      height: 32px;\n",
       "      padding: 0 0 0 0;\n",
       "      width: 32px;\n",
       "    }\n",
       "\n",
       "    .colab-df-convert:hover {\n",
       "      background-color: #E2EBFA;\n",
       "      box-shadow: 0px 1px 2px rgba(60, 64, 67, 0.3), 0px 1px 3px 1px rgba(60, 64, 67, 0.15);\n",
       "      fill: #174EA6;\n",
       "    }\n",
       "\n",
       "    [theme=dark] .colab-df-convert {\n",
       "      background-color: #3B4455;\n",
       "      fill: #D2E3FC;\n",
       "    }\n",
       "\n",
       "    [theme=dark] .colab-df-convert:hover {\n",
       "      background-color: #434B5C;\n",
       "      box-shadow: 0px 1px 3px 1px rgba(0, 0, 0, 0.15);\n",
       "      filter: drop-shadow(0px 1px 2px rgba(0, 0, 0, 0.3));\n",
       "      fill: #FFFFFF;\n",
       "    }\n",
       "  </style>\n",
       "\n",
       "      <script>\n",
       "        const buttonEl =\n",
       "          document.querySelector('#df-88b39998-9135-4c84-9e3b-5bab0a078e73 button.colab-df-convert');\n",
       "        buttonEl.style.display =\n",
       "          google.colab.kernel.accessAllowed ? 'block' : 'none';\n",
       "\n",
       "        async function convertToInteractive(key) {\n",
       "          const element = document.querySelector('#df-88b39998-9135-4c84-9e3b-5bab0a078e73');\n",
       "          const dataTable =\n",
       "            await google.colab.kernel.invokeFunction('convertToInteractive',\n",
       "                                                     [key], {});\n",
       "          if (!dataTable) return;\n",
       "\n",
       "          const docLinkHtml = 'Like what you see? Visit the ' +\n",
       "            '<a target=\"_blank\" href=https://colab.research.google.com/notebooks/data_table.ipynb>data table notebook</a>'\n",
       "            + ' to learn more about interactive tables.';\n",
       "          element.innerHTML = '';\n",
       "          dataTable['output_type'] = 'display_data';\n",
       "          await google.colab.output.renderOutput(dataTable, element);\n",
       "          const docLink = document.createElement('div');\n",
       "          docLink.innerHTML = docLinkHtml;\n",
       "          element.appendChild(docLink);\n",
       "        }\n",
       "      </script>\n",
       "    </div>\n",
       "  </div>\n",
       "  "
      ],
      "text/plain": [
       "     RESOURCE_NAME  YEAR  MONTH  DAY  PERIOD  PRICE1  QUANTITY1  PRICE2  \\\n",
       "8568    1AMBUK_U01  2022      8   26       1  6479.0          0  6479.0   \n",
       "8569    1AMBUK_U01  2022      8   26       2  6479.0          0  6479.0   \n",
       "8570    1AMBUK_U01  2022      8   26       3  6479.0          0  6479.0   \n",
       "8571    1AMBUK_U01  2022      8   26       4  6479.0          0  6479.0   \n",
       "8572    1AMBUK_U01  2022      8   26       5  6479.0          0  6479.0   \n",
       "\n",
       "      QUANTITY2  PRICE3  ...  PRICE7  QUANTITY7  PRICE8  QUANTITY8  PRICE9  \\\n",
       "8568       35.0     0.0  ...     0.0          0     0.0          0     0.0   \n",
       "8569       35.0     0.0  ...     0.0          0     0.0          0     0.0   \n",
       "8570       35.0     0.0  ...     0.0          0     0.0          0     0.0   \n",
       "8571       35.0     0.0  ...     0.0          0     0.0          0     0.0   \n",
       "8572       35.0     0.0  ...     0.0          0     0.0          0     0.0   \n",
       "\n",
       "      QUANTITY9  PRICE10  QUANTITY10  PRICE11  QUANTITY11  \n",
       "8568          0      0.0           0        0           0  \n",
       "8569          0      0.0           0        0           0  \n",
       "8570          0      0.0           0        0           0  \n",
       "8571          0      0.0           0        0           0  \n",
       "8572          0      0.0           0        0           0  \n",
       "\n",
       "[5 rows x 27 columns]"
      ]
     },
     "execution_count": 21,
     "metadata": {},
     "output_type": "execute_result"
    }
   ],
   "source": [
    "forecast_df.head()"
   ]
  },
  {
   "cell_type": "code",
   "execution_count": null,
   "metadata": {
    "colab": {
     "base_uri": "https://localhost:8080/"
    },
    "id": "IknjrKCl5yHf",
    "outputId": "0828d108-33a1-4cb4-c13e-af0ddf446b80"
   },
   "outputs": [
    {
     "data": {
      "text/plain": [
       "158042   -9992.0\n",
       "Name: PRICE9, dtype: float64"
      ]
     },
     "execution_count": 22,
     "metadata": {},
     "output_type": "execute_result"
    }
   ],
   "source": [
    "forecast_df.query(\"RESOURCE_NAME == '1MSINLO_G03' & PERIOD == 3 & DAY == 17 & MONTH == 8\")['PRICE9']\n"
   ]
  },
  {
   "cell_type": "markdown",
   "metadata": {
    "id": "r7YboH2vCiwp"
   },
   "source": []
  },
  {
   "cell_type": "markdown",
   "metadata": {
    "id": "QEHiYf-bCW3s"
   },
   "source": [
    "# Merging (Merging Cleaning Past and Forecast Data)"
   ]
  },
  {
   "cell_type": "code",
   "execution_count": null,
   "metadata": {
    "colab": {
     "base_uri": "https://localhost:8080/"
    },
    "id": "-Spz3r0HCZ7v",
    "outputId": "da8e4505-620b-4262-c803-5490ab364ee2"
   },
   "outputs": [
    {
     "name": "stderr",
     "output_type": "stream",
     "text": [
      "/usr/local/lib/python3.7/dist-packages/pandas/util/_decorators.py:311: SettingWithCopyWarning: \n",
      "A value is trying to be set on a copy of a slice from a DataFrame\n",
      "\n",
      "See the caveats in the documentation: https://pandas.pydata.org/pandas-docs/stable/user_guide/indexing.html#returning-a-view-versus-a-copy\n",
      "  return func(*args, **kwargs)\n",
      "/usr/local/lib/python3.7/dist-packages/pandas/core/frame.py:5182: SettingWithCopyWarning: \n",
      "A value is trying to be set on a copy of a slice from a DataFrame\n",
      "\n",
      "See the caveats in the documentation: https://pandas.pydata.org/pandas-docs/stable/user_guide/indexing.html#returning-a-view-versus-a-copy\n",
      "  downcast=downcast,\n",
      "/usr/local/lib/python3.7/dist-packages/ipykernel_launcher.py:40: SettingWithCopyWarning: \n",
      "A value is trying to be set on a copy of a slice from a DataFrame.\n",
      "Try using .loc[row_indexer,col_indexer] = value instead\n",
      "\n",
      "See the caveats in the documentation: https://pandas.pydata.org/pandas-docs/stable/user_guide/indexing.html#returning-a-view-versus-a-copy\n"
     ]
    }
   ],
   "source": [
    "forecast_df['DATE'] = pd.to_datetime(forecast_df[['YEAR', 'MONTH', 'DAY']])\n",
    "past_df['DATE'] = pd.to_datetime(past_df[['YEAR', 'MONTH', 'DAY']])\n",
    "\n",
    "# We only have to consider a specific list of MBO generators so we have to drop some from forecast and/or data. Here are them:\n",
    "\n",
    "mbo_generators  = pd.read_csv('drive/MyDrive/pfim_mbo/version_2.0/raw_data/mbo_generators.csv')\n",
    "mbo_generators_list = mbo_generators.Luzon.dropna().to_list() + mbo_generators.Visayas.dropna().to_list()\n",
    "\n",
    "past_df = past_df.query(\"RESOURCE_NAME == @mbo_generators_list\")\n",
    "forecast_df = forecast_df.query(\"RESOURCE_NAME == @mbo_generators_list\")\n",
    "\n",
    "\n",
    "past_df.sort_values(['RESOURCE_NAME', 'YEAR', 'MONTH', 'DAY', 'PERIOD'], \n",
    "                                    inplace = True)\n",
    "\n",
    "past_df.fillna(0, inplace = True)\n",
    "\n",
    "forecast_df.sort_values(['RESOURCE_NAME', 'YEAR', 'MONTH', 'DAY', 'PERIOD'], \n",
    "                                    inplace = True)\n",
    "\n",
    "forecast_df.fillna(0, inplace = True)\n",
    "\n",
    "\n",
    "\n",
    "\n",
    "merged_df = pd.merge(past_df, forecast_df,  how='left', \n",
    "                     left_on=['RESOURCE_NAME','YEAR', 'MONTH', 'DAY', 'PERIOD'], \n",
    "        right_on=['RESOURCE_NAME','YEAR', 'MONTH', 'DAY', 'PERIOD'], \n",
    "                     suffixes = ['_PAST', '_FORECAST'])\n",
    "\n",
    "merged_df = merged_df.dropna(axis=0)\n",
    "\n",
    "\n",
    "\n",
    "\n",
    "\n",
    "\n",
    "merged_df['MAX_PRICE_PAST'] = (merged_df[['PRICE1_PAST','PRICE2_PAST','PRICE3_PAST','PRICE4_PAST',\n",
    "                                             'PRICE5_PAST','PRICE6_PAST','PRICE7_PAST','PRICE8_PAST',\n",
    "                                             'PRICE9_PAST','PRICE10_PAST','PRICE11_PAST']].max(axis=1))\n",
    "\n",
    "merged_df['MAX_PRICE_FORECAST'] =  merged_df[['PRICE1_FORECAST','PRICE2_FORECAST','PRICE3_FORECAST','PRICE4_FORECAST',\n",
    "                                             'PRICE5_FORECAST','PRICE6_FORECAST','PRICE7_FORECAST','PRICE8_FORECAST',\n",
    "                                             'PRICE9_FORECAST','PRICE10_FORECAST','PRICE11_FORECAST']].max(axis=1)\n",
    "\n",
    "\n",
    "merged_df['MAX_QUANTITY_PAST'] = (merged_df[['QUANTITY1_PAST','QUANTITY2_PAST','QUANTITY3_PAST','QUANTITY4_PAST',\n",
    "                                             'QUANTITY5_PAST','QUANTITY6_PAST','QUANTITY7_PAST','QUANTITY8_PAST',\n",
    "                                             'QUANTITY9_PAST','QUANTITY10_PAST','QUANTITY11_PAST']].max(axis=1))\n",
    "\n",
    "\n",
    "merged_df['TOTAL_QUANTITY_FORECAST'] =   (merged_df['QUANTITY1_FORECAST'] + merged_df['QUANTITY2_FORECAST'] + merged_df['QUANTITY3_FORECAST']\n",
    "                                                                                          + merged_df['QUANTITY4_FORECAST'] + merged_df['QUANTITY5_FORECAST'] + merged_df['QUANTITY6_FORECAST']\n",
    "                                                                                          + merged_df['QUANTITY7_FORECAST'] + merged_df['QUANTITY8_FORECAST'] + merged_df['QUANTITY9_FORECAST']\n",
    "                                                                                          + merged_df['QUANTITY10_FORECAST'] + merged_df['QUANTITY11_FORECAST'])\n",
    "\n",
    "\n",
    "\n",
    "\n",
    "merged_df['QUANTITY_ERROR'] = abs((merged_df[['QUANTITY1_PAST','QUANTITY2_PAST','QUANTITY3_PAST','QUANTITY4_PAST',\n",
    "                                             'QUANTITY5_PAST','QUANTITY6_PAST','QUANTITY7_PAST','QUANTITY8_PAST',\n",
    "                                             'QUANTITY9_PAST','QUANTITY10_PAST','QUANTITY11_PAST']].max(axis=1)) - (merged_df['QUANTITY1_FORECAST'] + merged_df['QUANTITY2_FORECAST'] + merged_df['QUANTITY3_FORECAST']\n",
    "                                                                                          + merged_df['QUANTITY4_FORECAST'] + merged_df['QUANTITY5_FORECAST'] + merged_df['QUANTITY6_FORECAST']\n",
    "                                                                                          + merged_df['QUANTITY7_FORECAST'] + merged_df['QUANTITY8_FORECAST'] + merged_df['QUANTITY9_FORECAST']\n",
    "                                                                                          + merged_df['QUANTITY10_FORECAST'] + merged_df['QUANTITY11_FORECAST']))\n",
    "\n",
    "\n",
    "merged_df['QUANTITY_ERROR'] = abs(merged_df['TOTAL_QUANTITY_FORECAST'] - merged_df['MAX_QUANTITY_PAST'])\n",
    "\n",
    "\n",
    "\n",
    "merged_df['PRICE_ERROR'] = abs(merged_df['MAX_PRICE_FORECAST'] - merged_df['MAX_PRICE_PAST'])\n",
    "\n",
    "merged_df.drop(columns=['DATE_PAST'], inplace=True)\n",
    "\n",
    "\n",
    "merged_df.rename(columns = {'DATE_FORECAST' : 'DATETIME'}, inplace = True)\n",
    "\n",
    "merged_df['DATETIME'] = merged_df['DATETIME'] + pd.to_timedelta(merged_df.PERIOD, unit='h')\n"
   ]
  },
  {
   "cell_type": "code",
   "execution_count": null,
   "metadata": {
    "id": "Vyxpcu8hgRBo"
   },
   "outputs": [],
   "source": [
    "# Based on latest correction:\n",
    "\n",
    "def standardize_resource_name(x):\n",
    "  return \"0\" + str(x)[0:]\n",
    " \n",
    "    \n",
    "merged_df['RESOURCE_NAME'] = merged_df['RESOURCE_NAME'].apply(standardize_resource_name)"
   ]
  },
  {
   "cell_type": "code",
   "execution_count": null,
   "metadata": {
    "colab": {
     "base_uri": "https://localhost:8080/"
    },
    "id": "My7Hku6ZdFBx",
    "outputId": "87ee30dc-eaea-4e01-8e4c-458e128af65a"
   },
   "outputs": [
    {
     "data": {
      "text/plain": [
       "array(['1AMBUK_U01', '1AMBUK_U02', '1AMBUK_U03', '1ANDA_G01', '1ANGAT_A',\n",
       "       '1ANGAT_M', '1APEC_G01', '1BAUANG_GS1', '1BAUANG_GS2',\n",
       "       '1BAUANG_GS3', '1BINGA_U01', '1BINGA_U02', '1BINGA_U03',\n",
       "       '1BINGA_U04', '1CASECN_G01', '1CIP2_G01', '1GNPD_U01',\n",
       "       '1LIMAY_U01', '1LIMAY_U02', '1LIMAY_U03', '1LIMAY_U04',\n",
       "       '1LIMAY_U05', '1LIMAY_U06', '1LIMAY_U07', '1LIMAY_U08',\n",
       "       '1MAGAT_U01', '1MAGAT_U02', '1MAGAT_U03', '1MAGAT_U04',\n",
       "       '1MARVEL_G01', '1MARVEL_G02', '1MASIWA_G01', '1MSINLO_BAT',\n",
       "       '1MSINLO_G01', '1MSINLO_G02', '1MSINLO_G03', '1PETRON_G01',\n",
       "       '1PNTBNG_U01', '1PNTBNG_U02', '1SMC_G01', '1SMC_G02', '1SMC_G03',\n",
       "       '1SMC_G04', '1SROQUE_U02', '1SROQUE_U03', '1SUAL_G01', '1SUAL_G02',\n",
       "       '1S_ENRO_G01', '1T_ASIA_G01', '2TMOBIL_G01', '2TMOBIL_G02',\n",
       "       '2TMOBIL_G03', '2TMOBIL_G04', '3AVION_U01', '3AVION_U02',\n",
       "       '3BACMAN_U01', '3BACMAN_U02', '3BACMAN_U03', '3BOTOCA_G01',\n",
       "       '3CALACA_G01', '3CALIRY_G01', '3ILIJAN_G01', '3ILIJAN_G02',\n",
       "       '3INGRID_GS1', '3INGRID_GS2', '3INGRID_GS3', '3INGRID_GS4',\n",
       "       '3INGRID_GS5', '3INGRID_GS6', '3KAL_G01', '3KAL_G02', '3KAL_G03',\n",
       "       '3KAL_G04', '3MGI_G02', '3MGPP_G01', '3MKBN_A', '3MKBN_B',\n",
       "       '3MKBN_D', '3MKBN_E', '3ORMAT_G01', '3PAGBIL_G01', '3PAGBIL_G02',\n",
       "       '3PAGBIL_G03', '3QPPL_G01', '3RCBMI_G01', '3RCBMI_G02',\n",
       "       '3SBPL_G01', '3SLPGC_G01', '3SLPGC_G02', '3SLTEC_G01',\n",
       "       '3SLTEC_G02', '3SNGAB_G01', '3STA-RI_G01', '3STA-RI_G02',\n",
       "       '3STA-RI_G03', '3STA-RI_G04', '3STA-RI_G05', '3STA-RI_G06',\n",
       "       '3TIWI_A', '3TIWI_C', '4IASMOD_G01', '4IASMOD_G02', '4IASMOD_G03',\n",
       "       '4IASMOD_G04', '4IASMOD_G05', '4IASMOD_G06', '4LEYTE_A',\n",
       "       '4LGPP_G01', '5CEDC_U01', '5CEDC_U02', '5CEDC_U03', '5CPPC_G01',\n",
       "       '5EAUC_G01', '5KSPC_G01', '5KSPC_G02', '5THVI_U01', '5THVI_U02',\n",
       "       '5TPC_G01', '5TPC_G02', '5TPVI_U01', '5TPVI_U02', '5TPVI_U03',\n",
       "       '5TPVI_U04', '5TPVI_U05', '5TPVI_U06', '6CENPRI_U01',\n",
       "       '6CENPRI_U02', '6CENPRI_U03', '6CENPRI_U04', '6CENPRI_U05',\n",
       "       '6NASULO_G01', '6PAL1A_G01', '6PAL2A_U01', '6PAL2A_U02',\n",
       "       '6PAL2A_U03', '8GLOBAL_G01', '8PALM_G01', '8PEDC_U01', '8PEDC_U02',\n",
       "       '8PEDC_U03', '8PPC1_A', '8PPC1_B', '8PPC_G02', '8STBAR_PB'],\n",
       "      dtype=object)"
      ]
     },
     "execution_count": 27,
     "metadata": {},
     "output_type": "execute_result"
    }
   ],
   "source": [
    "merged_df.RESOURCE_NAME.unique()"
   ]
  },
  {
   "cell_type": "code",
   "execution_count": null,
   "metadata": {
    "colab": {
     "base_uri": "https://localhost:8080/"
    },
    "id": "b7UZh_J4JYIu",
    "outputId": "79e82d02-c818-4638-e81e-adfd8ead12e0"
   },
   "outputs": [
    {
     "data": {
      "text/plain": [
       "Index(['REGION_NAME', 'ZONE_ID', 'RESOURCE_NAME', 'YEAR', 'MONTH', 'DAY',\n",
       "       'PERIOD', 'PRICE1_PAST', 'QUANTITY1_PAST', 'PRICE2_PAST',\n",
       "       'QUANTITY2_PAST', 'PRICE3_PAST', 'QUANTITY3_PAST', 'PRICE4_PAST',\n",
       "       'QUANTITY4_PAST', 'PRICE5_PAST', 'QUANTITY5_PAST', 'PRICE6_PAST',\n",
       "       'QUANTITY6_PAST', 'PRICE7_PAST', 'QUANTITY7_PAST', 'PRICE8_PAST',\n",
       "       'QUANTITY8_PAST', 'PRICE9_PAST', 'QUANTITY9_PAST', 'PRICE10_PAST',\n",
       "       'QUANTITY10_PAST', 'PRICE11_PAST', 'QUANTITY11_PAST', 'PRICE1_FORECAST',\n",
       "       'QUANTITY1_FORECAST', 'PRICE2_FORECAST', 'QUANTITY2_FORECAST',\n",
       "       'PRICE3_FORECAST', 'QUANTITY3_FORECAST', 'PRICE4_FORECAST',\n",
       "       'QUANTITY4_FORECAST', 'PRICE5_FORECAST', 'QUANTITY5_FORECAST',\n",
       "       'PRICE6_FORECAST', 'QUANTITY6_FORECAST', 'PRICE7_FORECAST',\n",
       "       'QUANTITY7_FORECAST', 'PRICE8_FORECAST', 'QUANTITY8_FORECAST',\n",
       "       'PRICE9_FORECAST', 'QUANTITY9_FORECAST', 'PRICE10_FORECAST',\n",
       "       'QUANTITY10_FORECAST', 'PRICE11_FORECAST', 'QUANTITY11_FORECAST',\n",
       "       'DATETIME', 'MAX_PRICE_PAST', 'MAX_PRICE_FORECAST', 'MAX_QUANTITY_PAST',\n",
       "       'TOTAL_QUANTITY_FORECAST', 'QUANTITY_ERROR', 'PRICE_ERROR'],\n",
       "      dtype='object')"
      ]
     },
     "execution_count": 28,
     "metadata": {},
     "output_type": "execute_result"
    }
   ],
   "source": [
    "merged_df.columns"
   ]
  },
  {
   "cell_type": "code",
   "execution_count": null,
   "metadata": {
    "colab": {
     "base_uri": "https://localhost:8080/",
     "height": 473
    },
    "id": "Tfgw-OQtIuxs",
    "outputId": "399d953e-4cdf-4045-c856-b3226e5051c4"
   },
   "outputs": [
    {
     "data": {
      "text/html": [
       "\n",
       "  <div id=\"df-8972f067-1529-4729-877d-7cabe5f900c0\">\n",
       "    <div class=\"colab-df-container\">\n",
       "      <div>\n",
       "<style scoped>\n",
       "    .dataframe tbody tr th:only-of-type {\n",
       "        vertical-align: middle;\n",
       "    }\n",
       "\n",
       "    .dataframe tbody tr th {\n",
       "        vertical-align: top;\n",
       "    }\n",
       "\n",
       "    .dataframe thead th {\n",
       "        text-align: right;\n",
       "    }\n",
       "</style>\n",
       "<table border=\"1\" class=\"dataframe\">\n",
       "  <thead>\n",
       "    <tr style=\"text-align: right;\">\n",
       "      <th></th>\n",
       "      <th>REGION_NAME</th>\n",
       "      <th>ZONE_ID</th>\n",
       "      <th>RESOURCE_NAME</th>\n",
       "      <th>YEAR</th>\n",
       "      <th>MONTH</th>\n",
       "      <th>DAY</th>\n",
       "      <th>PERIOD</th>\n",
       "      <th>PRICE1_PAST</th>\n",
       "      <th>QUANTITY1_PAST</th>\n",
       "      <th>PRICE2_PAST</th>\n",
       "      <th>...</th>\n",
       "      <th>QUANTITY10_FORECAST</th>\n",
       "      <th>PRICE11_FORECAST</th>\n",
       "      <th>QUANTITY11_FORECAST</th>\n",
       "      <th>DATETIME</th>\n",
       "      <th>MAX_PRICE_PAST</th>\n",
       "      <th>MAX_PRICE_FORECAST</th>\n",
       "      <th>MAX_QUANTITY_PAST</th>\n",
       "      <th>TOTAL_QUANTITY_FORECAST</th>\n",
       "      <th>QUANTITY_ERROR</th>\n",
       "      <th>PRICE_ERROR</th>\n",
       "    </tr>\n",
       "  </thead>\n",
       "  <tbody>\n",
       "    <tr>\n",
       "      <th>7330</th>\n",
       "      <td>CLUZ</td>\n",
       "      <td>NLUZON</td>\n",
       "      <td>1AMBUK_U01</td>\n",
       "      <td>2022</td>\n",
       "      <td>7</td>\n",
       "      <td>1</td>\n",
       "      <td>2</td>\n",
       "      <td>0.0</td>\n",
       "      <td>0.0</td>\n",
       "      <td>7950.11</td>\n",
       "      <td>...</td>\n",
       "      <td>0.0</td>\n",
       "      <td>0.0</td>\n",
       "      <td>0.0</td>\n",
       "      <td>2022-07-01 02:00:00</td>\n",
       "      <td>7950.11</td>\n",
       "      <td>8900.0</td>\n",
       "      <td>35.0</td>\n",
       "      <td>35.0</td>\n",
       "      <td>0.0</td>\n",
       "      <td>949.89</td>\n",
       "    </tr>\n",
       "    <tr>\n",
       "      <th>7331</th>\n",
       "      <td>CLUZ</td>\n",
       "      <td>NLUZON</td>\n",
       "      <td>1AMBUK_U01</td>\n",
       "      <td>2022</td>\n",
       "      <td>7</td>\n",
       "      <td>1</td>\n",
       "      <td>3</td>\n",
       "      <td>0.0</td>\n",
       "      <td>0.0</td>\n",
       "      <td>7950.11</td>\n",
       "      <td>...</td>\n",
       "      <td>0.0</td>\n",
       "      <td>0.0</td>\n",
       "      <td>0.0</td>\n",
       "      <td>2022-07-01 03:00:00</td>\n",
       "      <td>7950.11</td>\n",
       "      <td>8900.0</td>\n",
       "      <td>35.0</td>\n",
       "      <td>35.0</td>\n",
       "      <td>0.0</td>\n",
       "      <td>949.89</td>\n",
       "    </tr>\n",
       "    <tr>\n",
       "      <th>7332</th>\n",
       "      <td>CLUZ</td>\n",
       "      <td>NLUZON</td>\n",
       "      <td>1AMBUK_U01</td>\n",
       "      <td>2022</td>\n",
       "      <td>7</td>\n",
       "      <td>1</td>\n",
       "      <td>4</td>\n",
       "      <td>0.0</td>\n",
       "      <td>0.0</td>\n",
       "      <td>7950.11</td>\n",
       "      <td>...</td>\n",
       "      <td>0.0</td>\n",
       "      <td>0.0</td>\n",
       "      <td>0.0</td>\n",
       "      <td>2022-07-01 04:00:00</td>\n",
       "      <td>7950.11</td>\n",
       "      <td>8900.0</td>\n",
       "      <td>35.0</td>\n",
       "      <td>35.0</td>\n",
       "      <td>0.0</td>\n",
       "      <td>949.89</td>\n",
       "    </tr>\n",
       "    <tr>\n",
       "      <th>7333</th>\n",
       "      <td>CLUZ</td>\n",
       "      <td>NLUZON</td>\n",
       "      <td>1AMBUK_U01</td>\n",
       "      <td>2022</td>\n",
       "      <td>7</td>\n",
       "      <td>1</td>\n",
       "      <td>5</td>\n",
       "      <td>0.0</td>\n",
       "      <td>0.0</td>\n",
       "      <td>7950.11</td>\n",
       "      <td>...</td>\n",
       "      <td>0.0</td>\n",
       "      <td>0.0</td>\n",
       "      <td>0.0</td>\n",
       "      <td>2022-07-01 05:00:00</td>\n",
       "      <td>7950.11</td>\n",
       "      <td>8900.0</td>\n",
       "      <td>35.0</td>\n",
       "      <td>35.0</td>\n",
       "      <td>0.0</td>\n",
       "      <td>949.89</td>\n",
       "    </tr>\n",
       "    <tr>\n",
       "      <th>7334</th>\n",
       "      <td>CLUZ</td>\n",
       "      <td>NLUZON</td>\n",
       "      <td>1AMBUK_U01</td>\n",
       "      <td>2022</td>\n",
       "      <td>7</td>\n",
       "      <td>1</td>\n",
       "      <td>6</td>\n",
       "      <td>0.0</td>\n",
       "      <td>0.0</td>\n",
       "      <td>7950.11</td>\n",
       "      <td>...</td>\n",
       "      <td>0.0</td>\n",
       "      <td>0.0</td>\n",
       "      <td>0.0</td>\n",
       "      <td>2022-07-01 06:00:00</td>\n",
       "      <td>7950.11</td>\n",
       "      <td>8900.0</td>\n",
       "      <td>35.0</td>\n",
       "      <td>35.0</td>\n",
       "      <td>0.0</td>\n",
       "      <td>949.89</td>\n",
       "    </tr>\n",
       "  </tbody>\n",
       "</table>\n",
       "<p>5 rows × 58 columns</p>\n",
       "</div>\n",
       "      <button class=\"colab-df-convert\" onclick=\"convertToInteractive('df-8972f067-1529-4729-877d-7cabe5f900c0')\"\n",
       "              title=\"Convert this dataframe to an interactive table.\"\n",
       "              style=\"display:none;\">\n",
       "        \n",
       "  <svg xmlns=\"http://www.w3.org/2000/svg\" height=\"24px\"viewBox=\"0 0 24 24\"\n",
       "       width=\"24px\">\n",
       "    <path d=\"M0 0h24v24H0V0z\" fill=\"none\"/>\n",
       "    <path d=\"M18.56 5.44l.94 2.06.94-2.06 2.06-.94-2.06-.94-.94-2.06-.94 2.06-2.06.94zm-11 1L8.5 8.5l.94-2.06 2.06-.94-2.06-.94L8.5 2.5l-.94 2.06-2.06.94zm10 10l.94 2.06.94-2.06 2.06-.94-2.06-.94-.94-2.06-.94 2.06-2.06.94z\"/><path d=\"M17.41 7.96l-1.37-1.37c-.4-.4-.92-.59-1.43-.59-.52 0-1.04.2-1.43.59L10.3 9.45l-7.72 7.72c-.78.78-.78 2.05 0 2.83L4 21.41c.39.39.9.59 1.41.59.51 0 1.02-.2 1.41-.59l7.78-7.78 2.81-2.81c.8-.78.8-2.07 0-2.86zM5.41 20L4 18.59l7.72-7.72 1.47 1.35L5.41 20z\"/>\n",
       "  </svg>\n",
       "      </button>\n",
       "      \n",
       "  <style>\n",
       "    .colab-df-container {\n",
       "      display:flex;\n",
       "      flex-wrap:wrap;\n",
       "      gap: 12px;\n",
       "    }\n",
       "\n",
       "    .colab-df-convert {\n",
       "      background-color: #E8F0FE;\n",
       "      border: none;\n",
       "      border-radius: 50%;\n",
       "      cursor: pointer;\n",
       "      display: none;\n",
       "      fill: #1967D2;\n",
       "      height: 32px;\n",
       "      padding: 0 0 0 0;\n",
       "      width: 32px;\n",
       "    }\n",
       "\n",
       "    .colab-df-convert:hover {\n",
       "      background-color: #E2EBFA;\n",
       "      box-shadow: 0px 1px 2px rgba(60, 64, 67, 0.3), 0px 1px 3px 1px rgba(60, 64, 67, 0.15);\n",
       "      fill: #174EA6;\n",
       "    }\n",
       "\n",
       "    [theme=dark] .colab-df-convert {\n",
       "      background-color: #3B4455;\n",
       "      fill: #D2E3FC;\n",
       "    }\n",
       "\n",
       "    [theme=dark] .colab-df-convert:hover {\n",
       "      background-color: #434B5C;\n",
       "      box-shadow: 0px 1px 3px 1px rgba(0, 0, 0, 0.15);\n",
       "      filter: drop-shadow(0px 1px 2px rgba(0, 0, 0, 0.3));\n",
       "      fill: #FFFFFF;\n",
       "    }\n",
       "  </style>\n",
       "\n",
       "      <script>\n",
       "        const buttonEl =\n",
       "          document.querySelector('#df-8972f067-1529-4729-877d-7cabe5f900c0 button.colab-df-convert');\n",
       "        buttonEl.style.display =\n",
       "          google.colab.kernel.accessAllowed ? 'block' : 'none';\n",
       "\n",
       "        async function convertToInteractive(key) {\n",
       "          const element = document.querySelector('#df-8972f067-1529-4729-877d-7cabe5f900c0');\n",
       "          const dataTable =\n",
       "            await google.colab.kernel.invokeFunction('convertToInteractive',\n",
       "                                                     [key], {});\n",
       "          if (!dataTable) return;\n",
       "\n",
       "          const docLinkHtml = 'Like what you see? Visit the ' +\n",
       "            '<a target=\"_blank\" href=https://colab.research.google.com/notebooks/data_table.ipynb>data table notebook</a>'\n",
       "            + ' to learn more about interactive tables.';\n",
       "          element.innerHTML = '';\n",
       "          dataTable['output_type'] = 'display_data';\n",
       "          await google.colab.output.renderOutput(dataTable, element);\n",
       "          const docLink = document.createElement('div');\n",
       "          docLink.innerHTML = docLinkHtml;\n",
       "          element.appendChild(docLink);\n",
       "        }\n",
       "      </script>\n",
       "    </div>\n",
       "  </div>\n",
       "  "
      ],
      "text/plain": [
       "     REGION_NAME ZONE_ID RESOURCE_NAME  YEAR  MONTH  DAY  PERIOD  PRICE1_PAST  \\\n",
       "7330        CLUZ  NLUZON    1AMBUK_U01  2022      7    1       2          0.0   \n",
       "7331        CLUZ  NLUZON    1AMBUK_U01  2022      7    1       3          0.0   \n",
       "7332        CLUZ  NLUZON    1AMBUK_U01  2022      7    1       4          0.0   \n",
       "7333        CLUZ  NLUZON    1AMBUK_U01  2022      7    1       5          0.0   \n",
       "7334        CLUZ  NLUZON    1AMBUK_U01  2022      7    1       6          0.0   \n",
       "\n",
       "      QUANTITY1_PAST  PRICE2_PAST  ...  QUANTITY10_FORECAST  PRICE11_FORECAST  \\\n",
       "7330             0.0      7950.11  ...                  0.0               0.0   \n",
       "7331             0.0      7950.11  ...                  0.0               0.0   \n",
       "7332             0.0      7950.11  ...                  0.0               0.0   \n",
       "7333             0.0      7950.11  ...                  0.0               0.0   \n",
       "7334             0.0      7950.11  ...                  0.0               0.0   \n",
       "\n",
       "      QUANTITY11_FORECAST            DATETIME  MAX_PRICE_PAST  \\\n",
       "7330                  0.0 2022-07-01 02:00:00         7950.11   \n",
       "7331                  0.0 2022-07-01 03:00:00         7950.11   \n",
       "7332                  0.0 2022-07-01 04:00:00         7950.11   \n",
       "7333                  0.0 2022-07-01 05:00:00         7950.11   \n",
       "7334                  0.0 2022-07-01 06:00:00         7950.11   \n",
       "\n",
       "      MAX_PRICE_FORECAST  MAX_QUANTITY_PAST  TOTAL_QUANTITY_FORECAST  \\\n",
       "7330              8900.0               35.0                     35.0   \n",
       "7331              8900.0               35.0                     35.0   \n",
       "7332              8900.0               35.0                     35.0   \n",
       "7333              8900.0               35.0                     35.0   \n",
       "7334              8900.0               35.0                     35.0   \n",
       "\n",
       "      QUANTITY_ERROR  PRICE_ERROR  \n",
       "7330             0.0       949.89  \n",
       "7331             0.0       949.89  \n",
       "7332             0.0       949.89  \n",
       "7333             0.0       949.89  \n",
       "7334             0.0       949.89  \n",
       "\n",
       "[5 rows x 58 columns]"
      ]
     },
     "execution_count": 29,
     "metadata": {},
     "output_type": "execute_result"
    }
   ],
   "source": [
    "merged_df.head()"
   ]
  },
  {
   "cell_type": "code",
   "execution_count": null,
   "metadata": {
    "colab": {
     "base_uri": "https://localhost:8080/",
     "height": 393
    },
    "id": "Y3nLuhq4JCM7",
    "outputId": "d114188e-ee9f-4513-fd50-f9eb112f1a06"
   },
   "outputs": [
    {
     "data": {
      "text/html": [
       "\n",
       "  <div id=\"df-2ee6240f-39da-4c79-b377-5db788d879fe\">\n",
       "    <div class=\"colab-df-container\">\n",
       "      <div>\n",
       "<style scoped>\n",
       "    .dataframe tbody tr th:only-of-type {\n",
       "        vertical-align: middle;\n",
       "    }\n",
       "\n",
       "    .dataframe tbody tr th {\n",
       "        vertical-align: top;\n",
       "    }\n",
       "\n",
       "    .dataframe thead th {\n",
       "        text-align: right;\n",
       "    }\n",
       "</style>\n",
       "<table border=\"1\" class=\"dataframe\">\n",
       "  <thead>\n",
       "    <tr style=\"text-align: right;\">\n",
       "      <th></th>\n",
       "      <th>YEAR</th>\n",
       "      <th>MONTH</th>\n",
       "      <th>DAY</th>\n",
       "      <th>PERIOD</th>\n",
       "      <th>PRICE1_PAST</th>\n",
       "      <th>QUANTITY1_PAST</th>\n",
       "      <th>PRICE2_PAST</th>\n",
       "      <th>QUANTITY2_PAST</th>\n",
       "      <th>PRICE3_PAST</th>\n",
       "      <th>QUANTITY3_PAST</th>\n",
       "      <th>...</th>\n",
       "      <th>PRICE10_FORECAST</th>\n",
       "      <th>QUANTITY10_FORECAST</th>\n",
       "      <th>PRICE11_FORECAST</th>\n",
       "      <th>QUANTITY11_FORECAST</th>\n",
       "      <th>MAX_PRICE_PAST</th>\n",
       "      <th>MAX_PRICE_FORECAST</th>\n",
       "      <th>MAX_QUANTITY_PAST</th>\n",
       "      <th>TOTAL_QUANTITY_FORECAST</th>\n",
       "      <th>QUANTITY_ERROR</th>\n",
       "      <th>PRICE_ERROR</th>\n",
       "    </tr>\n",
       "  </thead>\n",
       "  <tbody>\n",
       "    <tr>\n",
       "      <th>count</th>\n",
       "      <td>147485.0</td>\n",
       "      <td>147485.000000</td>\n",
       "      <td>147485.000000</td>\n",
       "      <td>147485.000000</td>\n",
       "      <td>147485.000000</td>\n",
       "      <td>147485.000000</td>\n",
       "      <td>147485.000000</td>\n",
       "      <td>147485.000000</td>\n",
       "      <td>147485.000000</td>\n",
       "      <td>147485.000000</td>\n",
       "      <td>...</td>\n",
       "      <td>147485.000000</td>\n",
       "      <td>147485.000000</td>\n",
       "      <td>147485.0</td>\n",
       "      <td>147485.0</td>\n",
       "      <td>147485.000000</td>\n",
       "      <td>147485.000000</td>\n",
       "      <td>147485.000000</td>\n",
       "      <td>147485.000000</td>\n",
       "      <td>147485.000000</td>\n",
       "      <td>147485.000000</td>\n",
       "    </tr>\n",
       "    <tr>\n",
       "      <th>mean</th>\n",
       "      <td>2022.0</td>\n",
       "      <td>7.532264</td>\n",
       "      <td>16.030729</td>\n",
       "      <td>12.516954</td>\n",
       "      <td>125.072698</td>\n",
       "      <td>-0.078449</td>\n",
       "      <td>6586.321508</td>\n",
       "      <td>67.329859</td>\n",
       "      <td>2489.539662</td>\n",
       "      <td>62.484716</td>\n",
       "      <td>...</td>\n",
       "      <td>46.803017</td>\n",
       "      <td>0.173557</td>\n",
       "      <td>0.0</td>\n",
       "      <td>0.0</td>\n",
       "      <td>14435.533621</td>\n",
       "      <td>10923.647456</td>\n",
       "      <td>107.884782</td>\n",
       "      <td>107.207940</td>\n",
       "      <td>7.651927</td>\n",
       "      <td>5360.183631</td>\n",
       "    </tr>\n",
       "    <tr>\n",
       "      <th>std</th>\n",
       "      <td>0.0</td>\n",
       "      <td>0.498960</td>\n",
       "      <td>8.441139</td>\n",
       "      <td>6.938258</td>\n",
       "      <td>2589.143277</td>\n",
       "      <td>0.882234</td>\n",
       "      <td>18356.998626</td>\n",
       "      <td>94.779366</td>\n",
       "      <td>8151.124139</td>\n",
       "      <td>103.940159</td>\n",
       "      <td>...</td>\n",
       "      <td>1563.161433</td>\n",
       "      <td>1.617347</td>\n",
       "      <td>0.0</td>\n",
       "      <td>0.0</td>\n",
       "      <td>13236.200588</td>\n",
       "      <td>12620.572878</td>\n",
       "      <td>138.520913</td>\n",
       "      <td>143.239442</td>\n",
       "      <td>24.604171</td>\n",
       "      <td>9790.807572</td>\n",
       "    </tr>\n",
       "    <tr>\n",
       "      <th>min</th>\n",
       "      <td>2022.0</td>\n",
       "      <td>7.000000</td>\n",
       "      <td>1.000000</td>\n",
       "      <td>1.000000</td>\n",
       "      <td>-10000.000000</td>\n",
       "      <td>-10.000000</td>\n",
       "      <td>-10000.000000</td>\n",
       "      <td>0.000000</td>\n",
       "      <td>-9999.990000</td>\n",
       "      <td>0.000000</td>\n",
       "      <td>...</td>\n",
       "      <td>-9991.000000</td>\n",
       "      <td>0.000000</td>\n",
       "      <td>0.0</td>\n",
       "      <td>0.0</td>\n",
       "      <td>0.000000</td>\n",
       "      <td>0.000000</td>\n",
       "      <td>1.000000</td>\n",
       "      <td>0.000000</td>\n",
       "      <td>0.000000</td>\n",
       "      <td>0.000000</td>\n",
       "    </tr>\n",
       "    <tr>\n",
       "      <th>25%</th>\n",
       "      <td>2022.0</td>\n",
       "      <td>7.000000</td>\n",
       "      <td>9.000000</td>\n",
       "      <td>6.000000</td>\n",
       "      <td>0.000000</td>\n",
       "      <td>0.000000</td>\n",
       "      <td>-10000.000000</td>\n",
       "      <td>10.000000</td>\n",
       "      <td>0.000000</td>\n",
       "      <td>0.000000</td>\n",
       "      <td>...</td>\n",
       "      <td>0.000000</td>\n",
       "      <td>0.000000</td>\n",
       "      <td>0.0</td>\n",
       "      <td>0.0</td>\n",
       "      <td>0.000000</td>\n",
       "      <td>0.000000</td>\n",
       "      <td>19.000000</td>\n",
       "      <td>17.000000</td>\n",
       "      <td>0.000000</td>\n",
       "      <td>0.000000</td>\n",
       "    </tr>\n",
       "    <tr>\n",
       "      <th>50%</th>\n",
       "      <td>2022.0</td>\n",
       "      <td>8.000000</td>\n",
       "      <td>16.000000</td>\n",
       "      <td>13.000000</td>\n",
       "      <td>0.000000</td>\n",
       "      <td>0.000000</td>\n",
       "      <td>-1.000000</td>\n",
       "      <td>34.800000</td>\n",
       "      <td>0.000000</td>\n",
       "      <td>7.000000</td>\n",
       "      <td>...</td>\n",
       "      <td>0.000000</td>\n",
       "      <td>0.000000</td>\n",
       "      <td>0.0</td>\n",
       "      <td>0.0</td>\n",
       "      <td>9716.600000</td>\n",
       "      <td>5470.000000</td>\n",
       "      <td>60.000000</td>\n",
       "      <td>60.000000</td>\n",
       "      <td>0.000000</td>\n",
       "      <td>44.920000</td>\n",
       "    </tr>\n",
       "    <tr>\n",
       "      <th>75%</th>\n",
       "      <td>2022.0</td>\n",
       "      <td>8.000000</td>\n",
       "      <td>23.000000</td>\n",
       "      <td>19.000000</td>\n",
       "      <td>0.000000</td>\n",
       "      <td>0.000000</td>\n",
       "      <td>31200.080000</td>\n",
       "      <td>75.000000</td>\n",
       "      <td>4970.000000</td>\n",
       "      <td>82.000000</td>\n",
       "      <td>...</td>\n",
       "      <td>0.000000</td>\n",
       "      <td>0.000000</td>\n",
       "      <td>0.0</td>\n",
       "      <td>0.0</td>\n",
       "      <td>31999.990000</td>\n",
       "      <td>22000.000000</td>\n",
       "      <td>124.000000</td>\n",
       "      <td>124.000000</td>\n",
       "      <td>6.000000</td>\n",
       "      <td>4805.600000</td>\n",
       "    </tr>\n",
       "    <tr>\n",
       "      <th>max</th>\n",
       "      <td>2022.0</td>\n",
       "      <td>8.000000</td>\n",
       "      <td>31.000000</td>\n",
       "      <td>24.000000</td>\n",
       "      <td>32000.000000</td>\n",
       "      <td>0.000000</td>\n",
       "      <td>32000.000000</td>\n",
       "      <td>668.000000</td>\n",
       "      <td>32000.000000</td>\n",
       "      <td>668.000000</td>\n",
       "      <td>...</td>\n",
       "      <td>15000.000000</td>\n",
       "      <td>29.000000</td>\n",
       "      <td>0.0</td>\n",
       "      <td>0.0</td>\n",
       "      <td>32000.000000</td>\n",
       "      <td>32000.000000</td>\n",
       "      <td>668.000000</td>\n",
       "      <td>1294.000000</td>\n",
       "      <td>994.000000</td>\n",
       "      <td>32000.000000</td>\n",
       "    </tr>\n",
       "  </tbody>\n",
       "</table>\n",
       "<p>8 rows × 54 columns</p>\n",
       "</div>\n",
       "      <button class=\"colab-df-convert\" onclick=\"convertToInteractive('df-2ee6240f-39da-4c79-b377-5db788d879fe')\"\n",
       "              title=\"Convert this dataframe to an interactive table.\"\n",
       "              style=\"display:none;\">\n",
       "        \n",
       "  <svg xmlns=\"http://www.w3.org/2000/svg\" height=\"24px\"viewBox=\"0 0 24 24\"\n",
       "       width=\"24px\">\n",
       "    <path d=\"M0 0h24v24H0V0z\" fill=\"none\"/>\n",
       "    <path d=\"M18.56 5.44l.94 2.06.94-2.06 2.06-.94-2.06-.94-.94-2.06-.94 2.06-2.06.94zm-11 1L8.5 8.5l.94-2.06 2.06-.94-2.06-.94L8.5 2.5l-.94 2.06-2.06.94zm10 10l.94 2.06.94-2.06 2.06-.94-2.06-.94-.94-2.06-.94 2.06-2.06.94z\"/><path d=\"M17.41 7.96l-1.37-1.37c-.4-.4-.92-.59-1.43-.59-.52 0-1.04.2-1.43.59L10.3 9.45l-7.72 7.72c-.78.78-.78 2.05 0 2.83L4 21.41c.39.39.9.59 1.41.59.51 0 1.02-.2 1.41-.59l7.78-7.78 2.81-2.81c.8-.78.8-2.07 0-2.86zM5.41 20L4 18.59l7.72-7.72 1.47 1.35L5.41 20z\"/>\n",
       "  </svg>\n",
       "      </button>\n",
       "      \n",
       "  <style>\n",
       "    .colab-df-container {\n",
       "      display:flex;\n",
       "      flex-wrap:wrap;\n",
       "      gap: 12px;\n",
       "    }\n",
       "\n",
       "    .colab-df-convert {\n",
       "      background-color: #E8F0FE;\n",
       "      border: none;\n",
       "      border-radius: 50%;\n",
       "      cursor: pointer;\n",
       "      display: none;\n",
       "      fill: #1967D2;\n",
       "      height: 32px;\n",
       "      padding: 0 0 0 0;\n",
       "      width: 32px;\n",
       "    }\n",
       "\n",
       "    .colab-df-convert:hover {\n",
       "      background-color: #E2EBFA;\n",
       "      box-shadow: 0px 1px 2px rgba(60, 64, 67, 0.3), 0px 1px 3px 1px rgba(60, 64, 67, 0.15);\n",
       "      fill: #174EA6;\n",
       "    }\n",
       "\n",
       "    [theme=dark] .colab-df-convert {\n",
       "      background-color: #3B4455;\n",
       "      fill: #D2E3FC;\n",
       "    }\n",
       "\n",
       "    [theme=dark] .colab-df-convert:hover {\n",
       "      background-color: #434B5C;\n",
       "      box-shadow: 0px 1px 3px 1px rgba(0, 0, 0, 0.15);\n",
       "      filter: drop-shadow(0px 1px 2px rgba(0, 0, 0, 0.3));\n",
       "      fill: #FFFFFF;\n",
       "    }\n",
       "  </style>\n",
       "\n",
       "      <script>\n",
       "        const buttonEl =\n",
       "          document.querySelector('#df-2ee6240f-39da-4c79-b377-5db788d879fe button.colab-df-convert');\n",
       "        buttonEl.style.display =\n",
       "          google.colab.kernel.accessAllowed ? 'block' : 'none';\n",
       "\n",
       "        async function convertToInteractive(key) {\n",
       "          const element = document.querySelector('#df-2ee6240f-39da-4c79-b377-5db788d879fe');\n",
       "          const dataTable =\n",
       "            await google.colab.kernel.invokeFunction('convertToInteractive',\n",
       "                                                     [key], {});\n",
       "          if (!dataTable) return;\n",
       "\n",
       "          const docLinkHtml = 'Like what you see? Visit the ' +\n",
       "            '<a target=\"_blank\" href=https://colab.research.google.com/notebooks/data_table.ipynb>data table notebook</a>'\n",
       "            + ' to learn more about interactive tables.';\n",
       "          element.innerHTML = '';\n",
       "          dataTable['output_type'] = 'display_data';\n",
       "          await google.colab.output.renderOutput(dataTable, element);\n",
       "          const docLink = document.createElement('div');\n",
       "          docLink.innerHTML = docLinkHtml;\n",
       "          element.appendChild(docLink);\n",
       "        }\n",
       "      </script>\n",
       "    </div>\n",
       "  </div>\n",
       "  "
      ],
      "text/plain": [
       "           YEAR          MONTH            DAY         PERIOD    PRICE1_PAST  \\\n",
       "count  147485.0  147485.000000  147485.000000  147485.000000  147485.000000   \n",
       "mean     2022.0       7.532264      16.030729      12.516954     125.072698   \n",
       "std         0.0       0.498960       8.441139       6.938258    2589.143277   \n",
       "min      2022.0       7.000000       1.000000       1.000000  -10000.000000   \n",
       "25%      2022.0       7.000000       9.000000       6.000000       0.000000   \n",
       "50%      2022.0       8.000000      16.000000      13.000000       0.000000   \n",
       "75%      2022.0       8.000000      23.000000      19.000000       0.000000   \n",
       "max      2022.0       8.000000      31.000000      24.000000   32000.000000   \n",
       "\n",
       "       QUANTITY1_PAST    PRICE2_PAST  QUANTITY2_PAST    PRICE3_PAST  \\\n",
       "count   147485.000000  147485.000000   147485.000000  147485.000000   \n",
       "mean        -0.078449    6586.321508       67.329859    2489.539662   \n",
       "std          0.882234   18356.998626       94.779366    8151.124139   \n",
       "min        -10.000000  -10000.000000        0.000000   -9999.990000   \n",
       "25%          0.000000  -10000.000000       10.000000       0.000000   \n",
       "50%          0.000000      -1.000000       34.800000       0.000000   \n",
       "75%          0.000000   31200.080000       75.000000    4970.000000   \n",
       "max          0.000000   32000.000000      668.000000   32000.000000   \n",
       "\n",
       "       QUANTITY3_PAST  ...  PRICE10_FORECAST  QUANTITY10_FORECAST  \\\n",
       "count   147485.000000  ...     147485.000000        147485.000000   \n",
       "mean        62.484716  ...         46.803017             0.173557   \n",
       "std        103.940159  ...       1563.161433             1.617347   \n",
       "min          0.000000  ...      -9991.000000             0.000000   \n",
       "25%          0.000000  ...          0.000000             0.000000   \n",
       "50%          7.000000  ...          0.000000             0.000000   \n",
       "75%         82.000000  ...          0.000000             0.000000   \n",
       "max        668.000000  ...      15000.000000            29.000000   \n",
       "\n",
       "       PRICE11_FORECAST  QUANTITY11_FORECAST  MAX_PRICE_PAST  \\\n",
       "count          147485.0             147485.0   147485.000000   \n",
       "mean                0.0                  0.0    14435.533621   \n",
       "std                 0.0                  0.0    13236.200588   \n",
       "min                 0.0                  0.0        0.000000   \n",
       "25%                 0.0                  0.0        0.000000   \n",
       "50%                 0.0                  0.0     9716.600000   \n",
       "75%                 0.0                  0.0    31999.990000   \n",
       "max                 0.0                  0.0    32000.000000   \n",
       "\n",
       "       MAX_PRICE_FORECAST  MAX_QUANTITY_PAST  TOTAL_QUANTITY_FORECAST  \\\n",
       "count       147485.000000      147485.000000            147485.000000   \n",
       "mean         10923.647456         107.884782               107.207940   \n",
       "std          12620.572878         138.520913               143.239442   \n",
       "min              0.000000           1.000000                 0.000000   \n",
       "25%              0.000000          19.000000                17.000000   \n",
       "50%           5470.000000          60.000000                60.000000   \n",
       "75%          22000.000000         124.000000               124.000000   \n",
       "max          32000.000000         668.000000              1294.000000   \n",
       "\n",
       "       QUANTITY_ERROR    PRICE_ERROR  \n",
       "count   147485.000000  147485.000000  \n",
       "mean         7.651927    5360.183631  \n",
       "std         24.604171    9790.807572  \n",
       "min          0.000000       0.000000  \n",
       "25%          0.000000       0.000000  \n",
       "50%          0.000000      44.920000  \n",
       "75%          6.000000    4805.600000  \n",
       "max        994.000000   32000.000000  \n",
       "\n",
       "[8 rows x 54 columns]"
      ]
     },
     "execution_count": 30,
     "metadata": {},
     "output_type": "execute_result"
    }
   ],
   "source": [
    "merged_df.describe()"
   ]
  },
  {
   "cell_type": "code",
   "execution_count": null,
   "metadata": {
    "colab": {
     "base_uri": "https://localhost:8080/"
    },
    "id": "Cyg-Gjfed4lE",
    "outputId": "17d7e53f-f2d0-4071-ae34-8691ecf2dd5c"
   },
   "outputs": [
    {
     "data": {
      "text/plain": [
       "7330      2022-07-01 02:00:00\n",
       "7331      2022-07-01 03:00:00\n",
       "7332      2022-07-01 04:00:00\n",
       "7333      2022-07-01 05:00:00\n",
       "7334      2022-07-01 06:00:00\n",
       "                  ...        \n",
       "1143033   2022-08-25 21:00:00\n",
       "1143034   2022-08-25 22:00:00\n",
       "1143035   2022-08-25 23:00:00\n",
       "1143036   2022-08-26 00:00:00\n",
       "1143037   2022-08-26 01:00:00\n",
       "Name: DATETIME, Length: 147485, dtype: datetime64[ns]"
      ]
     },
     "execution_count": 31,
     "metadata": {},
     "output_type": "execute_result"
    }
   ],
   "source": [
    "merged_df.DATETIME"
   ]
  },
  {
   "cell_type": "code",
   "execution_count": null,
   "metadata": {
    "colab": {
     "base_uri": "https://localhost:8080/"
    },
    "id": "4Oh1zM51JFxM",
    "outputId": "a4a0ac83-62eb-4a57-c841-c0865693ca5f"
   },
   "outputs": [
    {
     "data": {
      "text/plain": [
       "(147485, 58)"
      ]
     },
     "execution_count": 32,
     "metadata": {},
     "output_type": "execute_result"
    }
   ],
   "source": [
    "merged_df.shape"
   ]
  },
  {
   "cell_type": "code",
   "execution_count": null,
   "metadata": {
    "colab": {
     "base_uri": "https://localhost:8080/"
    },
    "id": "fiy6vYZb35Cm",
    "outputId": "e001147e-82ac-4b42-e055-7f8901c39bc8"
   },
   "outputs": [
    {
     "data": {
      "text/plain": [
       "59413    4970.0\n",
       "Name: PRICE3_PAST, dtype: float64"
      ]
     },
     "execution_count": 52,
     "metadata": {},
     "output_type": "execute_result"
    }
   ],
   "source": [
    "merged_df.query(\"RESOURCE_NAME == '1APEC_G01' & PERIOD == 10 & DAY == 4 & MONTH == 8\")['PRICE3_PAST']\n"
   ]
  },
  {
   "cell_type": "code",
   "execution_count": null,
   "metadata": {
    "colab": {
     "base_uri": "https://localhost:8080/"
    },
    "id": "A7mzhb3O5J7U",
    "outputId": "7587e709-f37c-41ec-9460-0771e231d158"
   },
   "outputs": [
    {
     "data": {
      "text/plain": [
       "59413    4970.0\n",
       "Name: PRICE3_FORECAST, dtype: float64"
      ]
     },
     "execution_count": 50,
     "metadata": {},
     "output_type": "execute_result"
    }
   ],
   "source": [
    "merged_df.query(\"RESOURCE_NAME == '1APEC_G01' & PERIOD == 10 & DAY == 4 & MONTH == 8\")['PRICE3_FORECAST']\n"
   ]
  },
  {
   "cell_type": "markdown",
   "metadata": {
    "id": "A67W6yGuSRoG"
   },
   "source": [
    "# Uploading to GBQ"
   ]
  },
  {
   "cell_type": "code",
   "execution_count": null,
   "metadata": {
    "colab": {
     "base_uri": "https://localhost:8080/"
    },
    "id": "Pc2EWSImIpNw",
    "outputId": "b3a43020-c3e5-460b-d547-62e0eacc7507"
   },
   "outputs": [
    {
     "name": "stdout",
     "output_type": "stream",
     "text": [
      "Please visit this URL to authorize this application: https://accounts.google.com/o/oauth2/auth?response_type=code&client_id=725825577420-unm2gnkiprugilg743tkbig250f4sfsj.apps.googleusercontent.com&redirect_uri=urn%3Aietf%3Awg%3Aoauth%3A2.0%3Aoob&scope=https%3A%2F%2Fwww.googleapis.com%2Fauth%2Fbigquery&state=IBV1yqM6LfxUWyxu7hkiWfXD0HmfWq&prompt=consent&access_type=offline\n",
      "Enter the authorization code: 4/1ARtbsJqiwEP7XZKpt4AEtZEBL_SplOZesr0foVWvalb60L_ZtKzyvOFvRTM\n"
     ]
    },
    {
     "name": "stderr",
     "output_type": "stream",
     "text": [
      "1it [00:41, 41.91s/it]\n"
     ]
    }
   ],
   "source": [
    "destination_table_id = 'sample_dataset.mbo_merged_data'\n",
    "gbq_project_id = 'snap-internship'\n",
    "\n",
    "merged_df.to_gbq(project_id = gbq_project_id, destination_table = destination_table_id, if_exists='append')"
   ]
  },
  {
   "cell_type": "code",
   "execution_count": null,
   "metadata": {
    "colab": {
     "base_uri": "https://localhost:8080/"
    },
    "id": "CffqLcmBKhBU",
    "outputId": "a48f460e-0a45-4abb-e948-0a9846d2f13e"
   },
   "outputs": [
    {
     "data": {
      "text/plain": [
       "0"
      ]
     },
     "execution_count": 35,
     "metadata": {},
     "output_type": "execute_result"
    }
   ],
   "source": [
    "len(merged_df)-len(merged_df.drop_duplicates())"
   ]
  },
  {
   "cell_type": "markdown",
   "metadata": {
    "id": "AFgqcJ85x6xL"
   },
   "source": [
    "# Forecast Data"
   ]
  },
  {
   "cell_type": "code",
   "execution_count": null,
   "metadata": {
    "colab": {
     "base_uri": "https://localhost:8080/"
    },
    "id": "bS4dpW_Rx-DA",
    "outputId": "0353cd6f-3ee9-420e-c311-b5fc8f2b5377"
   },
   "outputs": [
    {
     "name": "stderr",
     "output_type": "stream",
     "text": [
      "/usr/local/lib/python3.7/dist-packages/ipykernel_launcher.py:1: SettingWithCopyWarning: \n",
      "A value is trying to be set on a copy of a slice from a DataFrame.\n",
      "Try using .loc[row_indexer,col_indexer] = value instead\n",
      "\n",
      "See the caveats in the documentation: https://pandas.pydata.org/pandas-docs/stable/user_guide/indexing.html#returning-a-view-versus-a-copy\n",
      "  \"\"\"Entry point for launching an IPython kernel.\n"
     ]
    }
   ],
   "source": [
    "forecast_df['DATE'] = pd.to_datetime(forecast_df[['YEAR', 'MONTH', 'DAY']])\n",
    "forecast_df = forecast_df.query(\"RESOURCE_NAME == @mbo_generators_list\")\n",
    "forecast_df.sort_values(['RESOURCE_NAME', 'YEAR', 'MONTH', 'DAY', 'PERIOD'], \n",
    "                                    inplace = True)\n",
    "forecast_df.fillna(0, inplace = True)\n",
    "\n",
    "forecast_df['MAX_PRICE'] =  forecast_df[['PRICE1','PRICE2','PRICE3','PRICE4',\n",
    "                                             'PRICE5','PRICE6','PRICE7','PRICE8',\n",
    "                                             'PRICE9','PRICE10','PRICE11']].max(axis=1)\n",
    "\n",
    "forecast_df['TOTAL_QUANTITY'] =   (forecast_df['QUANTITY1'] + forecast_df['QUANTITY2'] + forecast_df['QUANTITY3']\n",
    "                                                                                          + forecast_df['QUANTITY4'] + forecast_df['QUANTITY5'] + forecast_df['QUANTITY6']\n",
    "                                                                                          + forecast_df['QUANTITY7'] + forecast_df['QUANTITY8'] + forecast_df['QUANTITY9']\n",
    "                                                                                          + forecast_df['QUANTITY10'] + forecast_df['QUANTITY11'])\n",
    "\n",
    "forecast_df.rename(columns = {'DATE' : 'DATETIME'}, inplace = True)\n",
    "forecast_df['DATETIME'] = forecast_df['DATETIME'] + pd.to_timedelta(forecast_df.PERIOD, unit='h')"
   ]
  },
  {
   "cell_type": "code",
   "execution_count": null,
   "metadata": {
    "colab": {
     "base_uri": "https://localhost:8080/",
     "height": 473
    },
    "id": "XK4EdfDOyUxp",
    "outputId": "519b00ef-499e-4979-cf84-7f9eb9c59547"
   },
   "outputs": [
    {
     "data": {
      "text/html": [
       "\n",
       "  <div id=\"df-f7e76afc-36c1-480c-9b54-575b30a4b015\">\n",
       "    <div class=\"colab-df-container\">\n",
       "      <div>\n",
       "<style scoped>\n",
       "    .dataframe tbody tr th:only-of-type {\n",
       "        vertical-align: middle;\n",
       "    }\n",
       "\n",
       "    .dataframe tbody tr th {\n",
       "        vertical-align: top;\n",
       "    }\n",
       "\n",
       "    .dataframe thead th {\n",
       "        text-align: right;\n",
       "    }\n",
       "</style>\n",
       "<table border=\"1\" class=\"dataframe\">\n",
       "  <thead>\n",
       "    <tr style=\"text-align: right;\">\n",
       "      <th></th>\n",
       "      <th>RESOURCE_NAME</th>\n",
       "      <th>YEAR</th>\n",
       "      <th>MONTH</th>\n",
       "      <th>DAY</th>\n",
       "      <th>PERIOD</th>\n",
       "      <th>PRICE1</th>\n",
       "      <th>QUANTITY1</th>\n",
       "      <th>PRICE2</th>\n",
       "      <th>QUANTITY2</th>\n",
       "      <th>PRICE3</th>\n",
       "      <th>...</th>\n",
       "      <th>QUANTITY8</th>\n",
       "      <th>PRICE9</th>\n",
       "      <th>QUANTITY9</th>\n",
       "      <th>PRICE10</th>\n",
       "      <th>QUANTITY10</th>\n",
       "      <th>PRICE11</th>\n",
       "      <th>QUANTITY11</th>\n",
       "      <th>DATETIME</th>\n",
       "      <th>MAX_PRICE</th>\n",
       "      <th>TOTAL_QUANTITY</th>\n",
       "    </tr>\n",
       "  </thead>\n",
       "  <tbody>\n",
       "    <tr>\n",
       "      <th>719712</th>\n",
       "      <td>1AMBUK_U01</td>\n",
       "      <td>2022</td>\n",
       "      <td>7</td>\n",
       "      <td>1</td>\n",
       "      <td>1</td>\n",
       "      <td>8900.0</td>\n",
       "      <td>0</td>\n",
       "      <td>8900.0</td>\n",
       "      <td>35.0</td>\n",
       "      <td>0.0</td>\n",
       "      <td>...</td>\n",
       "      <td>0</td>\n",
       "      <td>0.0</td>\n",
       "      <td>0</td>\n",
       "      <td>0.0</td>\n",
       "      <td>0</td>\n",
       "      <td>0</td>\n",
       "      <td>0</td>\n",
       "      <td>2022-07-01 01:00:00</td>\n",
       "      <td>8900.0</td>\n",
       "      <td>35.0</td>\n",
       "    </tr>\n",
       "    <tr>\n",
       "      <th>719713</th>\n",
       "      <td>1AMBUK_U01</td>\n",
       "      <td>2022</td>\n",
       "      <td>7</td>\n",
       "      <td>1</td>\n",
       "      <td>2</td>\n",
       "      <td>8900.0</td>\n",
       "      <td>0</td>\n",
       "      <td>8900.0</td>\n",
       "      <td>35.0</td>\n",
       "      <td>0.0</td>\n",
       "      <td>...</td>\n",
       "      <td>0</td>\n",
       "      <td>0.0</td>\n",
       "      <td>0</td>\n",
       "      <td>0.0</td>\n",
       "      <td>0</td>\n",
       "      <td>0</td>\n",
       "      <td>0</td>\n",
       "      <td>2022-07-01 02:00:00</td>\n",
       "      <td>8900.0</td>\n",
       "      <td>35.0</td>\n",
       "    </tr>\n",
       "    <tr>\n",
       "      <th>719714</th>\n",
       "      <td>1AMBUK_U01</td>\n",
       "      <td>2022</td>\n",
       "      <td>7</td>\n",
       "      <td>1</td>\n",
       "      <td>3</td>\n",
       "      <td>8900.0</td>\n",
       "      <td>0</td>\n",
       "      <td>8900.0</td>\n",
       "      <td>35.0</td>\n",
       "      <td>0.0</td>\n",
       "      <td>...</td>\n",
       "      <td>0</td>\n",
       "      <td>0.0</td>\n",
       "      <td>0</td>\n",
       "      <td>0.0</td>\n",
       "      <td>0</td>\n",
       "      <td>0</td>\n",
       "      <td>0</td>\n",
       "      <td>2022-07-01 03:00:00</td>\n",
       "      <td>8900.0</td>\n",
       "      <td>35.0</td>\n",
       "    </tr>\n",
       "    <tr>\n",
       "      <th>719715</th>\n",
       "      <td>1AMBUK_U01</td>\n",
       "      <td>2022</td>\n",
       "      <td>7</td>\n",
       "      <td>1</td>\n",
       "      <td>4</td>\n",
       "      <td>8900.0</td>\n",
       "      <td>0</td>\n",
       "      <td>8900.0</td>\n",
       "      <td>35.0</td>\n",
       "      <td>0.0</td>\n",
       "      <td>...</td>\n",
       "      <td>0</td>\n",
       "      <td>0.0</td>\n",
       "      <td>0</td>\n",
       "      <td>0.0</td>\n",
       "      <td>0</td>\n",
       "      <td>0</td>\n",
       "      <td>0</td>\n",
       "      <td>2022-07-01 04:00:00</td>\n",
       "      <td>8900.0</td>\n",
       "      <td>35.0</td>\n",
       "    </tr>\n",
       "    <tr>\n",
       "      <th>719716</th>\n",
       "      <td>1AMBUK_U01</td>\n",
       "      <td>2022</td>\n",
       "      <td>7</td>\n",
       "      <td>1</td>\n",
       "      <td>5</td>\n",
       "      <td>8900.0</td>\n",
       "      <td>0</td>\n",
       "      <td>8900.0</td>\n",
       "      <td>35.0</td>\n",
       "      <td>0.0</td>\n",
       "      <td>...</td>\n",
       "      <td>0</td>\n",
       "      <td>0.0</td>\n",
       "      <td>0</td>\n",
       "      <td>0.0</td>\n",
       "      <td>0</td>\n",
       "      <td>0</td>\n",
       "      <td>0</td>\n",
       "      <td>2022-07-01 05:00:00</td>\n",
       "      <td>8900.0</td>\n",
       "      <td>35.0</td>\n",
       "    </tr>\n",
       "  </tbody>\n",
       "</table>\n",
       "<p>5 rows × 30 columns</p>\n",
       "</div>\n",
       "      <button class=\"colab-df-convert\" onclick=\"convertToInteractive('df-f7e76afc-36c1-480c-9b54-575b30a4b015')\"\n",
       "              title=\"Convert this dataframe to an interactive table.\"\n",
       "              style=\"display:none;\">\n",
       "        \n",
       "  <svg xmlns=\"http://www.w3.org/2000/svg\" height=\"24px\"viewBox=\"0 0 24 24\"\n",
       "       width=\"24px\">\n",
       "    <path d=\"M0 0h24v24H0V0z\" fill=\"none\"/>\n",
       "    <path d=\"M18.56 5.44l.94 2.06.94-2.06 2.06-.94-2.06-.94-.94-2.06-.94 2.06-2.06.94zm-11 1L8.5 8.5l.94-2.06 2.06-.94-2.06-.94L8.5 2.5l-.94 2.06-2.06.94zm10 10l.94 2.06.94-2.06 2.06-.94-2.06-.94-.94-2.06-.94 2.06-2.06.94z\"/><path d=\"M17.41 7.96l-1.37-1.37c-.4-.4-.92-.59-1.43-.59-.52 0-1.04.2-1.43.59L10.3 9.45l-7.72 7.72c-.78.78-.78 2.05 0 2.83L4 21.41c.39.39.9.59 1.41.59.51 0 1.02-.2 1.41-.59l7.78-7.78 2.81-2.81c.8-.78.8-2.07 0-2.86zM5.41 20L4 18.59l7.72-7.72 1.47 1.35L5.41 20z\"/>\n",
       "  </svg>\n",
       "      </button>\n",
       "      \n",
       "  <style>\n",
       "    .colab-df-container {\n",
       "      display:flex;\n",
       "      flex-wrap:wrap;\n",
       "      gap: 12px;\n",
       "    }\n",
       "\n",
       "    .colab-df-convert {\n",
       "      background-color: #E8F0FE;\n",
       "      border: none;\n",
       "      border-radius: 50%;\n",
       "      cursor: pointer;\n",
       "      display: none;\n",
       "      fill: #1967D2;\n",
       "      height: 32px;\n",
       "      padding: 0 0 0 0;\n",
       "      width: 32px;\n",
       "    }\n",
       "\n",
       "    .colab-df-convert:hover {\n",
       "      background-color: #E2EBFA;\n",
       "      box-shadow: 0px 1px 2px rgba(60, 64, 67, 0.3), 0px 1px 3px 1px rgba(60, 64, 67, 0.15);\n",
       "      fill: #174EA6;\n",
       "    }\n",
       "\n",
       "    [theme=dark] .colab-df-convert {\n",
       "      background-color: #3B4455;\n",
       "      fill: #D2E3FC;\n",
       "    }\n",
       "\n",
       "    [theme=dark] .colab-df-convert:hover {\n",
       "      background-color: #434B5C;\n",
       "      box-shadow: 0px 1px 3px 1px rgba(0, 0, 0, 0.15);\n",
       "      filter: drop-shadow(0px 1px 2px rgba(0, 0, 0, 0.3));\n",
       "      fill: #FFFFFF;\n",
       "    }\n",
       "  </style>\n",
       "\n",
       "      <script>\n",
       "        const buttonEl =\n",
       "          document.querySelector('#df-f7e76afc-36c1-480c-9b54-575b30a4b015 button.colab-df-convert');\n",
       "        buttonEl.style.display =\n",
       "          google.colab.kernel.accessAllowed ? 'block' : 'none';\n",
       "\n",
       "        async function convertToInteractive(key) {\n",
       "          const element = document.querySelector('#df-f7e76afc-36c1-480c-9b54-575b30a4b015');\n",
       "          const dataTable =\n",
       "            await google.colab.kernel.invokeFunction('convertToInteractive',\n",
       "                                                     [key], {});\n",
       "          if (!dataTable) return;\n",
       "\n",
       "          const docLinkHtml = 'Like what you see? Visit the ' +\n",
       "            '<a target=\"_blank\" href=https://colab.research.google.com/notebooks/data_table.ipynb>data table notebook</a>'\n",
       "            + ' to learn more about interactive tables.';\n",
       "          element.innerHTML = '';\n",
       "          dataTable['output_type'] = 'display_data';\n",
       "          await google.colab.output.renderOutput(dataTable, element);\n",
       "          const docLink = document.createElement('div');\n",
       "          docLink.innerHTML = docLinkHtml;\n",
       "          element.appendChild(docLink);\n",
       "        }\n",
       "      </script>\n",
       "    </div>\n",
       "  </div>\n",
       "  "
      ],
      "text/plain": [
       "       RESOURCE_NAME  YEAR  MONTH  DAY  PERIOD  PRICE1  QUANTITY1  PRICE2  \\\n",
       "719712    1AMBUK_U01  2022      7    1       1  8900.0          0  8900.0   \n",
       "719713    1AMBUK_U01  2022      7    1       2  8900.0          0  8900.0   \n",
       "719714    1AMBUK_U01  2022      7    1       3  8900.0          0  8900.0   \n",
       "719715    1AMBUK_U01  2022      7    1       4  8900.0          0  8900.0   \n",
       "719716    1AMBUK_U01  2022      7    1       5  8900.0          0  8900.0   \n",
       "\n",
       "        QUANTITY2  PRICE3  ...  QUANTITY8  PRICE9  QUANTITY9  PRICE10  \\\n",
       "719712       35.0     0.0  ...          0     0.0          0      0.0   \n",
       "719713       35.0     0.0  ...          0     0.0          0      0.0   \n",
       "719714       35.0     0.0  ...          0     0.0          0      0.0   \n",
       "719715       35.0     0.0  ...          0     0.0          0      0.0   \n",
       "719716       35.0     0.0  ...          0     0.0          0      0.0   \n",
       "\n",
       "        QUANTITY10  PRICE11  QUANTITY11            DATETIME  MAX_PRICE  \\\n",
       "719712           0        0           0 2022-07-01 01:00:00     8900.0   \n",
       "719713           0        0           0 2022-07-01 02:00:00     8900.0   \n",
       "719714           0        0           0 2022-07-01 03:00:00     8900.0   \n",
       "719715           0        0           0 2022-07-01 04:00:00     8900.0   \n",
       "719716           0        0           0 2022-07-01 05:00:00     8900.0   \n",
       "\n",
       "        TOTAL_QUANTITY  \n",
       "719712            35.0  \n",
       "719713            35.0  \n",
       "719714            35.0  \n",
       "719715            35.0  \n",
       "719716            35.0  \n",
       "\n",
       "[5 rows x 30 columns]"
      ]
     },
     "execution_count": 30,
     "metadata": {},
     "output_type": "execute_result"
    }
   ],
   "source": [
    "forecast_df.head()"
   ]
  },
  {
   "cell_type": "code",
   "execution_count": null,
   "metadata": {
    "id": "v25WHaIFhbq8"
   },
   "outputs": [],
   "source": [
    "# To standardize resource_name using a two-digit format\n",
    "\n",
    "def standardize_resource_name(x):\n",
    "  return \"0\" + str(x)[0:]\n",
    " \n",
    "    \n",
    "forecast_df['RESOURCE_NAME'] = forecast_df['RESOURCE_NAME'].apply(standardize_resource_name)"
   ]
  },
  {
   "cell_type": "code",
   "execution_count": null,
   "metadata": {
    "colab": {
     "base_uri": "https://localhost:8080/"
    },
    "id": "7GIxtm-Jhh_0",
    "outputId": "d49feaf9-35e3-43d4-e636-6e047956f182"
   },
   "outputs": [
    {
     "data": {
      "text/plain": [
       "array(['01AMBUK_U01', '01AMBUK_U02', '01AMBUK_U03', '01ANDA_G01',\n",
       "       '01ANGAT_A', '01ANGAT_M', '01APEC_G01', '01BAKUN_G01',\n",
       "       '01BAUANG_GS1', '01BAUANG_GS2', '01BAUANG_GS3', '01BINGA_U01',\n",
       "       '01BINGA_U02', '01BINGA_U03', '01BINGA_U04', '01CASECN_G01',\n",
       "       '01CIP2_G01', '01GNPD_U01', '01GNPD_U02', '01LAMAO_BAT',\n",
       "       '01LIMAY_BAT', '01LIMAY_U01', '01LIMAY_U02', '01LIMAY_U03',\n",
       "       '01LIMAY_U04', '01LIMAY_U05', '01LIMAY_U06', '01LIMAY_U07',\n",
       "       '01LIMAY_U08', '01MAGAT_U01', '01MAGAT_U02', '01MAGAT_U03',\n",
       "       '01MAGAT_U04', '01MARVEL_G01', '01MARVEL_G02', '01MASIWA_G01',\n",
       "       '01MSINLO_BAT', '01MSINLO_G01', '01MSINLO_G02', '01MSINLO_G03',\n",
       "       '01PETRON_G01', '01PNTBNG_U01', '01PNTBNG_U02', '01SMC_G01',\n",
       "       '01SMC_G02', '01SMC_G03', '01SMC_G04', '01SROQUE_U01',\n",
       "       '01SROQUE_U02', '01SROQUE_U03', '01SUAL_G01', '01SUAL_G02',\n",
       "       '01S_ENRO_G01', '01T_ASIA_G01', '01UPPC_G01', '02MILLEN_G01',\n",
       "       '02TMOBIL_G01', '02TMOBIL_G02', '02TMOBIL_G03', '02TMOBIL_G04',\n",
       "       '03AVION_U01', '03AVION_U02', '03BACMAN_U01', '03BACMAN_U02',\n",
       "       '03BACMAN_U03', '03BALUG_G01', '03BOTOCA_G01', '03CALACA_G01',\n",
       "       '03CALACA_G02', '03CALIRY_G01', '03CLBATO_G01', '03ILIJAN_G01',\n",
       "       '03ILIJAN_G02', '03INGRID_GS1', '03INGRID_GS2', '03INGRID_GS3',\n",
       "       '03INGRID_GS4', '03INGRID_GS5', '03INGRID_GS6', '03KAL_G01',\n",
       "       '03KAL_G02', '03KAL_G03', '03KAL_G04', '03MAJAY_G01',\n",
       "       '03MALAYA_G01', '03MALAYA_G02', '03MGI_G02', '03MGPP_G01',\n",
       "       '03MKBN_A', '03MKBN_B', '03MKBN_C', '03MKBN_D', '03MKBN_E',\n",
       "       '03ORMAT_G01', '03PAGBIL_G01', '03PAGBIL_G02', '03PAGBIL_G03',\n",
       "       '03PALAK_G01', '03QPPL_G01', '03RCBMI_G01', '03RCBMI_G02',\n",
       "       '03SBPL_G01', '03SLPGC_G01', '03SLPGC_G02', '03SLPGC_G03',\n",
       "       '03SLPGC_G04', '03SLTEC_G01', '03SLTEC_G02', '03SNGAB_G01',\n",
       "       '03STA-RI_G01', '03STA-RI_G02', '03STA-RI_G03', '03STA-RI_G04',\n",
       "       '03STA-RI_G05', '03STA-RI_G06', '03TIWI_A', '03TIWI_C',\n",
       "       '04IASMOD_G01', '04IASMOD_G02', '04IASMOD_G03', '04IASMOD_G04',\n",
       "       '04IASMOD_G05', '04IASMOD_G06', '04LEYTE_A', '04LGPP_G01',\n",
       "       '05CEDC_U01', '05CEDC_U02', '05CEDC_U03', '05CPPC_G01',\n",
       "       '05EAUC_G01', '05KSPC_G01', '05KSPC_G02', '05PHNPB3_G01',\n",
       "       '05THVI_U01', '05THVI_U02', '05TOLEDO_BAT', '05TPC_G01',\n",
       "       '05TPC_G02', '05TPVI_U01', '05TPVI_U02', '05TPVI_U03',\n",
       "       '05TPVI_U04', '05TPVI_U05', '05TPVI_U06', '06CENPRI_U01',\n",
       "       '06CENPRI_U02', '06CENPRI_U03', '06CENPRI_U04', '06CENPRI_U05',\n",
       "       '06NASULO_G01', '06PAL1A_G01', '06PAL2A_U01', '06PAL2A_U02',\n",
       "       '06PAL2A_U03', '06PAL2A_U04', '07BDPP_G01', '07LOBOC_G02',\n",
       "       '07SEVILL_G01', '07TAPAL_PB4', '08GLOBAL_G01', '08PALM_G01',\n",
       "       '08PDPP3_G01', '08PDPP_G01', '08PEDC_U01', '08PEDC_U02',\n",
       "       '08PEDC_U03', '08PPC1_A', '08PPC1_B', '08PPC_G02', '08STBAR_PB',\n",
       "       '08STBAR_PB2'], dtype=object)"
      ]
     },
     "execution_count": 32,
     "metadata": {},
     "output_type": "execute_result"
    }
   ],
   "source": [
    "forecast_df.RESOURCE_NAME.unique()"
   ]
  },
  {
   "cell_type": "code",
   "execution_count": null,
   "metadata": {
    "colab": {
     "base_uri": "https://localhost:8080/"
    },
    "id": "sHW9G_Q6yXCz",
    "outputId": "c643d4bf-8f3f-4e2c-d5c9-cffed335c392"
   },
   "outputs": [
    {
     "name": "stderr",
     "output_type": "stream",
     "text": [
      "1it [00:29, 29.71s/it]\n"
     ]
    }
   ],
   "source": [
    "destination_table_id = 'sample_dataset.mbo_forecast_data'\n",
    "gbq_project_id = 'snap-internship'\n",
    "\n",
    "forecast_df.to_gbq(project_id = gbq_project_id, destination_table = destination_table_id, if_exists='append')"
   ]
  },
  {
   "cell_type": "code",
   "execution_count": null,
   "metadata": {
    "colab": {
     "base_uri": "https://localhost:8080/"
    },
    "id": "65JNJV7SiDLU",
    "outputId": "1c90121b-2e76-490d-e65c-5b353f1667f0"
   },
   "outputs": [
    {
     "data": {
      "text/plain": [
       "158042   -9992.0\n",
       "Name: PRICE9, dtype: float64"
      ]
     },
     "execution_count": 33,
     "metadata": {},
     "output_type": "execute_result"
    }
   ],
   "source": [
    "forecast_df.query(\"RESOURCE_NAME == '01MSINLO_G03' & PERIOD == 3 & DAY == 17 & MONTH == 8\")['PRICE9']\n"
   ]
  },
  {
   "cell_type": "markdown",
   "metadata": {
    "id": "K26xaYrtivJo"
   },
   "source": [
    "# ML Part (for future project)"
   ]
  },
  {
   "cell_type": "code",
   "execution_count": null,
   "metadata": {
    "id": "1Tp4plToi8yM"
   },
   "outputs": [],
   "source": [
    "# merged_df['PRICE_ML'] = 15000\n",
    "# merged_df['QUANTITY_ML'] = 100\n",
    "\n",
    "# forecast_df['PRICE_ML'] = 15000\n",
    "# forecast_df['QUANTITY_ML'] = 100\n",
    "\n",
    "# merged_df['PRICE_ML_ERROR'] = abs(merged_df['PRICE_ML'] - merged_df['MAX_PRICE_FORECAST'])\n",
    "# merged_df['QUANTITY_ML_ERROR'] = abs(merged_df['PRICE_ML'] - merged_df['TOTAL_QUANTITY_FORECAST'])\n",
    "\n",
    "# forecast_df['PRICE_ML_ERROR'] = abs(forecast_df['PRICE_ML'] - forecast_df['MAX_PRICE'])\n",
    "# forecast_df['QUANTITY_ML_ERROR'] = abs(forecast_df['PRICE_ML'] - forecast_df['TOTAL_QUANTITY'])"
   ]
  },
  {
   "cell_type": "code",
   "execution_count": null,
   "metadata": {
    "colab": {
     "base_uri": "https://localhost:8080/"
    },
    "id": "yXt3Ei1NjYV4",
    "outputId": "cdbfcc27-972f-4418-c4c5-25177eebb050"
   },
   "outputs": [
    {
     "name": "stderr",
     "output_type": "stream",
     "text": [
      "1it [00:37, 37.08s/it]\n"
     ]
    }
   ],
   "source": [
    "# destination_table_id = 'sample_dataset.mbo_merged_data_wml'\n",
    "# gbq_project_id = 'snap-internship'\n",
    "\n",
    "# merged_df.to_gbq(project_id = gbq_project_id, destination_table = destination_table_id, if_exists='append')"
   ]
  },
  {
   "cell_type": "code",
   "execution_count": null,
   "metadata": {
    "colab": {
     "base_uri": "https://localhost:8080/"
    },
    "id": "GZOc5vrDjeFH",
    "outputId": "78f80d0d-9e7c-404f-cee3-b46451061934"
   },
   "outputs": [
    {
     "name": "stderr",
     "output_type": "stream",
     "text": [
      "1it [00:40, 40.49s/it]\n"
     ]
    }
   ],
   "source": [
    "# destination_table_id = 'sample_dataset.mbo_forecast_data_wml'\n",
    "# gbq_project_id = 'snap-internship'\n",
    "\n",
    "# forecast_df.to_gbq(project_id = gbq_project_id, destination_table = destination_table_id, if_exists='append')"
   ]
  },
  {
   "cell_type": "code",
   "execution_count": null,
   "metadata": {
    "id": "PNGVrYduwD8N"
   },
   "outputs": [],
   "source": []
  }
 ],
 "metadata": {
  "accelerator": "GPU",
  "colab": {
   "authorship_tag": "ABX9TyNycOPEn1PWrIauouijUDNh",
   "mount_file_id": "17z5GvTxcUD2M-89svhJj31i3ImfL22Zb",
   "provenance": [],
   "toc_visible": true
  },
  "kernelspec": {
   "display_name": "Python 3 (ipykernel)",
   "language": "python",
   "name": "python3"
  },
  "language_info": {
   "codemirror_mode": {
    "name": "ipython",
    "version": 3
   },
   "file_extension": ".py",
   "mimetype": "text/x-python",
   "name": "python",
   "nbconvert_exporter": "python",
   "pygments_lexer": "ipython3",
   "version": "3.9.12"
  }
 },
 "nbformat": 4,
 "nbformat_minor": 1
}
